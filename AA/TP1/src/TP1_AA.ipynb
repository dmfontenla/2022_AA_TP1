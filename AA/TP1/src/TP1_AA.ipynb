{
  "nbformat": 4,
  "nbformat_minor": 0,
  "metadata": {
    "colab": {
      "provenance": [],
      "collapsed_sections": [
        "1ScRhiUYYr4z",
        "yVmFeJC2YsAi",
        "XSwY_89NYsCy",
        "nOUooHUsYsFg",
        "FBFZzFQGYr97"
      ]
    },
    "kernelspec": {
      "name": "python3",
      "display_name": "Python 3"
    },
    "language_info": {
      "name": "python"
    }
  },
  "cells": [
    {
      "cell_type": "markdown",
      "source": [
        "# **Librerías y carga de dataset**"
      ],
      "metadata": {
        "id": "APfC1B6F0lT4"
      }
    },
    {
      "cell_type": "code",
      "source": [
        "!pip install --upgrade scikit-learn==0.20.3"
      ],
      "metadata": {
        "id": "emgpSpaW1U-h",
        "colab": {
          "base_uri": "https://localhost:8080/"
        },
        "outputId": "121b4a8f-01e2-47a5-9d28-a687c75f1fd5"
      },
      "execution_count": null,
      "outputs": [
        {
          "output_type": "stream",
          "name": "stdout",
          "text": [
            "Looking in indexes: https://pypi.org/simple, https://us-python.pkg.dev/colab-wheels/public/simple/\n",
            "Requirement already satisfied: scikit-learn==0.20.3 in /usr/local/lib/python3.7/dist-packages (0.20.3)\n",
            "Requirement already satisfied: scipy>=0.13.3 in /usr/local/lib/python3.7/dist-packages (from scikit-learn==0.20.3) (1.4.1)\n",
            "Requirement already satisfied: numpy>=1.8.2 in /usr/local/lib/python3.7/dist-packages (from scikit-learn==0.20.3) (1.21.6)\n"
          ]
        }
      ]
    },
    {
      "cell_type": "code",
      "source": [
        "from pydrive.auth import GoogleAuth\n",
        "from pydrive.drive import GoogleDrive\n",
        "from google.colab import auth\n",
        "from oauth2client.client import GoogleCredentials"
      ],
      "metadata": {
        "id": "iolO6GIxaOsL"
      },
      "execution_count": null,
      "outputs": []
    },
    {
      "cell_type": "code",
      "source": [
        "import pandas as pd\n",
        "import seaborn as sns\n",
        "import numpy as np\n",
        "import re\n",
        "import matplotlib.pyplot as plt"
      ],
      "metadata": {
        "id": "NbONfNPeaaue"
      },
      "execution_count": null,
      "outputs": []
    },
    {
      "cell_type": "code",
      "source": [
        "\n",
        "auth.authenticate_user()\n",
        "gauth = GoogleAuth()\n",
        "gauth.credentials = GoogleCredentials.get_application_default()\n",
        "drive = GoogleDrive(gauth)\n"
      ],
      "metadata": {
        "id": "7PlQ0hsEaQzo"
      },
      "execution_count": null,
      "outputs": []
    },
    {
      "cell_type": "code",
      "source": [
        "\n",
        "id='1T22LjoDHb0tdt8R1upQ_jpv323xlSJBj'\n",
        "downloaded = drive.CreateFile({'id': id})\n",
        "downloaded.GetContentFile('cabaventa.csv')\n"
      ],
      "metadata": {
        "id": "pZ9dkXCvaSo5"
      },
      "execution_count": null,
      "outputs": []
    },
    {
      "cell_type": "code",
      "source": [
        "df_train = pd.read_csv('/content/cabaventa.csv', index_col=\"id\")\n",
        "df_train.head(3) "
      ],
      "metadata": {
        "colab": {
          "base_uri": "https://localhost:8080/",
          "height": 494
        },
        "id": "gR9N5HZyaXn2",
        "outputId": "91753b15-5437-4270-f410-81f2b85b4340"
      },
      "execution_count": null,
      "outputs": [
        {
          "output_type": "execute_result",
          "data": {
            "text/plain": [
              "                          Unnamed: 0  Unnamed: 0.1    ad_type  start_date  \\\n",
              "id                                                                          \n",
              "hjHZd/BZqSBy3zb+RrqPYg==          43           137  Propiedad  2020-08-22   \n",
              "2KF4gGpEVoyqnMVFBcF7IA==          44           149  Propiedad  2020-08-22   \n",
              "BRbo9ohkAnogBN3vgcbh1Q==          45           153  Propiedad  2020-08-22   \n",
              "\n",
              "                            end_date  created_on        lat        lon  \\\n",
              "id                                                                       \n",
              "hjHZd/BZqSBy3zb+RrqPYg==  2020-09-04  2020-08-22 -34.638910 -58.476073   \n",
              "2KF4gGpEVoyqnMVFBcF7IA==  2020-09-04  2020-08-22 -34.562124 -58.464449   \n",
              "BRbo9ohkAnogBN3vgcbh1Q==  2020-09-04  2020-08-22 -34.598112 -58.400784   \n",
              "\n",
              "                                 l1               l2  ... bathrooms  \\\n",
              "id                                                    ...             \n",
              "hjHZd/BZqSBy3zb+RrqPYg==  Argentina  Capital Federal  ...       NaN   \n",
              "2KF4gGpEVoyqnMVFBcF7IA==  Argentina  Capital Federal  ...       NaN   \n",
              "BRbo9ohkAnogBN3vgcbh1Q==  Argentina  Capital Federal  ...       3.0   \n",
              "\n",
              "                         surface_total  surface_covered     price  currency  \\\n",
              "id                                                                            \n",
              "hjHZd/BZqSBy3zb+RrqPYg==         372.0              NaN  450000.0       USD   \n",
              "2KF4gGpEVoyqnMVFBcF7IA==           NaN              NaN   20000.0       USD   \n",
              "BRbo9ohkAnogBN3vgcbh1Q==         265.0            265.0  600000.0       USD   \n",
              "\n",
              "                          price_period  \\\n",
              "id                                       \n",
              "hjHZd/BZqSBy3zb+RrqPYg==       Mensual   \n",
              "2KF4gGpEVoyqnMVFBcF7IA==       Mensual   \n",
              "BRbo9ohkAnogBN3vgcbh1Q==       Mensual   \n",
              "\n",
              "                                                                      title  \\\n",
              "id                                                                            \n",
              "hjHZd/BZqSBy3zb+RrqPYg==                                  Exclente lote !!    \n",
              "2KF4gGpEVoyqnMVFBcF7IA==  Excelente cochera fija y cubierta en edificio ...   \n",
              "BRbo9ohkAnogBN3vgcbh1Q==              Oficina comercial · 265m² · 2 Cochera   \n",
              "\n",
              "                                                                description  \\\n",
              "id                                                                            \n",
              "hjHZd/BZqSBy3zb+RrqPYg==  Lote 365 mts 8,90 x 43 mts C3 II.. FOT 3.6 PAR...   \n",
              "2KF4gGpEVoyqnMVFBcF7IA==  Muy buena cochera, en el 4to piso en excelente...   \n",
              "BRbo9ohkAnogBN3vgcbh1Q==  Gran Oportunidad! Unica piso de oficinas de 26...   \n",
              "\n",
              "                          property_type  operation_type  \n",
              "id                                                       \n",
              "hjHZd/BZqSBy3zb+RrqPYg==           Lote           Venta  \n",
              "2KF4gGpEVoyqnMVFBcF7IA==        Cochera           Venta  \n",
              "BRbo9ohkAnogBN3vgcbh1Q==        Oficina           Venta  \n",
              "\n",
              "[3 rows x 26 columns]"
            ],
            "text/html": [
              "\n",
              "  <div id=\"df-95b47283-e287-4cb4-92b6-7ddc41d511e2\">\n",
              "    <div class=\"colab-df-container\">\n",
              "      <div>\n",
              "<style scoped>\n",
              "    .dataframe tbody tr th:only-of-type {\n",
              "        vertical-align: middle;\n",
              "    }\n",
              "\n",
              "    .dataframe tbody tr th {\n",
              "        vertical-align: top;\n",
              "    }\n",
              "\n",
              "    .dataframe thead th {\n",
              "        text-align: right;\n",
              "    }\n",
              "</style>\n",
              "<table border=\"1\" class=\"dataframe\">\n",
              "  <thead>\n",
              "    <tr style=\"text-align: right;\">\n",
              "      <th></th>\n",
              "      <th>Unnamed: 0</th>\n",
              "      <th>Unnamed: 0.1</th>\n",
              "      <th>ad_type</th>\n",
              "      <th>start_date</th>\n",
              "      <th>end_date</th>\n",
              "      <th>created_on</th>\n",
              "      <th>lat</th>\n",
              "      <th>lon</th>\n",
              "      <th>l1</th>\n",
              "      <th>l2</th>\n",
              "      <th>...</th>\n",
              "      <th>bathrooms</th>\n",
              "      <th>surface_total</th>\n",
              "      <th>surface_covered</th>\n",
              "      <th>price</th>\n",
              "      <th>currency</th>\n",
              "      <th>price_period</th>\n",
              "      <th>title</th>\n",
              "      <th>description</th>\n",
              "      <th>property_type</th>\n",
              "      <th>operation_type</th>\n",
              "    </tr>\n",
              "    <tr>\n",
              "      <th>id</th>\n",
              "      <th></th>\n",
              "      <th></th>\n",
              "      <th></th>\n",
              "      <th></th>\n",
              "      <th></th>\n",
              "      <th></th>\n",
              "      <th></th>\n",
              "      <th></th>\n",
              "      <th></th>\n",
              "      <th></th>\n",
              "      <th></th>\n",
              "      <th></th>\n",
              "      <th></th>\n",
              "      <th></th>\n",
              "      <th></th>\n",
              "      <th></th>\n",
              "      <th></th>\n",
              "      <th></th>\n",
              "      <th></th>\n",
              "      <th></th>\n",
              "      <th></th>\n",
              "    </tr>\n",
              "  </thead>\n",
              "  <tbody>\n",
              "    <tr>\n",
              "      <th>hjHZd/BZqSBy3zb+RrqPYg==</th>\n",
              "      <td>43</td>\n",
              "      <td>137</td>\n",
              "      <td>Propiedad</td>\n",
              "      <td>2020-08-22</td>\n",
              "      <td>2020-09-04</td>\n",
              "      <td>2020-08-22</td>\n",
              "      <td>-34.638910</td>\n",
              "      <td>-58.476073</td>\n",
              "      <td>Argentina</td>\n",
              "      <td>Capital Federal</td>\n",
              "      <td>...</td>\n",
              "      <td>NaN</td>\n",
              "      <td>372.0</td>\n",
              "      <td>NaN</td>\n",
              "      <td>450000.0</td>\n",
              "      <td>USD</td>\n",
              "      <td>Mensual</td>\n",
              "      <td>Exclente lote !!</td>\n",
              "      <td>Lote 365 mts 8,90 x 43 mts C3 II.. FOT 3.6 PAR...</td>\n",
              "      <td>Lote</td>\n",
              "      <td>Venta</td>\n",
              "    </tr>\n",
              "    <tr>\n",
              "      <th>2KF4gGpEVoyqnMVFBcF7IA==</th>\n",
              "      <td>44</td>\n",
              "      <td>149</td>\n",
              "      <td>Propiedad</td>\n",
              "      <td>2020-08-22</td>\n",
              "      <td>2020-09-04</td>\n",
              "      <td>2020-08-22</td>\n",
              "      <td>-34.562124</td>\n",
              "      <td>-58.464449</td>\n",
              "      <td>Argentina</td>\n",
              "      <td>Capital Federal</td>\n",
              "      <td>...</td>\n",
              "      <td>NaN</td>\n",
              "      <td>NaN</td>\n",
              "      <td>NaN</td>\n",
              "      <td>20000.0</td>\n",
              "      <td>USD</td>\n",
              "      <td>Mensual</td>\n",
              "      <td>Excelente cochera fija y cubierta en edificio ...</td>\n",
              "      <td>Muy buena cochera, en el 4to piso en excelente...</td>\n",
              "      <td>Cochera</td>\n",
              "      <td>Venta</td>\n",
              "    </tr>\n",
              "    <tr>\n",
              "      <th>BRbo9ohkAnogBN3vgcbh1Q==</th>\n",
              "      <td>45</td>\n",
              "      <td>153</td>\n",
              "      <td>Propiedad</td>\n",
              "      <td>2020-08-22</td>\n",
              "      <td>2020-09-04</td>\n",
              "      <td>2020-08-22</td>\n",
              "      <td>-34.598112</td>\n",
              "      <td>-58.400784</td>\n",
              "      <td>Argentina</td>\n",
              "      <td>Capital Federal</td>\n",
              "      <td>...</td>\n",
              "      <td>3.0</td>\n",
              "      <td>265.0</td>\n",
              "      <td>265.0</td>\n",
              "      <td>600000.0</td>\n",
              "      <td>USD</td>\n",
              "      <td>Mensual</td>\n",
              "      <td>Oficina comercial · 265m² · 2 Cochera</td>\n",
              "      <td>Gran Oportunidad! Unica piso de oficinas de 26...</td>\n",
              "      <td>Oficina</td>\n",
              "      <td>Venta</td>\n",
              "    </tr>\n",
              "  </tbody>\n",
              "</table>\n",
              "<p>3 rows × 26 columns</p>\n",
              "</div>\n",
              "      <button class=\"colab-df-convert\" onclick=\"convertToInteractive('df-95b47283-e287-4cb4-92b6-7ddc41d511e2')\"\n",
              "              title=\"Convert this dataframe to an interactive table.\"\n",
              "              style=\"display:none;\">\n",
              "        \n",
              "  <svg xmlns=\"http://www.w3.org/2000/svg\" height=\"24px\"viewBox=\"0 0 24 24\"\n",
              "       width=\"24px\">\n",
              "    <path d=\"M0 0h24v24H0V0z\" fill=\"none\"/>\n",
              "    <path d=\"M18.56 5.44l.94 2.06.94-2.06 2.06-.94-2.06-.94-.94-2.06-.94 2.06-2.06.94zm-11 1L8.5 8.5l.94-2.06 2.06-.94-2.06-.94L8.5 2.5l-.94 2.06-2.06.94zm10 10l.94 2.06.94-2.06 2.06-.94-2.06-.94-.94-2.06-.94 2.06-2.06.94z\"/><path d=\"M17.41 7.96l-1.37-1.37c-.4-.4-.92-.59-1.43-.59-.52 0-1.04.2-1.43.59L10.3 9.45l-7.72 7.72c-.78.78-.78 2.05 0 2.83L4 21.41c.39.39.9.59 1.41.59.51 0 1.02-.2 1.41-.59l7.78-7.78 2.81-2.81c.8-.78.8-2.07 0-2.86zM5.41 20L4 18.59l7.72-7.72 1.47 1.35L5.41 20z\"/>\n",
              "  </svg>\n",
              "      </button>\n",
              "      \n",
              "  <style>\n",
              "    .colab-df-container {\n",
              "      display:flex;\n",
              "      flex-wrap:wrap;\n",
              "      gap: 12px;\n",
              "    }\n",
              "\n",
              "    .colab-df-convert {\n",
              "      background-color: #E8F0FE;\n",
              "      border: none;\n",
              "      border-radius: 50%;\n",
              "      cursor: pointer;\n",
              "      display: none;\n",
              "      fill: #1967D2;\n",
              "      height: 32px;\n",
              "      padding: 0 0 0 0;\n",
              "      width: 32px;\n",
              "    }\n",
              "\n",
              "    .colab-df-convert:hover {\n",
              "      background-color: #E2EBFA;\n",
              "      box-shadow: 0px 1px 2px rgba(60, 64, 67, 0.3), 0px 1px 3px 1px rgba(60, 64, 67, 0.15);\n",
              "      fill: #174EA6;\n",
              "    }\n",
              "\n",
              "    [theme=dark] .colab-df-convert {\n",
              "      background-color: #3B4455;\n",
              "      fill: #D2E3FC;\n",
              "    }\n",
              "\n",
              "    [theme=dark] .colab-df-convert:hover {\n",
              "      background-color: #434B5C;\n",
              "      box-shadow: 0px 1px 3px 1px rgba(0, 0, 0, 0.15);\n",
              "      filter: drop-shadow(0px 1px 2px rgba(0, 0, 0, 0.3));\n",
              "      fill: #FFFFFF;\n",
              "    }\n",
              "  </style>\n",
              "\n",
              "      <script>\n",
              "        const buttonEl =\n",
              "          document.querySelector('#df-95b47283-e287-4cb4-92b6-7ddc41d511e2 button.colab-df-convert');\n",
              "        buttonEl.style.display =\n",
              "          google.colab.kernel.accessAllowed ? 'block' : 'none';\n",
              "\n",
              "        async function convertToInteractive(key) {\n",
              "          const element = document.querySelector('#df-95b47283-e287-4cb4-92b6-7ddc41d511e2');\n",
              "          const dataTable =\n",
              "            await google.colab.kernel.invokeFunction('convertToInteractive',\n",
              "                                                     [key], {});\n",
              "          if (!dataTable) return;\n",
              "\n",
              "          const docLinkHtml = 'Like what you see? Visit the ' +\n",
              "            '<a target=\"_blank\" href=https://colab.research.google.com/notebooks/data_table.ipynb>data table notebook</a>'\n",
              "            + ' to learn more about interactive tables.';\n",
              "          element.innerHTML = '';\n",
              "          dataTable['output_type'] = 'display_data';\n",
              "          await google.colab.output.renderOutput(dataTable, element);\n",
              "          const docLink = document.createElement('div');\n",
              "          docLink.innerHTML = docLinkHtml;\n",
              "          element.appendChild(docLink);\n",
              "        }\n",
              "      </script>\n",
              "    </div>\n",
              "  </div>\n",
              "  "
            ]
          },
          "metadata": {},
          "execution_count": 39
        }
      ]
    },
    {
      "cell_type": "code",
      "source": [
        "df_train.columns"
      ],
      "metadata": {
        "colab": {
          "base_uri": "https://localhost:8080/"
        },
        "id": "TbqohxP9g_lD",
        "outputId": "83627496-52ed-427d-f24c-bbc39fa1f6cf"
      },
      "execution_count": null,
      "outputs": [
        {
          "output_type": "execute_result",
          "data": {
            "text/plain": [
              "Index(['Unnamed: 0', 'Unnamed: 0.1', 'ad_type', 'start_date', 'end_date',\n",
              "       'created_on', 'lat', 'lon', 'l1', 'l2', 'l3', 'l4', 'l5', 'l6', 'rooms',\n",
              "       'bedrooms', 'bathrooms', 'surface_total', 'surface_covered', 'price',\n",
              "       'currency', 'price_period', 'title', 'description', 'property_type',\n",
              "       'operation_type'],\n",
              "      dtype='object')"
            ]
          },
          "metadata": {},
          "execution_count": 40
        }
      ]
    },
    {
      "cell_type": "code",
      "source": [
        "df_train.columns"
      ],
      "metadata": {
        "colab": {
          "base_uri": "https://localhost:8080/"
        },
        "id": "mH8UidwQVkd4",
        "outputId": "fe93705c-e363-428c-8a42-984f9e9b0b06"
      },
      "execution_count": null,
      "outputs": [
        {
          "output_type": "execute_result",
          "data": {
            "text/plain": [
              "Index(['Unnamed: 0', 'Unnamed: 0.1', 'ad_type', 'start_date', 'end_date',\n",
              "       'created_on', 'lat', 'lon', 'l1', 'l2', 'l3', 'l4', 'l5', 'l6', 'rooms',\n",
              "       'bedrooms', 'bathrooms', 'surface_total', 'surface_covered', 'price',\n",
              "       'currency', 'price_period', 'title', 'description', 'property_type',\n",
              "       'operation_type'],\n",
              "      dtype='object')"
            ]
          },
          "metadata": {},
          "execution_count": 41
        }
      ]
    },
    {
      "cell_type": "code",
      "source": [
        "df_train['ad_type'].value_counts()"
      ],
      "metadata": {
        "colab": {
          "base_uri": "https://localhost:8080/"
        },
        "id": "tsg_zlmFkKJ1",
        "outputId": "c6a79e13-d3dc-4271-db36-420b622543a4"
      },
      "execution_count": null,
      "outputs": [
        {
          "output_type": "execute_result",
          "data": {
            "text/plain": [
              "Propiedad    183810\n",
              "Name: ad_type, dtype: int64"
            ]
          },
          "metadata": {},
          "execution_count": 42
        }
      ]
    },
    {
      "cell_type": "markdown",
      "source": [
        "# **Consigna 1**\n",
        "\n",
        "¿Qué información (atributos) hay disponibles para hacer la predicción? Caracterizar cada variable (tipo de atributos -categóricos, numéricos, ordinales-, rangos de valores, etc."
      ],
      "metadata": {
        "id": "eEq2GuVsdtfX"
      }
    },
    {
      "cell_type": "code",
      "source": [
        "df_train.columns"
      ],
      "metadata": {
        "colab": {
          "base_uri": "https://localhost:8080/"
        },
        "id": "5KmS1fc9cEYA",
        "outputId": "cc68b10d-486b-47c1-88a1-2009fef3db23"
      },
      "execution_count": null,
      "outputs": [
        {
          "output_type": "execute_result",
          "data": {
            "text/plain": [
              "Index(['Unnamed: 0', 'Unnamed: 0.1', 'ad_type', 'start_date', 'end_date',\n",
              "       'created_on', 'lat', 'lon', 'l1', 'l2', 'l3', 'l4', 'l5', 'l6', 'rooms',\n",
              "       'bedrooms', 'bathrooms', 'surface_total', 'surface_covered', 'price',\n",
              "       'currency', 'price_period', 'title', 'description', 'property_type',\n",
              "       'operation_type'],\n",
              "      dtype='object')"
            ]
          },
          "metadata": {},
          "execution_count": 43
        }
      ]
    },
    {
      "cell_type": "code",
      "source": [
        "df_train.info(verbose= True)"
      ],
      "metadata": {
        "colab": {
          "base_uri": "https://localhost:8080/"
        },
        "id": "wZ8NZeQNeB_f",
        "outputId": "9a3d2d1a-6c48-4aaf-9ece-6e74d69ee492"
      },
      "execution_count": null,
      "outputs": [
        {
          "output_type": "stream",
          "name": "stdout",
          "text": [
            "<class 'pandas.core.frame.DataFrame'>\n",
            "Index: 183810 entries, hjHZd/BZqSBy3zb+RrqPYg== to fJLVUIziPl31ACoaE/fj1g==\n",
            "Data columns (total 26 columns):\n",
            " #   Column           Non-Null Count   Dtype  \n",
            "---  ------           --------------   -----  \n",
            " 0   Unnamed: 0       183810 non-null  int64  \n",
            " 1   Unnamed: 0.1     183810 non-null  int64  \n",
            " 2   ad_type          183810 non-null  object \n",
            " 3   start_date       183810 non-null  object \n",
            " 4   end_date         183810 non-null  object \n",
            " 5   created_on       183810 non-null  object \n",
            " 6   lat              172362 non-null  float64\n",
            " 7   lon              172362 non-null  float64\n",
            " 8   l1               183810 non-null  object \n",
            " 9   l2               183810 non-null  object \n",
            " 10  l3               181963 non-null  object \n",
            " 11  l4               7263 non-null    object \n",
            " 12  l5               0 non-null       float64\n",
            " 13  l6               0 non-null       float64\n",
            " 14  rooms            155680 non-null  float64\n",
            " 15  bedrooms         133834 non-null  float64\n",
            " 16  bathrooms        158892 non-null  float64\n",
            " 17  surface_total    122908 non-null  float64\n",
            " 18  surface_covered  121282 non-null  float64\n",
            " 19  price            180418 non-null  float64\n",
            " 20  currency         180136 non-null  object \n",
            " 21  price_period     88720 non-null   object \n",
            " 22  title            183810 non-null  object \n",
            " 23  description      183810 non-null  object \n",
            " 24  property_type    183810 non-null  object \n",
            " 25  operation_type   183810 non-null  object \n",
            "dtypes: float64(10), int64(2), object(14)\n",
            "memory usage: 37.9+ MB\n"
          ]
        }
      ]
    },
    {
      "cell_type": "code",
      "source": [
        "df_train.shape"
      ],
      "metadata": {
        "colab": {
          "base_uri": "https://localhost:8080/"
        },
        "id": "Gpc2wTpe-zJC",
        "outputId": "8d70f912-e525-489d-f1ff-0540c34970e7"
      },
      "execution_count": null,
      "outputs": [
        {
          "output_type": "execute_result",
          "data": {
            "text/plain": [
              "(183810, 26)"
            ]
          },
          "metadata": {},
          "execution_count": 45
        }
      ]
    },
    {
      "cell_type": "code",
      "source": [
        "df_train.l1.value_counts(dropna = False)"
      ],
      "metadata": {
        "colab": {
          "base_uri": "https://localhost:8080/"
        },
        "id": "yGp5SuZwk3w5",
        "outputId": "b67d09c6-04e1-47ec-d438-b3a0b255c752"
      },
      "execution_count": null,
      "outputs": [
        {
          "output_type": "execute_result",
          "data": {
            "text/plain": [
              "Argentina    183810\n",
              "Name: l1, dtype: int64"
            ]
          },
          "metadata": {},
          "execution_count": 46
        }
      ]
    },
    {
      "cell_type": "code",
      "source": [
        "df_train.l2.value_counts(dropna = False)"
      ],
      "metadata": {
        "id": "2LfSSDWqlByw",
        "outputId": "52a67b4c-d9bc-4c4d-de73-6a6f277ab934",
        "colab": {
          "base_uri": "https://localhost:8080/"
        }
      },
      "execution_count": null,
      "outputs": [
        {
          "output_type": "execute_result",
          "data": {
            "text/plain": [
              "Capital Federal    183810\n",
              "Name: l2, dtype: int64"
            ]
          },
          "metadata": {},
          "execution_count": 47
        }
      ]
    },
    {
      "cell_type": "code",
      "source": [
        "df_train.ad_type.value_counts(dropna = False)"
      ],
      "metadata": {
        "colab": {
          "base_uri": "https://localhost:8080/"
        },
        "id": "XYdetQT9pPa9",
        "outputId": "ac2710e0-def6-47f0-86cf-724c67ef6e2e"
      },
      "execution_count": null,
      "outputs": [
        {
          "output_type": "execute_result",
          "data": {
            "text/plain": [
              "Propiedad    183810\n",
              "Name: ad_type, dtype: int64"
            ]
          },
          "metadata": {},
          "execution_count": 48
        }
      ]
    },
    {
      "cell_type": "code",
      "source": [
        "df_train.l4.value_counts(dropna = False)"
      ],
      "metadata": {
        "colab": {
          "base_uri": "https://localhost:8080/"
        },
        "id": "V-gtCMnCp6vK",
        "outputId": "f6ea5e5b-2cdb-40cd-b58f-2e009e13aafd"
      },
      "execution_count": null,
      "outputs": [
        {
          "output_type": "execute_result",
          "data": {
            "text/plain": [
              "NaN                  176547\n",
              "Palermo Hollywood      3178\n",
              "Palermo Chico          2092\n",
              "Palermo Soho           1636\n",
              "Palermo Viejo           357\n",
              "Name: l4, dtype: int64"
            ]
          },
          "metadata": {},
          "execution_count": 49
        }
      ]
    },
    {
      "cell_type": "code",
      "source": [
        "df_train.describe().T"
      ],
      "metadata": {
        "colab": {
          "base_uri": "https://localhost:8080/",
          "height": 426
        },
        "id": "fqP-ZJU5cTcH",
        "outputId": "18b8151a-7681-4e98-d0e0-ec23eb4388c4"
      },
      "execution_count": null,
      "outputs": [
        {
          "output_type": "execute_result",
          "data": {
            "text/plain": [
              "                    count           mean            std         min  \\\n",
              "Unnamed: 0       183810.0  134021.664452   76980.476727   43.000000   \n",
              "Unnamed: 0.1     183810.0  503011.040422  291528.040604  137.000000   \n",
              "lat              172362.0     -34.590007       0.376025  -53.788624   \n",
              "lon              172362.0     -58.462583       0.514948 -100.469651   \n",
              "l5                    0.0            NaN            NaN         NaN   \n",
              "l6                    0.0            NaN            NaN         NaN   \n",
              "rooms            155680.0       2.706719       1.520259    1.000000   \n",
              "bedrooms         133834.0       1.983696       2.327565   -2.000000   \n",
              "bathrooms        158892.0       1.584221       0.963704    1.000000   \n",
              "surface_total    122908.0     174.637330    1461.008110   10.000000   \n",
              "surface_covered  121282.0     148.706692    3064.441474    1.000000   \n",
              "price            180418.0  296719.145906  851291.624660    0.000000   \n",
              "\n",
              "                           25%            50%            75%           max  \n",
              "Unnamed: 0        67547.250000  134740.500000  200518.750000  2.651240e+05  \n",
              "Unnamed: 0.1     249768.250000  513589.500000  748791.750000  9.999970e+05  \n",
              "lat                 -34.615663     -34.596872     -34.577306  2.975337e+01  \n",
              "lon                 -58.464658     -58.439264     -58.408084 -5.490771e+00  \n",
              "l5                         NaN            NaN            NaN           NaN  \n",
              "l6                         NaN            NaN            NaN           NaN  \n",
              "rooms                 2.000000       3.000000       4.000000  4.000000e+01  \n",
              "bedrooms              1.000000       2.000000       3.000000  2.860000e+02  \n",
              "bathrooms             1.000000       1.000000       2.000000  2.000000e+01  \n",
              "surface_total        45.000000      70.000000     127.000000  1.403800e+05  \n",
              "surface_covered      41.000000      60.000000     103.000000  9.500000e+05  \n",
              "price             99000.000000  159000.000000  280000.000000  1.110000e+08  "
            ],
            "text/html": [
              "\n",
              "  <div id=\"df-1de807f3-5544-45e0-818f-8e86503b8066\">\n",
              "    <div class=\"colab-df-container\">\n",
              "      <div>\n",
              "<style scoped>\n",
              "    .dataframe tbody tr th:only-of-type {\n",
              "        vertical-align: middle;\n",
              "    }\n",
              "\n",
              "    .dataframe tbody tr th {\n",
              "        vertical-align: top;\n",
              "    }\n",
              "\n",
              "    .dataframe thead th {\n",
              "        text-align: right;\n",
              "    }\n",
              "</style>\n",
              "<table border=\"1\" class=\"dataframe\">\n",
              "  <thead>\n",
              "    <tr style=\"text-align: right;\">\n",
              "      <th></th>\n",
              "      <th>count</th>\n",
              "      <th>mean</th>\n",
              "      <th>std</th>\n",
              "      <th>min</th>\n",
              "      <th>25%</th>\n",
              "      <th>50%</th>\n",
              "      <th>75%</th>\n",
              "      <th>max</th>\n",
              "    </tr>\n",
              "  </thead>\n",
              "  <tbody>\n",
              "    <tr>\n",
              "      <th>Unnamed: 0</th>\n",
              "      <td>183810.0</td>\n",
              "      <td>134021.664452</td>\n",
              "      <td>76980.476727</td>\n",
              "      <td>43.000000</td>\n",
              "      <td>67547.250000</td>\n",
              "      <td>134740.500000</td>\n",
              "      <td>200518.750000</td>\n",
              "      <td>2.651240e+05</td>\n",
              "    </tr>\n",
              "    <tr>\n",
              "      <th>Unnamed: 0.1</th>\n",
              "      <td>183810.0</td>\n",
              "      <td>503011.040422</td>\n",
              "      <td>291528.040604</td>\n",
              "      <td>137.000000</td>\n",
              "      <td>249768.250000</td>\n",
              "      <td>513589.500000</td>\n",
              "      <td>748791.750000</td>\n",
              "      <td>9.999970e+05</td>\n",
              "    </tr>\n",
              "    <tr>\n",
              "      <th>lat</th>\n",
              "      <td>172362.0</td>\n",
              "      <td>-34.590007</td>\n",
              "      <td>0.376025</td>\n",
              "      <td>-53.788624</td>\n",
              "      <td>-34.615663</td>\n",
              "      <td>-34.596872</td>\n",
              "      <td>-34.577306</td>\n",
              "      <td>2.975337e+01</td>\n",
              "    </tr>\n",
              "    <tr>\n",
              "      <th>lon</th>\n",
              "      <td>172362.0</td>\n",
              "      <td>-58.462583</td>\n",
              "      <td>0.514948</td>\n",
              "      <td>-100.469651</td>\n",
              "      <td>-58.464658</td>\n",
              "      <td>-58.439264</td>\n",
              "      <td>-58.408084</td>\n",
              "      <td>-5.490771e+00</td>\n",
              "    </tr>\n",
              "    <tr>\n",
              "      <th>l5</th>\n",
              "      <td>0.0</td>\n",
              "      <td>NaN</td>\n",
              "      <td>NaN</td>\n",
              "      <td>NaN</td>\n",
              "      <td>NaN</td>\n",
              "      <td>NaN</td>\n",
              "      <td>NaN</td>\n",
              "      <td>NaN</td>\n",
              "    </tr>\n",
              "    <tr>\n",
              "      <th>l6</th>\n",
              "      <td>0.0</td>\n",
              "      <td>NaN</td>\n",
              "      <td>NaN</td>\n",
              "      <td>NaN</td>\n",
              "      <td>NaN</td>\n",
              "      <td>NaN</td>\n",
              "      <td>NaN</td>\n",
              "      <td>NaN</td>\n",
              "    </tr>\n",
              "    <tr>\n",
              "      <th>rooms</th>\n",
              "      <td>155680.0</td>\n",
              "      <td>2.706719</td>\n",
              "      <td>1.520259</td>\n",
              "      <td>1.000000</td>\n",
              "      <td>2.000000</td>\n",
              "      <td>3.000000</td>\n",
              "      <td>4.000000</td>\n",
              "      <td>4.000000e+01</td>\n",
              "    </tr>\n",
              "    <tr>\n",
              "      <th>bedrooms</th>\n",
              "      <td>133834.0</td>\n",
              "      <td>1.983696</td>\n",
              "      <td>2.327565</td>\n",
              "      <td>-2.000000</td>\n",
              "      <td>1.000000</td>\n",
              "      <td>2.000000</td>\n",
              "      <td>3.000000</td>\n",
              "      <td>2.860000e+02</td>\n",
              "    </tr>\n",
              "    <tr>\n",
              "      <th>bathrooms</th>\n",
              "      <td>158892.0</td>\n",
              "      <td>1.584221</td>\n",
              "      <td>0.963704</td>\n",
              "      <td>1.000000</td>\n",
              "      <td>1.000000</td>\n",
              "      <td>1.000000</td>\n",
              "      <td>2.000000</td>\n",
              "      <td>2.000000e+01</td>\n",
              "    </tr>\n",
              "    <tr>\n",
              "      <th>surface_total</th>\n",
              "      <td>122908.0</td>\n",
              "      <td>174.637330</td>\n",
              "      <td>1461.008110</td>\n",
              "      <td>10.000000</td>\n",
              "      <td>45.000000</td>\n",
              "      <td>70.000000</td>\n",
              "      <td>127.000000</td>\n",
              "      <td>1.403800e+05</td>\n",
              "    </tr>\n",
              "    <tr>\n",
              "      <th>surface_covered</th>\n",
              "      <td>121282.0</td>\n",
              "      <td>148.706692</td>\n",
              "      <td>3064.441474</td>\n",
              "      <td>1.000000</td>\n",
              "      <td>41.000000</td>\n",
              "      <td>60.000000</td>\n",
              "      <td>103.000000</td>\n",
              "      <td>9.500000e+05</td>\n",
              "    </tr>\n",
              "    <tr>\n",
              "      <th>price</th>\n",
              "      <td>180418.0</td>\n",
              "      <td>296719.145906</td>\n",
              "      <td>851291.624660</td>\n",
              "      <td>0.000000</td>\n",
              "      <td>99000.000000</td>\n",
              "      <td>159000.000000</td>\n",
              "      <td>280000.000000</td>\n",
              "      <td>1.110000e+08</td>\n",
              "    </tr>\n",
              "  </tbody>\n",
              "</table>\n",
              "</div>\n",
              "      <button class=\"colab-df-convert\" onclick=\"convertToInteractive('df-1de807f3-5544-45e0-818f-8e86503b8066')\"\n",
              "              title=\"Convert this dataframe to an interactive table.\"\n",
              "              style=\"display:none;\">\n",
              "        \n",
              "  <svg xmlns=\"http://www.w3.org/2000/svg\" height=\"24px\"viewBox=\"0 0 24 24\"\n",
              "       width=\"24px\">\n",
              "    <path d=\"M0 0h24v24H0V0z\" fill=\"none\"/>\n",
              "    <path d=\"M18.56 5.44l.94 2.06.94-2.06 2.06-.94-2.06-.94-.94-2.06-.94 2.06-2.06.94zm-11 1L8.5 8.5l.94-2.06 2.06-.94-2.06-.94L8.5 2.5l-.94 2.06-2.06.94zm10 10l.94 2.06.94-2.06 2.06-.94-2.06-.94-.94-2.06-.94 2.06-2.06.94z\"/><path d=\"M17.41 7.96l-1.37-1.37c-.4-.4-.92-.59-1.43-.59-.52 0-1.04.2-1.43.59L10.3 9.45l-7.72 7.72c-.78.78-.78 2.05 0 2.83L4 21.41c.39.39.9.59 1.41.59.51 0 1.02-.2 1.41-.59l7.78-7.78 2.81-2.81c.8-.78.8-2.07 0-2.86zM5.41 20L4 18.59l7.72-7.72 1.47 1.35L5.41 20z\"/>\n",
              "  </svg>\n",
              "      </button>\n",
              "      \n",
              "  <style>\n",
              "    .colab-df-container {\n",
              "      display:flex;\n",
              "      flex-wrap:wrap;\n",
              "      gap: 12px;\n",
              "    }\n",
              "\n",
              "    .colab-df-convert {\n",
              "      background-color: #E8F0FE;\n",
              "      border: none;\n",
              "      border-radius: 50%;\n",
              "      cursor: pointer;\n",
              "      display: none;\n",
              "      fill: #1967D2;\n",
              "      height: 32px;\n",
              "      padding: 0 0 0 0;\n",
              "      width: 32px;\n",
              "    }\n",
              "\n",
              "    .colab-df-convert:hover {\n",
              "      background-color: #E2EBFA;\n",
              "      box-shadow: 0px 1px 2px rgba(60, 64, 67, 0.3), 0px 1px 3px 1px rgba(60, 64, 67, 0.15);\n",
              "      fill: #174EA6;\n",
              "    }\n",
              "\n",
              "    [theme=dark] .colab-df-convert {\n",
              "      background-color: #3B4455;\n",
              "      fill: #D2E3FC;\n",
              "    }\n",
              "\n",
              "    [theme=dark] .colab-df-convert:hover {\n",
              "      background-color: #434B5C;\n",
              "      box-shadow: 0px 1px 3px 1px rgba(0, 0, 0, 0.15);\n",
              "      filter: drop-shadow(0px 1px 2px rgba(0, 0, 0, 0.3));\n",
              "      fill: #FFFFFF;\n",
              "    }\n",
              "  </style>\n",
              "\n",
              "      <script>\n",
              "        const buttonEl =\n",
              "          document.querySelector('#df-1de807f3-5544-45e0-818f-8e86503b8066 button.colab-df-convert');\n",
              "        buttonEl.style.display =\n",
              "          google.colab.kernel.accessAllowed ? 'block' : 'none';\n",
              "\n",
              "        async function convertToInteractive(key) {\n",
              "          const element = document.querySelector('#df-1de807f3-5544-45e0-818f-8e86503b8066');\n",
              "          const dataTable =\n",
              "            await google.colab.kernel.invokeFunction('convertToInteractive',\n",
              "                                                     [key], {});\n",
              "          if (!dataTable) return;\n",
              "\n",
              "          const docLinkHtml = 'Like what you see? Visit the ' +\n",
              "            '<a target=\"_blank\" href=https://colab.research.google.com/notebooks/data_table.ipynb>data table notebook</a>'\n",
              "            + ' to learn more about interactive tables.';\n",
              "          element.innerHTML = '';\n",
              "          dataTable['output_type'] = 'display_data';\n",
              "          await google.colab.output.renderOutput(dataTable, element);\n",
              "          const docLink = document.createElement('div');\n",
              "          docLink.innerHTML = docLinkHtml;\n",
              "          element.appendChild(docLink);\n",
              "        }\n",
              "      </script>\n",
              "    </div>\n",
              "  </div>\n",
              "  "
            ]
          },
          "metadata": {},
          "execution_count": 50
        }
      ]
    },
    {
      "cell_type": "code",
      "source": [
        "df_train.operation_type.value_counts(dropna = False)"
      ],
      "metadata": {
        "colab": {
          "base_uri": "https://localhost:8080/"
        },
        "id": "WBsE0XyxtwM-",
        "outputId": "7de8d4a6-17bc-4b1e-e0ae-cbac2586599e"
      },
      "execution_count": null,
      "outputs": [
        {
          "output_type": "execute_result",
          "data": {
            "text/plain": [
              "Venta    183810\n",
              "Name: operation_type, dtype: int64"
            ]
          },
          "metadata": {},
          "execution_count": 51
        }
      ]
    },
    {
      "cell_type": "code",
      "source": [
        "df_train.price_period.value_counts(dropna=False)"
      ],
      "metadata": {
        "colab": {
          "base_uri": "https://localhost:8080/"
        },
        "id": "WlQd9QVvvAjP",
        "outputId": "405f6b1b-b3ee-4a75-bf2a-1c31b71ccedc"
      },
      "execution_count": null,
      "outputs": [
        {
          "output_type": "execute_result",
          "data": {
            "text/plain": [
              "NaN        95090\n",
              "Mensual    88720\n",
              "Name: price_period, dtype: int64"
            ]
          },
          "metadata": {},
          "execution_count": 52
        }
      ]
    },
    {
      "cell_type": "code",
      "source": [
        "df_train.property_type.value_counts(dropna=False)"
      ],
      "metadata": {
        "colab": {
          "base_uri": "https://localhost:8080/"
        },
        "id": "CYpqGPgIxBSD",
        "outputId": "255e1874-413d-4b41-e1b8-0c91a8e97bae"
      },
      "execution_count": null,
      "outputs": [
        {
          "output_type": "execute_result",
          "data": {
            "text/plain": [
              "Departamento       134044\n",
              "PH                  13581\n",
              "Casa                 8743\n",
              "Lote                 7324\n",
              "Local comercial      6745\n",
              "Oficina              5886\n",
              "Cochera              5188\n",
              "Otro                 1546\n",
              "Depósito              745\n",
              "Casa de campo           8\n",
              "Name: property_type, dtype: int64"
            ]
          },
          "metadata": {},
          "execution_count": 53
        }
      ]
    },
    {
      "cell_type": "markdown",
      "source": [
        "# **Consigna 2 y 3**\n",
        "\n",
        "¿Hay valores faltantes? En caso de respuesta afirmativa, imputar los valores.\n",
        "Seleccionar el subconjunto de columnas que les parezcan relevantes al problema de predicción del valor de la propiedad. Justificar las columnas seleccionadas y las que no lo fueron."
      ],
      "metadata": {
        "id": "pC0PaXAKd3G6"
      }
    },
    {
      "cell_type": "code",
      "source": [
        "sns.heatmap(df_train.isna(), cbar=False)"
      ],
      "metadata": {
        "colab": {
          "base_uri": "https://localhost:8080/",
          "height": 359
        },
        "id": "X1GwajRhfVii",
        "outputId": "fc4e5778-11f7-4d70-d4d6-4618758d6c3d"
      },
      "execution_count": null,
      "outputs": [
        {
          "output_type": "execute_result",
          "data": {
            "text/plain": [
              "<matplotlib.axes._subplots.AxesSubplot at 0x7fc9bef55850>"
            ]
          },
          "metadata": {},
          "execution_count": 54
        },
        {
          "output_type": "display_data",
          "data": {
            "text/plain": [
              "<Figure size 432x288 with 1 Axes>"
            ],
            "image/png": "[encoded data removed]"
          },
          "metadata": {
            "needs_background": "light"
          }
        }
      ]
    },
    {
      "cell_type": "code",
      "source": [
        "print(df_train.isna().sum().sort_values(ascending=False))"
      ],
      "metadata": {
        "id": "UKgaxDqnZebt",
        "colab": {
          "base_uri": "https://localhost:8080/"
        },
        "outputId": "68363209-5ca2-456d-97ca-13f23d613763"
      },
      "execution_count": null,
      "outputs": [
        {
          "output_type": "stream",
          "name": "stdout",
          "text": [
            "l6                 183810\n",
            "l5                 183810\n",
            "l4                 176547\n",
            "price_period        95090\n",
            "surface_covered     62528\n",
            "surface_total       60902\n",
            "bedrooms            49976\n",
            "rooms               28130\n",
            "bathrooms           24918\n",
            "lon                 11448\n",
            "lat                 11448\n",
            "currency             3674\n",
            "price                3392\n",
            "l3                   1847\n",
            "title                   0\n",
            "description             0\n",
            "property_type           0\n",
            "Unnamed: 0              0\n",
            "Unnamed: 0.1            0\n",
            "l2                      0\n",
            "l1                      0\n",
            "created_on              0\n",
            "end_date                0\n",
            "start_date              0\n",
            "ad_type                 0\n",
            "operation_type          0\n",
            "dtype: int64\n"
          ]
        }
      ]
    },
    {
      "cell_type": "code",
      "source": [
        "miss_total = pd.DataFrame(df_train.isnull().mean(),columns=['Missings']).sort_values('Missings', ascending =False)\n",
        "miss_total"
      ],
      "metadata": {
        "id": "5cyKAY9PZiBQ",
        "colab": {
          "base_uri": "https://localhost:8080/",
          "height": 865
        },
        "outputId": "ce8ae54a-27d9-4de0-a201-a3892e4e844b"
      },
      "execution_count": null,
      "outputs": [
        {
          "output_type": "execute_result",
          "data": {
            "text/plain": [
              "                 Missings\n",
              "l6               1.000000\n",
              "l5               1.000000\n",
              "l4               0.960486\n",
              "price_period     0.517328\n",
              "surface_covered  0.340177\n",
              "surface_total    0.331331\n",
              "bedrooms         0.271889\n",
              "rooms            0.153038\n",
              "bathrooms        0.135564\n",
              "lon              0.062282\n",
              "lat              0.062282\n",
              "currency         0.019988\n",
              "price            0.018454\n",
              "l3               0.010048\n",
              "title            0.000000\n",
              "description      0.000000\n",
              "property_type    0.000000\n",
              "Unnamed: 0       0.000000\n",
              "Unnamed: 0.1     0.000000\n",
              "l2               0.000000\n",
              "l1               0.000000\n",
              "created_on       0.000000\n",
              "end_date         0.000000\n",
              "start_date       0.000000\n",
              "ad_type          0.000000\n",
              "operation_type   0.000000"
            ],
            "text/html": [
              "\n",
              "  <div id=\"df-b56b4e23-893e-42d1-a9c8-3598d84dc691\">\n",
              "    <div class=\"colab-df-container\">\n",
              "      <div>\n",
              "<style scoped>\n",
              "    .dataframe tbody tr th:only-of-type {\n",
              "        vertical-align: middle;\n",
              "    }\n",
              "\n",
              "    .dataframe tbody tr th {\n",
              "        vertical-align: top;\n",
              "    }\n",
              "\n",
              "    .dataframe thead th {\n",
              "        text-align: right;\n",
              "    }\n",
              "</style>\n",
              "<table border=\"1\" class=\"dataframe\">\n",
              "  <thead>\n",
              "    <tr style=\"text-align: right;\">\n",
              "      <th></th>\n",
              "      <th>Missings</th>\n",
              "    </tr>\n",
              "  </thead>\n",
              "  <tbody>\n",
              "    <tr>\n",
              "      <th>l6</th>\n",
              "      <td>1.000000</td>\n",
              "    </tr>\n",
              "    <tr>\n",
              "      <th>l5</th>\n",
              "      <td>1.000000</td>\n",
              "    </tr>\n",
              "    <tr>\n",
              "      <th>l4</th>\n",
              "      <td>0.960486</td>\n",
              "    </tr>\n",
              "    <tr>\n",
              "      <th>price_period</th>\n",
              "      <td>0.517328</td>\n",
              "    </tr>\n",
              "    <tr>\n",
              "      <th>surface_covered</th>\n",
              "      <td>0.340177</td>\n",
              "    </tr>\n",
              "    <tr>\n",
              "      <th>surface_total</th>\n",
              "      <td>0.331331</td>\n",
              "    </tr>\n",
              "    <tr>\n",
              "      <th>bedrooms</th>\n",
              "      <td>0.271889</td>\n",
              "    </tr>\n",
              "    <tr>\n",
              "      <th>rooms</th>\n",
              "      <td>0.153038</td>\n",
              "    </tr>\n",
              "    <tr>\n",
              "      <th>bathrooms</th>\n",
              "      <td>0.135564</td>\n",
              "    </tr>\n",
              "    <tr>\n",
              "      <th>lon</th>\n",
              "      <td>0.062282</td>\n",
              "    </tr>\n",
              "    <tr>\n",
              "      <th>lat</th>\n",
              "      <td>0.062282</td>\n",
              "    </tr>\n",
              "    <tr>\n",
              "      <th>currency</th>\n",
              "      <td>0.019988</td>\n",
              "    </tr>\n",
              "    <tr>\n",
              "      <th>price</th>\n",
              "      <td>0.018454</td>\n",
              "    </tr>\n",
              "    <tr>\n",
              "      <th>l3</th>\n",
              "      <td>0.010048</td>\n",
              "    </tr>\n",
              "    <tr>\n",
              "      <th>title</th>\n",
              "      <td>0.000000</td>\n",
              "    </tr>\n",
              "    <tr>\n",
              "      <th>description</th>\n",
              "      <td>0.000000</td>\n",
              "    </tr>\n",
              "    <tr>\n",
              "      <th>property_type</th>\n",
              "      <td>0.000000</td>\n",
              "    </tr>\n",
              "    <tr>\n",
              "      <th>Unnamed: 0</th>\n",
              "      <td>0.000000</td>\n",
              "    </tr>\n",
              "    <tr>\n",
              "      <th>Unnamed: 0.1</th>\n",
              "      <td>0.000000</td>\n",
              "    </tr>\n",
              "    <tr>\n",
              "      <th>l2</th>\n",
              "      <td>0.000000</td>\n",
              "    </tr>\n",
              "    <tr>\n",
              "      <th>l1</th>\n",
              "      <td>0.000000</td>\n",
              "    </tr>\n",
              "    <tr>\n",
              "      <th>created_on</th>\n",
              "      <td>0.000000</td>\n",
              "    </tr>\n",
              "    <tr>\n",
              "      <th>end_date</th>\n",
              "      <td>0.000000</td>\n",
              "    </tr>\n",
              "    <tr>\n",
              "      <th>start_date</th>\n",
              "      <td>0.000000</td>\n",
              "    </tr>\n",
              "    <tr>\n",
              "      <th>ad_type</th>\n",
              "      <td>0.000000</td>\n",
              "    </tr>\n",
              "    <tr>\n",
              "      <th>operation_type</th>\n",
              "      <td>0.000000</td>\n",
              "    </tr>\n",
              "  </tbody>\n",
              "</table>\n",
              "</div>\n",
              "      <button class=\"colab-df-convert\" onclick=\"convertToInteractive('df-b56b4e23-893e-42d1-a9c8-3598d84dc691')\"\n",
              "              title=\"Convert this dataframe to an interactive table.\"\n",
              "              style=\"display:none;\">\n",
              "        \n",
              "  <svg xmlns=\"http://www.w3.org/2000/svg\" height=\"24px\"viewBox=\"0 0 24 24\"\n",
              "       width=\"24px\">\n",
              "    <path d=\"M0 0h24v24H0V0z\" fill=\"none\"/>\n",
              "    <path d=\"M18.56 5.44l.94 2.06.94-2.06 2.06-.94-2.06-.94-.94-2.06-.94 2.06-2.06.94zm-11 1L8.5 8.5l.94-2.06 2.06-.94-2.06-.94L8.5 2.5l-.94 2.06-2.06.94zm10 10l.94 2.06.94-2.06 2.06-.94-2.06-.94-.94-2.06-.94 2.06-2.06.94z\"/><path d=\"M17.41 7.96l-1.37-1.37c-.4-.4-.92-.59-1.43-.59-.52 0-1.04.2-1.43.59L10.3 9.45l-7.72 7.72c-.78.78-.78 2.05 0 2.83L4 21.41c.39.39.9.59 1.41.59.51 0 1.02-.2 1.41-.59l7.78-7.78 2.81-2.81c.8-.78.8-2.07 0-2.86zM5.41 20L4 18.59l7.72-7.72 1.47 1.35L5.41 20z\"/>\n",
              "  </svg>\n",
              "      </button>\n",
              "      \n",
              "  <style>\n",
              "    .colab-df-container {\n",
              "      display:flex;\n",
              "      flex-wrap:wrap;\n",
              "      gap: 12px;\n",
              "    }\n",
              "\n",
              "    .colab-df-convert {\n",
              "      background-color: #E8F0FE;\n",
              "      border: none;\n",
              "      border-radius: 50%;\n",
              "      cursor: pointer;\n",
              "      display: none;\n",
              "      fill: #1967D2;\n",
              "      height: 32px;\n",
              "      padding: 0 0 0 0;\n",
              "      width: 32px;\n",
              "    }\n",
              "\n",
              "    .colab-df-convert:hover {\n",
              "      background-color: #E2EBFA;\n",
              "      box-shadow: 0px 1px 2px rgba(60, 64, 67, 0.3), 0px 1px 3px 1px rgba(60, 64, 67, 0.15);\n",
              "      fill: #174EA6;\n",
              "    }\n",
              "\n",
              "    [theme=dark] .colab-df-convert {\n",
              "      background-color: #3B4455;\n",
              "      fill: #D2E3FC;\n",
              "    }\n",
              "\n",
              "    [theme=dark] .colab-df-convert:hover {\n",
              "      background-color: #434B5C;\n",
              "      box-shadow: 0px 1px 3px 1px rgba(0, 0, 0, 0.15);\n",
              "      filter: drop-shadow(0px 1px 2px rgba(0, 0, 0, 0.3));\n",
              "      fill: #FFFFFF;\n",
              "    }\n",
              "  </style>\n",
              "\n",
              "      <script>\n",
              "        const buttonEl =\n",
              "          document.querySelector('#df-b56b4e23-893e-42d1-a9c8-3598d84dc691 button.colab-df-convert');\n",
              "        buttonEl.style.display =\n",
              "          google.colab.kernel.accessAllowed ? 'block' : 'none';\n",
              "\n",
              "        async function convertToInteractive(key) {\n",
              "          const element = document.querySelector('#df-b56b4e23-893e-42d1-a9c8-3598d84dc691');\n",
              "          const dataTable =\n",
              "            await google.colab.kernel.invokeFunction('convertToInteractive',\n",
              "                                                     [key], {});\n",
              "          if (!dataTable) return;\n",
              "\n",
              "          const docLinkHtml = 'Like what you see? Visit the ' +\n",
              "            '<a target=\"_blank\" href=https://colab.research.google.com/notebooks/data_table.ipynb>data table notebook</a>'\n",
              "            + ' to learn more about interactive tables.';\n",
              "          element.innerHTML = '';\n",
              "          dataTable['output_type'] = 'display_data';\n",
              "          await google.colab.output.renderOutput(dataTable, element);\n",
              "          const docLink = document.createElement('div');\n",
              "          docLink.innerHTML = docLinkHtml;\n",
              "          element.appendChild(docLink);\n",
              "        }\n",
              "      </script>\n",
              "    </div>\n",
              "  </div>\n",
              "  "
            ]
          },
          "metadata": {},
          "execution_count": 56
        }
      ]
    },
    {
      "cell_type": "code",
      "source": [
        "df_train[df_train.isnull().sum(axis=1) > 1]"
      ],
      "metadata": {
        "id": "zIqGDn370saW",
        "colab": {
          "base_uri": "https://localhost:8080/",
          "height": 1000
        },
        "outputId": "269cc0da-f49f-4395-98c0-88b099de9cfc"
      },
      "execution_count": null,
      "outputs": [
        {
          "output_type": "execute_result",
          "data": {
            "text/plain": [
              "                          Unnamed: 0  Unnamed: 0.1    ad_type  start_date  \\\n",
              "id                                                                          \n",
              "hjHZd/BZqSBy3zb+RrqPYg==          43           137  Propiedad  2020-08-22   \n",
              "2KF4gGpEVoyqnMVFBcF7IA==          44           149  Propiedad  2020-08-22   \n",
              "BRbo9ohkAnogBN3vgcbh1Q==          45           153  Propiedad  2020-08-22   \n",
              "twX40kvJoG1MI6LVXnRKpA==          46           154  Propiedad  2020-08-22   \n",
              "+KGGxikZuWylLGEfAS1QQQ==          47           155  Propiedad  2020-08-22   \n",
              "...                              ...           ...        ...         ...   \n",
              "kW2uYacPEyIcBykz/8rShA==      265117        999940  Propiedad  2020-12-04   \n",
              "29FiS2shjt7d2d87Xz2APA==      265118        999959  Propiedad  2020-12-04   \n",
              "jaNlZUF/XN/I8PWilhABqw==      265119        999977  Propiedad  2020-12-04   \n",
              "No3is+HhwUGlfgQfzsZbdg==      265120        999978  Propiedad  2020-12-04   \n",
              "fJLVUIziPl31ACoaE/fj1g==      265124        999997  Propiedad  2020-12-04   \n",
              "\n",
              "                            end_date  created_on        lat        lon  \\\n",
              "id                                                                       \n",
              "hjHZd/BZqSBy3zb+RrqPYg==  2020-09-04  2020-08-22 -34.638910 -58.476073   \n",
              "2KF4gGpEVoyqnMVFBcF7IA==  2020-09-04  2020-08-22 -34.562124 -58.464449   \n",
              "BRbo9ohkAnogBN3vgcbh1Q==  2020-09-04  2020-08-22 -34.598112 -58.400784   \n",
              "twX40kvJoG1MI6LVXnRKpA==  2020-09-04  2020-08-22 -34.614123 -58.378985   \n",
              "+KGGxikZuWylLGEfAS1QQQ==  2020-09-04  2020-08-22 -34.603233 -58.385218   \n",
              "...                              ...         ...        ...        ...   \n",
              "kW2uYacPEyIcBykz/8rShA==  2021-01-10  2020-12-04 -34.613926 -58.499472   \n",
              "29FiS2shjt7d2d87Xz2APA==  9999-12-31  2020-12-04 -34.570592 -58.462513   \n",
              "jaNlZUF/XN/I8PWilhABqw==  2020-12-30  2020-12-04 -34.573074 -58.419353   \n",
              "No3is+HhwUGlfgQfzsZbdg==  9999-12-31  2020-12-04 -34.563411 -58.445656   \n",
              "fJLVUIziPl31ACoaE/fj1g==  9999-12-31  2020-12-04 -34.576445 -58.432603   \n",
              "\n",
              "                                 l1               l2  ... bathrooms  \\\n",
              "id                                                    ...             \n",
              "hjHZd/BZqSBy3zb+RrqPYg==  Argentina  Capital Federal  ...       NaN   \n",
              "2KF4gGpEVoyqnMVFBcF7IA==  Argentina  Capital Federal  ...       NaN   \n",
              "BRbo9ohkAnogBN3vgcbh1Q==  Argentina  Capital Federal  ...       3.0   \n",
              "twX40kvJoG1MI6LVXnRKpA==  Argentina  Capital Federal  ...       3.0   \n",
              "+KGGxikZuWylLGEfAS1QQQ==  Argentina  Capital Federal  ...       1.0   \n",
              "...                             ...              ...  ...       ...   \n",
              "kW2uYacPEyIcBykz/8rShA==  Argentina  Capital Federal  ...       2.0   \n",
              "29FiS2shjt7d2d87Xz2APA==  Argentina  Capital Federal  ...       6.0   \n",
              "jaNlZUF/XN/I8PWilhABqw==  Argentina  Capital Federal  ...       3.0   \n",
              "No3is+HhwUGlfgQfzsZbdg==  Argentina  Capital Federal  ...       4.0   \n",
              "fJLVUIziPl31ACoaE/fj1g==  Argentina  Capital Federal  ...       2.0   \n",
              "\n",
              "                         surface_total  surface_covered      price  currency  \\\n",
              "id                                                                             \n",
              "hjHZd/BZqSBy3zb+RrqPYg==         372.0              NaN   450000.0       USD   \n",
              "2KF4gGpEVoyqnMVFBcF7IA==           NaN              NaN    20000.0       USD   \n",
              "BRbo9ohkAnogBN3vgcbh1Q==         265.0            265.0   600000.0       USD   \n",
              "twX40kvJoG1MI6LVXnRKpA==         150.0            150.0   195000.0       USD   \n",
              "+KGGxikZuWylLGEfAS1QQQ==           NaN             12.0    22000.0       USD   \n",
              "...                                ...              ...        ...       ...   \n",
              "kW2uYacPEyIcBykz/8rShA==         243.0            180.0   250000.0       USD   \n",
              "29FiS2shjt7d2d87Xz2APA==         641.0            461.0  1650000.0       USD   \n",
              "jaNlZUF/XN/I8PWilhABqw==         419.0            375.0  1350000.0       USD   \n",
              "No3is+HhwUGlfgQfzsZbdg==         285.0            270.0  1400000.0       USD   \n",
              "fJLVUIziPl31ACoaE/fj1g==         615.0            425.0   570000.0       USD   \n",
              "\n",
              "                          price_period  \\\n",
              "id                                       \n",
              "hjHZd/BZqSBy3zb+RrqPYg==       Mensual   \n",
              "2KF4gGpEVoyqnMVFBcF7IA==       Mensual   \n",
              "BRbo9ohkAnogBN3vgcbh1Q==       Mensual   \n",
              "twX40kvJoG1MI6LVXnRKpA==       Mensual   \n",
              "+KGGxikZuWylLGEfAS1QQQ==       Mensual   \n",
              "...                                ...   \n",
              "kW2uYacPEyIcBykz/8rShA==           NaN   \n",
              "29FiS2shjt7d2d87Xz2APA==       Mensual   \n",
              "jaNlZUF/XN/I8PWilhABqw==       Mensual   \n",
              "No3is+HhwUGlfgQfzsZbdg==       Mensual   \n",
              "fJLVUIziPl31ACoaE/fj1g==       Mensual   \n",
              "\n",
              "                                                                      title  \\\n",
              "id                                                                            \n",
              "hjHZd/BZqSBy3zb+RrqPYg==                                  Exclente lote !!    \n",
              "2KF4gGpEVoyqnMVFBcF7IA==  Excelente cochera fija y cubierta en edificio ...   \n",
              "BRbo9ohkAnogBN3vgcbh1Q==              Oficina comercial · 265m² · 2 Cochera   \n",
              "twX40kvJoG1MI6LVXnRKpA==      Importante Oficina en Micro centro de 150 m2.   \n",
              "+KGGxikZuWylLGEfAS1QQQ==                              Oficina - San Nicolas   \n",
              "...                                                                     ...   \n",
              "kW2uYacPEyIcBykz/8rShA==  PH 6 Ambientes c/cochera y terraza en Monte Ca...   \n",
              "29FiS2shjt7d2d87Xz2APA==  Casa impecable en venta en la mejor zona de  -...   \n",
              "jaNlZUF/XN/I8PWilhABqw==  Impactante vista a los parques. 420 m2 con coc...   \n",
              "No3is+HhwUGlfgQfzsZbdg==                            Departamento - Belgrano   \n",
              "fJLVUIziPl31ACoaE/fj1g==  Edificio Comercial  en excelente zona de Paler...   \n",
              "\n",
              "                                                                description  \\\n",
              "id                                                                            \n",
              "hjHZd/BZqSBy3zb+RrqPYg==  Lote 365 mts 8,90 x 43 mts C3 II.. FOT 3.6 PAR...   \n",
              "2KF4gGpEVoyqnMVFBcF7IA==  Muy buena cochera, en el 4to piso en excelente...   \n",
              "BRbo9ohkAnogBN3vgcbh1Q==  Gran Oportunidad! Unica piso de oficinas de 26...   \n",
              "twX40kvJoG1MI6LVXnRKpA==  Importante  Oficina de de 150 m2 con palier pr...   \n",
              "+KGGxikZuWylLGEfAS1QQQ==  VENTA DE OFICINA A METROS DEL PALACIO DE TRIBU...   \n",
              "...                                                                     ...   \n",
              "kW2uYacPEyIcBykz/8rShA==  Corredor Responsable: Rene Vera - CUCICBA 6778...   \n",
              "29FiS2shjt7d2d87Xz2APA==  Casa en pleno Belgrano R reciclada con excelen...   \n",
              "jaNlZUF/XN/I8PWilhABqw==  Piso de 419 m2 en un emblemático edificio mode...   \n",
              "No3is+HhwUGlfgQfzsZbdg==  Piso de 285mts, en la mejor zona de Belgrano.<...   \n",
              "fJLVUIziPl31ACoaE/fj1g==  Edificio Comercial CON ENTRADA INDEPENDIENTE S...   \n",
              "\n",
              "                            property_type  operation_type  \n",
              "id                                                         \n",
              "hjHZd/BZqSBy3zb+RrqPYg==             Lote           Venta  \n",
              "2KF4gGpEVoyqnMVFBcF7IA==          Cochera           Venta  \n",
              "BRbo9ohkAnogBN3vgcbh1Q==          Oficina           Venta  \n",
              "twX40kvJoG1MI6LVXnRKpA==          Oficina           Venta  \n",
              "+KGGxikZuWylLGEfAS1QQQ==          Oficina           Venta  \n",
              "...                                   ...             ...  \n",
              "kW2uYacPEyIcBykz/8rShA==               PH           Venta  \n",
              "29FiS2shjt7d2d87Xz2APA==             Casa           Venta  \n",
              "jaNlZUF/XN/I8PWilhABqw==     Departamento           Venta  \n",
              "No3is+HhwUGlfgQfzsZbdg==     Departamento           Venta  \n",
              "fJLVUIziPl31ACoaE/fj1g==  Local comercial           Venta  \n",
              "\n",
              "[183810 rows x 26 columns]"
            ],
            "text/html": [
              "\n",
              "  <div id=\"df-0aee5be7-7e33-4c6e-a3c1-b55c3262b582\">\n",
              "    <div class=\"colab-df-container\">\n",
              "      <div>\n",
              "<style scoped>\n",
              "    .dataframe tbody tr th:only-of-type {\n",
              "        vertical-align: middle;\n",
              "    }\n",
              "\n",
              "    .dataframe tbody tr th {\n",
              "        vertical-align: top;\n",
              "    }\n",
              "\n",
              "    .dataframe thead th {\n",
              "        text-align: right;\n",
              "    }\n",
              "</style>\n",
              "<table border=\"1\" class=\"dataframe\">\n",
              "  <thead>\n",
              "    <tr style=\"text-align: right;\">\n",
              "      <th></th>\n",
              "      <th>Unnamed: 0</th>\n",
              "      <th>Unnamed: 0.1</th>\n",
              "      <th>ad_type</th>\n",
              "      <th>start_date</th>\n",
              "      <th>end_date</th>\n",
              "      <th>created_on</th>\n",
              "      <th>lat</th>\n",
              "      <th>lon</th>\n",
              "      <th>l1</th>\n",
              "      <th>l2</th>\n",
              "      <th>...</th>\n",
              "      <th>bathrooms</th>\n",
              "      <th>surface_total</th>\n",
              "      <th>surface_covered</th>\n",
              "      <th>price</th>\n",
              "      <th>currency</th>\n",
              "      <th>price_period</th>\n",
              "      <th>title</th>\n",
              "      <th>description</th>\n",
              "      <th>property_type</th>\n",
              "      <th>operation_type</th>\n",
              "    </tr>\n",
              "    <tr>\n",
              "      <th>id</th>\n",
              "      <th></th>\n",
              "      <th></th>\n",
              "      <th></th>\n",
              "      <th></th>\n",
              "      <th></th>\n",
              "      <th></th>\n",
              "      <th></th>\n",
              "      <th></th>\n",
              "      <th></th>\n",
              "      <th></th>\n",
              "      <th></th>\n",
              "      <th></th>\n",
              "      <th></th>\n",
              "      <th></th>\n",
              "      <th></th>\n",
              "      <th></th>\n",
              "      <th></th>\n",
              "      <th></th>\n",
              "      <th></th>\n",
              "      <th></th>\n",
              "      <th></th>\n",
              "    </tr>\n",
              "  </thead>\n",
              "  <tbody>\n",
              "    <tr>\n",
              "      <th>hjHZd/BZqSBy3zb+RrqPYg==</th>\n",
              "      <td>43</td>\n",
              "      <td>137</td>\n",
              "      <td>Propiedad</td>\n",
              "      <td>2020-08-22</td>\n",
              "      <td>2020-09-04</td>\n",
              "      <td>2020-08-22</td>\n",
              "      <td>-34.638910</td>\n",
              "      <td>-58.476073</td>\n",
              "      <td>Argentina</td>\n",
              "      <td>Capital Federal</td>\n",
              "      <td>...</td>\n",
              "      <td>NaN</td>\n",
              "      <td>372.0</td>\n",
              "      <td>NaN</td>\n",
              "      <td>450000.0</td>\n",
              "      <td>USD</td>\n",
              "      <td>Mensual</td>\n",
              "      <td>Exclente lote !!</td>\n",
              "      <td>Lote 365 mts 8,90 x 43 mts C3 II.. FOT 3.6 PAR...</td>\n",
              "      <td>Lote</td>\n",
              "      <td>Venta</td>\n",
              "    </tr>\n",
              "    <tr>\n",
              "      <th>2KF4gGpEVoyqnMVFBcF7IA==</th>\n",
              "      <td>44</td>\n",
              "      <td>149</td>\n",
              "      <td>Propiedad</td>\n",
              "      <td>2020-08-22</td>\n",
              "      <td>2020-09-04</td>\n",
              "      <td>2020-08-22</td>\n",
              "      <td>-34.562124</td>\n",
              "      <td>-58.464449</td>\n",
              "      <td>Argentina</td>\n",
              "      <td>Capital Federal</td>\n",
              "      <td>...</td>\n",
              "      <td>NaN</td>\n",
              "      <td>NaN</td>\n",
              "      <td>NaN</td>\n",
              "      <td>20000.0</td>\n",
              "      <td>USD</td>\n",
              "      <td>Mensual</td>\n",
              "      <td>Excelente cochera fija y cubierta en edificio ...</td>\n",
              "      <td>Muy buena cochera, en el 4to piso en excelente...</td>\n",
              "      <td>Cochera</td>\n",
              "      <td>Venta</td>\n",
              "    </tr>\n",
              "    <tr>\n",
              "      <th>BRbo9ohkAnogBN3vgcbh1Q==</th>\n",
              "      <td>45</td>\n",
              "      <td>153</td>\n",
              "      <td>Propiedad</td>\n",
              "      <td>2020-08-22</td>\n",
              "      <td>2020-09-04</td>\n",
              "      <td>2020-08-22</td>\n",
              "      <td>-34.598112</td>\n",
              "      <td>-58.400784</td>\n",
              "      <td>Argentina</td>\n",
              "      <td>Capital Federal</td>\n",
              "      <td>...</td>\n",
              "      <td>3.0</td>\n",
              "      <td>265.0</td>\n",
              "      <td>265.0</td>\n",
              "      <td>600000.0</td>\n",
              "      <td>USD</td>\n",
              "      <td>Mensual</td>\n",
              "      <td>Oficina comercial · 265m² · 2 Cochera</td>\n",
              "      <td>Gran Oportunidad! Unica piso de oficinas de 26...</td>\n",
              "      <td>Oficina</td>\n",
              "      <td>Venta</td>\n",
              "    </tr>\n",
              "    <tr>\n",
              "      <th>twX40kvJoG1MI6LVXnRKpA==</th>\n",
              "      <td>46</td>\n",
              "      <td>154</td>\n",
              "      <td>Propiedad</td>\n",
              "      <td>2020-08-22</td>\n",
              "      <td>2020-09-04</td>\n",
              "      <td>2020-08-22</td>\n",
              "      <td>-34.614123</td>\n",
              "      <td>-58.378985</td>\n",
              "      <td>Argentina</td>\n",
              "      <td>Capital Federal</td>\n",
              "      <td>...</td>\n",
              "      <td>3.0</td>\n",
              "      <td>150.0</td>\n",
              "      <td>150.0</td>\n",
              "      <td>195000.0</td>\n",
              "      <td>USD</td>\n",
              "      <td>Mensual</td>\n",
              "      <td>Importante Oficina en Micro centro de 150 m2.</td>\n",
              "      <td>Importante  Oficina de de 150 m2 con palier pr...</td>\n",
              "      <td>Oficina</td>\n",
              "      <td>Venta</td>\n",
              "    </tr>\n",
              "    <tr>\n",
              "      <th>+KGGxikZuWylLGEfAS1QQQ==</th>\n",
              "      <td>47</td>\n",
              "      <td>155</td>\n",
              "      <td>Propiedad</td>\n",
              "      <td>2020-08-22</td>\n",
              "      <td>2020-09-04</td>\n",
              "      <td>2020-08-22</td>\n",
              "      <td>-34.603233</td>\n",
              "      <td>-58.385218</td>\n",
              "      <td>Argentina</td>\n",
              "      <td>Capital Federal</td>\n",
              "      <td>...</td>\n",
              "      <td>1.0</td>\n",
              "      <td>NaN</td>\n",
              "      <td>12.0</td>\n",
              "      <td>22000.0</td>\n",
              "      <td>USD</td>\n",
              "      <td>Mensual</td>\n",
              "      <td>Oficina - San Nicolas</td>\n",
              "      <td>VENTA DE OFICINA A METROS DEL PALACIO DE TRIBU...</td>\n",
              "      <td>Oficina</td>\n",
              "      <td>Venta</td>\n",
              "    </tr>\n",
              "    <tr>\n",
              "      <th>...</th>\n",
              "      <td>...</td>\n",
              "      <td>...</td>\n",
              "      <td>...</td>\n",
              "      <td>...</td>\n",
              "      <td>...</td>\n",
              "      <td>...</td>\n",
              "      <td>...</td>\n",
              "      <td>...</td>\n",
              "      <td>...</td>\n",
              "      <td>...</td>\n",
              "      <td>...</td>\n",
              "      <td>...</td>\n",
              "      <td>...</td>\n",
              "      <td>...</td>\n",
              "      <td>...</td>\n",
              "      <td>...</td>\n",
              "      <td>...</td>\n",
              "      <td>...</td>\n",
              "      <td>...</td>\n",
              "      <td>...</td>\n",
              "      <td>...</td>\n",
              "    </tr>\n",
              "    <tr>\n",
              "      <th>kW2uYacPEyIcBykz/8rShA==</th>\n",
              "      <td>265117</td>\n",
              "      <td>999940</td>\n",
              "      <td>Propiedad</td>\n",
              "      <td>2020-12-04</td>\n",
              "      <td>2021-01-10</td>\n",
              "      <td>2020-12-04</td>\n",
              "      <td>-34.613926</td>\n",
              "      <td>-58.499472</td>\n",
              "      <td>Argentina</td>\n",
              "      <td>Capital Federal</td>\n",
              "      <td>...</td>\n",
              "      <td>2.0</td>\n",
              "      <td>243.0</td>\n",
              "      <td>180.0</td>\n",
              "      <td>250000.0</td>\n",
              "      <td>USD</td>\n",
              "      <td>NaN</td>\n",
              "      <td>PH 6 Ambientes c/cochera y terraza en Monte Ca...</td>\n",
              "      <td>Corredor Responsable: Rene Vera - CUCICBA 6778...</td>\n",
              "      <td>PH</td>\n",
              "      <td>Venta</td>\n",
              "    </tr>\n",
              "    <tr>\n",
              "      <th>29FiS2shjt7d2d87Xz2APA==</th>\n",
              "      <td>265118</td>\n",
              "      <td>999959</td>\n",
              "      <td>Propiedad</td>\n",
              "      <td>2020-12-04</td>\n",
              "      <td>9999-12-31</td>\n",
              "      <td>2020-12-04</td>\n",
              "      <td>-34.570592</td>\n",
              "      <td>-58.462513</td>\n",
              "      <td>Argentina</td>\n",
              "      <td>Capital Federal</td>\n",
              "      <td>...</td>\n",
              "      <td>6.0</td>\n",
              "      <td>641.0</td>\n",
              "      <td>461.0</td>\n",
              "      <td>1650000.0</td>\n",
              "      <td>USD</td>\n",
              "      <td>Mensual</td>\n",
              "      <td>Casa impecable en venta en la mejor zona de  -...</td>\n",
              "      <td>Casa en pleno Belgrano R reciclada con excelen...</td>\n",
              "      <td>Casa</td>\n",
              "      <td>Venta</td>\n",
              "    </tr>\n",
              "    <tr>\n",
              "      <th>jaNlZUF/XN/I8PWilhABqw==</th>\n",
              "      <td>265119</td>\n",
              "      <td>999977</td>\n",
              "      <td>Propiedad</td>\n",
              "      <td>2020-12-04</td>\n",
              "      <td>2020-12-30</td>\n",
              "      <td>2020-12-04</td>\n",
              "      <td>-34.573074</td>\n",
              "      <td>-58.419353</td>\n",
              "      <td>Argentina</td>\n",
              "      <td>Capital Federal</td>\n",
              "      <td>...</td>\n",
              "      <td>3.0</td>\n",
              "      <td>419.0</td>\n",
              "      <td>375.0</td>\n",
              "      <td>1350000.0</td>\n",
              "      <td>USD</td>\n",
              "      <td>Mensual</td>\n",
              "      <td>Impactante vista a los parques. 420 m2 con coc...</td>\n",
              "      <td>Piso de 419 m2 en un emblemático edificio mode...</td>\n",
              "      <td>Departamento</td>\n",
              "      <td>Venta</td>\n",
              "    </tr>\n",
              "    <tr>\n",
              "      <th>No3is+HhwUGlfgQfzsZbdg==</th>\n",
              "      <td>265120</td>\n",
              "      <td>999978</td>\n",
              "      <td>Propiedad</td>\n",
              "      <td>2020-12-04</td>\n",
              "      <td>9999-12-31</td>\n",
              "      <td>2020-12-04</td>\n",
              "      <td>-34.563411</td>\n",
              "      <td>-58.445656</td>\n",
              "      <td>Argentina</td>\n",
              "      <td>Capital Federal</td>\n",
              "      <td>...</td>\n",
              "      <td>4.0</td>\n",
              "      <td>285.0</td>\n",
              "      <td>270.0</td>\n",
              "      <td>1400000.0</td>\n",
              "      <td>USD</td>\n",
              "      <td>Mensual</td>\n",
              "      <td>Departamento - Belgrano</td>\n",
              "      <td>Piso de 285mts, en la mejor zona de Belgrano.&lt;...</td>\n",
              "      <td>Departamento</td>\n",
              "      <td>Venta</td>\n",
              "    </tr>\n",
              "    <tr>\n",
              "      <th>fJLVUIziPl31ACoaE/fj1g==</th>\n",
              "      <td>265124</td>\n",
              "      <td>999997</td>\n",
              "      <td>Propiedad</td>\n",
              "      <td>2020-12-04</td>\n",
              "      <td>9999-12-31</td>\n",
              "      <td>2020-12-04</td>\n",
              "      <td>-34.576445</td>\n",
              "      <td>-58.432603</td>\n",
              "      <td>Argentina</td>\n",
              "      <td>Capital Federal</td>\n",
              "      <td>...</td>\n",
              "      <td>2.0</td>\n",
              "      <td>615.0</td>\n",
              "      <td>425.0</td>\n",
              "      <td>570000.0</td>\n",
              "      <td>USD</td>\n",
              "      <td>Mensual</td>\n",
              "      <td>Edificio Comercial  en excelente zona de Paler...</td>\n",
              "      <td>Edificio Comercial CON ENTRADA INDEPENDIENTE S...</td>\n",
              "      <td>Local comercial</td>\n",
              "      <td>Venta</td>\n",
              "    </tr>\n",
              "  </tbody>\n",
              "</table>\n",
              "<p>183810 rows × 26 columns</p>\n",
              "</div>\n",
              "      <button class=\"colab-df-convert\" onclick=\"convertToInteractive('df-0aee5be7-7e33-4c6e-a3c1-b55c3262b582')\"\n",
              "              title=\"Convert this dataframe to an interactive table.\"\n",
              "              style=\"display:none;\">\n",
              "        \n",
              "  <svg xmlns=\"http://www.w3.org/2000/svg\" height=\"24px\"viewBox=\"0 0 24 24\"\n",
              "       width=\"24px\">\n",
              "    <path d=\"M0 0h24v24H0V0z\" fill=\"none\"/>\n",
              "    <path d=\"M18.56 5.44l.94 2.06.94-2.06 2.06-.94-2.06-.94-.94-2.06-.94 2.06-2.06.94zm-11 1L8.5 8.5l.94-2.06 2.06-.94-2.06-.94L8.5 2.5l-.94 2.06-2.06.94zm10 10l.94 2.06.94-2.06 2.06-.94-2.06-.94-.94-2.06-.94 2.06-2.06.94z\"/><path d=\"M17.41 7.96l-1.37-1.37c-.4-.4-.92-.59-1.43-.59-.52 0-1.04.2-1.43.59L10.3 9.45l-7.72 7.72c-.78.78-.78 2.05 0 2.83L4 21.41c.39.39.9.59 1.41.59.51 0 1.02-.2 1.41-.59l7.78-7.78 2.81-2.81c.8-.78.8-2.07 0-2.86zM5.41 20L4 18.59l7.72-7.72 1.47 1.35L5.41 20z\"/>\n",
              "  </svg>\n",
              "      </button>\n",
              "      \n",
              "  <style>\n",
              "    .colab-df-container {\n",
              "      display:flex;\n",
              "      flex-wrap:wrap;\n",
              "      gap: 12px;\n",
              "    }\n",
              "\n",
              "    .colab-df-convert {\n",
              "      background-color: #E8F0FE;\n",
              "      border: none;\n",
              "      border-radius: 50%;\n",
              "      cursor: pointer;\n",
              "      display: none;\n",
              "      fill: #1967D2;\n",
              "      height: 32px;\n",
              "      padding: 0 0 0 0;\n",
              "      width: 32px;\n",
              "    }\n",
              "\n",
              "    .colab-df-convert:hover {\n",
              "      background-color: #E2EBFA;\n",
              "      box-shadow: 0px 1px 2px rgba(60, 64, 67, 0.3), 0px 1px 3px 1px rgba(60, 64, 67, 0.15);\n",
              "      fill: #174EA6;\n",
              "    }\n",
              "\n",
              "    [theme=dark] .colab-df-convert {\n",
              "      background-color: #3B4455;\n",
              "      fill: #D2E3FC;\n",
              "    }\n",
              "\n",
              "    [theme=dark] .colab-df-convert:hover {\n",
              "      background-color: #434B5C;\n",
              "      box-shadow: 0px 1px 3px 1px rgba(0, 0, 0, 0.15);\n",
              "      filter: drop-shadow(0px 1px 2px rgba(0, 0, 0, 0.3));\n",
              "      fill: #FFFFFF;\n",
              "    }\n",
              "  </style>\n",
              "\n",
              "      <script>\n",
              "        const buttonEl =\n",
              "          document.querySelector('#df-0aee5be7-7e33-4c6e-a3c1-b55c3262b582 button.colab-df-convert');\n",
              "        buttonEl.style.display =\n",
              "          google.colab.kernel.accessAllowed ? 'block' : 'none';\n",
              "\n",
              "        async function convertToInteractive(key) {\n",
              "          const element = document.querySelector('#df-0aee5be7-7e33-4c6e-a3c1-b55c3262b582');\n",
              "          const dataTable =\n",
              "            await google.colab.kernel.invokeFunction('convertToInteractive',\n",
              "                                                     [key], {});\n",
              "          if (!dataTable) return;\n",
              "\n",
              "          const docLinkHtml = 'Like what you see? Visit the ' +\n",
              "            '<a target=\"_blank\" href=https://colab.research.google.com/notebooks/data_table.ipynb>data table notebook</a>'\n",
              "            + ' to learn more about interactive tables.';\n",
              "          element.innerHTML = '';\n",
              "          dataTable['output_type'] = 'display_data';\n",
              "          await google.colab.output.renderOutput(dataTable, element);\n",
              "          const docLink = document.createElement('div');\n",
              "          docLink.innerHTML = docLinkHtml;\n",
              "          element.appendChild(docLink);\n",
              "        }\n",
              "      </script>\n",
              "    </div>\n",
              "  </div>\n",
              "  "
            ]
          },
          "metadata": {},
          "execution_count": 57
        }
      ]
    },
    {
      "cell_type": "markdown",
      "source": [
        "## l4, l5 & l6\n",
        "L6 y L5 se eliminaran teniendo en cuenta que son 100% nulos.\n",
        "\n",
        "Dado que más del 50% de los datos en el feature l4 son nulos, no deberíamos imputar estos valores, sino eliminar esta columna del dataset de entrenamiento. "
      ],
      "metadata": {
        "id": "uRW4doxYUw_V"
      }
    },
    {
      "cell_type": "markdown",
      "source": [
        "## Feature selection\n",
        "\n",
        "Se eliminaran las variables de la celda debajo porque las consideramos irrelevantes para nuestro analisis."
      ],
      "metadata": {
        "id": "wJvPJ0aPWo4U"
      }
    },
    {
      "cell_type": "code",
      "source": [
        "df_train_nulls = df_train.drop(['price_period', 'title', 'operation_type', 'Unnamed: 0', 'Unnamed: 0.1', 'l4', 'l5', 'l6', 'l2', 'l1', 'created_on', 'end_date', 'start_date', 'ad_type', 'operation_type'], axis = 1)\n",
        "df_train_nulls.shape"
      ],
      "metadata": {
        "colab": {
          "base_uri": "https://localhost:8080/"
        },
        "id": "b8d38S1O0uB0",
        "outputId": "6596cf55-22e8-48ca-e2da-72ed46611d83"
      },
      "execution_count": null,
      "outputs": [
        {
          "output_type": "execute_result",
          "data": {
            "text/plain": [
              "(183810, 12)"
            ]
          },
          "metadata": {},
          "execution_count": 58
        }
      ]
    },
    {
      "cell_type": "code",
      "source": [
        "df_train_nulls[df_train_nulls.isnull().sum(axis=1) > 5].shape"
      ],
      "metadata": {
        "colab": {
          "base_uri": "https://localhost:8080/"
        },
        "id": "PdqHpsv90wgU",
        "outputId": "cea71a69-4078-4055-b384-a65c41610b9d"
      },
      "execution_count": null,
      "outputs": [
        {
          "output_type": "execute_result",
          "data": {
            "text/plain": [
              "(1745, 12)"
            ]
          },
          "metadata": {},
          "execution_count": 59
        }
      ]
    },
    {
      "cell_type": "code",
      "source": [
        "df_train_nulls.columns"
      ],
      "metadata": {
        "colab": {
          "base_uri": "https://localhost:8080/"
        },
        "id": "lAeoqymw0wjA",
        "outputId": "a45817cc-5d00-456a-d31d-5c7a1f58624e"
      },
      "execution_count": null,
      "outputs": [
        {
          "output_type": "execute_result",
          "data": {
            "text/plain": [
              "Index(['lat', 'lon', 'l3', 'rooms', 'bedrooms', 'bathrooms', 'surface_total',\n",
              "       'surface_covered', 'price', 'currency', 'description', 'property_type'],\n",
              "      dtype='object')"
            ]
          },
          "metadata": {},
          "execution_count": 60
        }
      ]
    },
    {
      "cell_type": "markdown",
      "source": [
        "Nos quedaremos con las propiedades que solo informan su precio en USD"
      ],
      "metadata": {
        "id": "99wIlWlZT5CZ"
      }
    },
    {
      "cell_type": "code",
      "source": [
        "df_train_nulls= df_train_nulls.loc[df_train_nulls['currency']=='USD']\n",
        "df_train_nulls.shape"
      ],
      "metadata": {
        "colab": {
          "base_uri": "https://localhost:8080/"
        },
        "id": "zZwcDZ3hToqF",
        "outputId": "c267985c-0fbd-4287-9715-27d8327e222b"
      },
      "execution_count": null,
      "outputs": [
        {
          "output_type": "execute_result",
          "data": {
            "text/plain": [
              "(179806, 12)"
            ]
          },
          "metadata": {},
          "execution_count": 61
        }
      ]
    },
    {
      "cell_type": "markdown",
      "source": [
        "De acuerdo a properati, este feature es un campo no utilizado en Argentina, pero sí en otros países. Como nuestros datos corresponden a Capital Federal, eliminaremos esta columna de nuestro dataset y no imputaremos nulls (https://www.properati.com.ar/data)."
      ],
      "metadata": {
        "id": "_7C8JZaLTJW3"
      }
    },
    {
      "cell_type": "code",
      "source": [
        "df_train_nulls.drop(['bedrooms', 'currency'], axis=1, inplace=True)"
      ],
      "metadata": {
        "id": "hrX6GdSC0wm1"
      },
      "execution_count": null,
      "outputs": []
    },
    {
      "cell_type": "code",
      "source": [
        "df_train_nulls.shape"
      ],
      "metadata": {
        "colab": {
          "base_uri": "https://localhost:8080/"
        },
        "id": "wK1w8PQtTBlU",
        "outputId": "4cd5fec7-b55c-4b1d-8acf-d0a7e9ba2c03"
      },
      "execution_count": null,
      "outputs": [
        {
          "output_type": "execute_result",
          "data": {
            "text/plain": [
              "(179806, 10)"
            ]
          },
          "metadata": {},
          "execution_count": 63
        }
      ]
    },
    {
      "cell_type": "markdown",
      "source": [
        "Nos enfocaremos en analizar y predecir el precio de las propiedades de tipo Casa, Departamentos y PHs. \n",
        "\n",
        "Para esto filtraremos nuestro dataset segun este criterio.\n"
      ],
      "metadata": {
        "id": "3eIv1ZydWDmZ"
      }
    },
    {
      "cell_type": "code",
      "source": [
        "df_train_nulls.property_type.value_counts()"
      ],
      "metadata": {
        "colab": {
          "base_uri": "https://localhost:8080/"
        },
        "id": "domGnBVrYDas",
        "outputId": "e1b1826b-4422-4c75-f930-1de997f6df16"
      },
      "execution_count": null,
      "outputs": [
        {
          "output_type": "execute_result",
          "data": {
            "text/plain": [
              "Departamento       131720\n",
              "PH                  13469\n",
              "Casa                 8428\n",
              "Lote                 6888\n",
              "Local comercial      6357\n",
              "Oficina              5669\n",
              "Cochera              5129\n",
              "Otro                 1434\n",
              "Depósito              704\n",
              "Casa de campo           8\n",
              "Name: property_type, dtype: int64"
            ]
          },
          "metadata": {},
          "execution_count": 64
        }
      ]
    },
    {
      "cell_type": "code",
      "source": [
        "property_study = ['Casa', 'Departamento', 'PH']\n",
        "df_study =  df_train_nulls.loc[df_train_nulls['property_type'].isin(property_study)]\n",
        "df_study.shape"
      ],
      "metadata": {
        "colab": {
          "base_uri": "https://localhost:8080/"
        },
        "id": "_TrpYvyeXRpd",
        "outputId": "09bbab37-d9e4-4424-83d6-c8f1273bf381"
      },
      "execution_count": null,
      "outputs": [
        {
          "output_type": "execute_result",
          "data": {
            "text/plain": [
              "(153617, 10)"
            ]
          },
          "metadata": {},
          "execution_count": 65
        }
      ]
    },
    {
      "cell_type": "markdown",
      "source": [
        "## price"
      ],
      "metadata": {
        "id": "fT9r-uhrYr2T"
      }
    },
    {
      "cell_type": "markdown",
      "source": [],
      "metadata": {
        "id": "RJ8SEmiC16Ym"
      }
    },
    {
      "cell_type": "code",
      "source": [
        "df_study['price'].value_counts(dropna = False) "
      ],
      "metadata": {
        "colab": {
          "base_uri": "https://localhost:8080/"
        },
        "id": "B36jL-4P160o",
        "outputId": "6a5f4d3b-c835-4cde-8a90-4ec2c532d27a"
      },
      "execution_count": null,
      "outputs": [
        {
          "output_type": "execute_result",
          "data": {
            "text/plain": [
              "110000.0    2341\n",
              "115000.0    2290\n",
              "120000.0    2256\n",
              "125000.0    2089\n",
              "85000.0     2015\n",
              "            ... \n",
              "187800.0       1\n",
              "708000.0       1\n",
              "266220.0       1\n",
              "100382.0       1\n",
              "586000.0       1\n",
              "Name: price, Length: 8484, dtype: int64"
            ]
          },
          "metadata": {},
          "execution_count": 66
        }
      ]
    },
    {
      "cell_type": "code",
      "source": [
        "df_study['price'].describe().T"
      ],
      "metadata": {
        "colab": {
          "base_uri": "https://localhost:8080/"
        },
        "id": "qS4UDmBbYoDP",
        "outputId": "d881230f-c8ae-4b45-fac9-585da498664b"
      },
      "execution_count": null,
      "outputs": [
        {
          "output_type": "execute_result",
          "data": {
            "text/plain": [
              "count    1.536170e+05\n",
              "mean     2.410716e+05\n",
              "std      3.244430e+05\n",
              "min      0.000000e+00\n",
              "25%      1.040000e+05\n",
              "50%      1.550000e+05\n",
              "75%      2.550000e+05\n",
              "max      2.140000e+07\n",
              "Name: price, dtype: float64"
            ]
          },
          "metadata": {},
          "execution_count": 67
        }
      ]
    },
    {
      "cell_type": "code",
      "source": [
        "df_study[df_study['price'] == 0] #hay 1 registro que poseen price = 0. Lo eliminamos del dataset"
      ],
      "metadata": {
        "colab": {
          "base_uri": "https://localhost:8080/",
          "height": 191
        },
        "id": "0cmnuiGy18Kc",
        "outputId": "fc85a048-29ee-4561-ed1f-3fa85d9ce0c2"
      },
      "execution_count": null,
      "outputs": [
        {
          "output_type": "execute_result",
          "data": {
            "text/plain": [
              "                                lat        lon         l3  rooms  bathrooms  \\\n",
              "id                                                                            \n",
              "GcYAK2C9rCbAh7XXxN4jHQ== -34.638337 -58.504331  Caballito    1.0        1.0   \n",
              "\n",
              "                          surface_total  surface_covered  price  \\\n",
              "id                                                                \n",
              "GcYAK2C9rCbAh7XXxN4jHQ==            NaN              NaN    0.0   \n",
              "\n",
              "                                                                description  \\\n",
              "id                                                                            \n",
              "GcYAK2C9rCbAh7XXxN4jHQ==  NO OFERTAR - Impecable departamento sobre la c...   \n",
              "\n",
              "                         property_type  \n",
              "id                                      \n",
              "GcYAK2C9rCbAh7XXxN4jHQ==  Departamento  "
            ],
            "text/html": [
              "\n",
              "  <div id=\"df-7a4402a0-bcb6-4c4b-9d09-56809de837e2\">\n",
              "    <div class=\"colab-df-container\">\n",
              "      <div>\n",
              "<style scoped>\n",
              "    .dataframe tbody tr th:only-of-type {\n",
              "        vertical-align: middle;\n",
              "    }\n",
              "\n",
              "    .dataframe tbody tr th {\n",
              "        vertical-align: top;\n",
              "    }\n",
              "\n",
              "    .dataframe thead th {\n",
              "        text-align: right;\n",
              "    }\n",
              "</style>\n",
              "<table border=\"1\" class=\"dataframe\">\n",
              "  <thead>\n",
              "    <tr style=\"text-align: right;\">\n",
              "      <th></th>\n",
              "      <th>lat</th>\n",
              "      <th>lon</th>\n",
              "      <th>l3</th>\n",
              "      <th>rooms</th>\n",
              "      <th>bathrooms</th>\n",
              "      <th>surface_total</th>\n",
              "      <th>surface_covered</th>\n",
              "      <th>price</th>\n",
              "      <th>description</th>\n",
              "      <th>property_type</th>\n",
              "    </tr>\n",
              "    <tr>\n",
              "      <th>id</th>\n",
              "      <th></th>\n",
              "      <th></th>\n",
              "      <th></th>\n",
              "      <th></th>\n",
              "      <th></th>\n",
              "      <th></th>\n",
              "      <th></th>\n",
              "      <th></th>\n",
              "      <th></th>\n",
              "      <th></th>\n",
              "    </tr>\n",
              "  </thead>\n",
              "  <tbody>\n",
              "    <tr>\n",
              "      <th>GcYAK2C9rCbAh7XXxN4jHQ==</th>\n",
              "      <td>-34.638337</td>\n",
              "      <td>-58.504331</td>\n",
              "      <td>Caballito</td>\n",
              "      <td>1.0</td>\n",
              "      <td>1.0</td>\n",
              "      <td>NaN</td>\n",
              "      <td>NaN</td>\n",
              "      <td>0.0</td>\n",
              "      <td>NO OFERTAR - Impecable departamento sobre la c...</td>\n",
              "      <td>Departamento</td>\n",
              "    </tr>\n",
              "  </tbody>\n",
              "</table>\n",
              "</div>\n",
              "      <button class=\"colab-df-convert\" onclick=\"convertToInteractive('df-7a4402a0-bcb6-4c4b-9d09-56809de837e2')\"\n",
              "              title=\"Convert this dataframe to an interactive table.\"\n",
              "              style=\"display:none;\">\n",
              "        \n",
              "  <svg xmlns=\"http://www.w3.org/2000/svg\" height=\"24px\"viewBox=\"0 0 24 24\"\n",
              "       width=\"24px\">\n",
              "    <path d=\"M0 0h24v24H0V0z\" fill=\"none\"/>\n",
              "    <path d=\"M18.56 5.44l.94 2.06.94-2.06 2.06-.94-2.06-.94-.94-2.06-.94 2.06-2.06.94zm-11 1L8.5 8.5l.94-2.06 2.06-.94-2.06-.94L8.5 2.5l-.94 2.06-2.06.94zm10 10l.94 2.06.94-2.06 2.06-.94-2.06-.94-.94-2.06-.94 2.06-2.06.94z\"/><path d=\"M17.41 7.96l-1.37-1.37c-.4-.4-.92-.59-1.43-.59-.52 0-1.04.2-1.43.59L10.3 9.45l-7.72 7.72c-.78.78-.78 2.05 0 2.83L4 21.41c.39.39.9.59 1.41.59.51 0 1.02-.2 1.41-.59l7.78-7.78 2.81-2.81c.8-.78.8-2.07 0-2.86zM5.41 20L4 18.59l7.72-7.72 1.47 1.35L5.41 20z\"/>\n",
              "  </svg>\n",
              "      </button>\n",
              "      \n",
              "  <style>\n",
              "    .colab-df-container {\n",
              "      display:flex;\n",
              "      flex-wrap:wrap;\n",
              "      gap: 12px;\n",
              "    }\n",
              "\n",
              "    .colab-df-convert {\n",
              "      background-color: #E8F0FE;\n",
              "      border: none;\n",
              "      border-radius: 50%;\n",
              "      cursor: pointer;\n",
              "      display: none;\n",
              "      fill: #1967D2;\n",
              "      height: 32px;\n",
              "      padding: 0 0 0 0;\n",
              "      width: 32px;\n",
              "    }\n",
              "\n",
              "    .colab-df-convert:hover {\n",
              "      background-color: #E2EBFA;\n",
              "      box-shadow: 0px 1px 2px rgba(60, 64, 67, 0.3), 0px 1px 3px 1px rgba(60, 64, 67, 0.15);\n",
              "      fill: #174EA6;\n",
              "    }\n",
              "\n",
              "    [theme=dark] .colab-df-convert {\n",
              "      background-color: #3B4455;\n",
              "      fill: #D2E3FC;\n",
              "    }\n",
              "\n",
              "    [theme=dark] .colab-df-convert:hover {\n",
              "      background-color: #434B5C;\n",
              "      box-shadow: 0px 1px 3px 1px rgba(0, 0, 0, 0.15);\n",
              "      filter: drop-shadow(0px 1px 2px rgba(0, 0, 0, 0.3));\n",
              "      fill: #FFFFFF;\n",
              "    }\n",
              "  </style>\n",
              "\n",
              "      <script>\n",
              "        const buttonEl =\n",
              "          document.querySelector('#df-7a4402a0-bcb6-4c4b-9d09-56809de837e2 button.colab-df-convert');\n",
              "        buttonEl.style.display =\n",
              "          google.colab.kernel.accessAllowed ? 'block' : 'none';\n",
              "\n",
              "        async function convertToInteractive(key) {\n",
              "          const element = document.querySelector('#df-7a4402a0-bcb6-4c4b-9d09-56809de837e2');\n",
              "          const dataTable =\n",
              "            await google.colab.kernel.invokeFunction('convertToInteractive',\n",
              "                                                     [key], {});\n",
              "          if (!dataTable) return;\n",
              "\n",
              "          const docLinkHtml = 'Like what you see? Visit the ' +\n",
              "            '<a target=\"_blank\" href=https://colab.research.google.com/notebooks/data_table.ipynb>data table notebook</a>'\n",
              "            + ' to learn more about interactive tables.';\n",
              "          element.innerHTML = '';\n",
              "          dataTable['output_type'] = 'display_data';\n",
              "          await google.colab.output.renderOutput(dataTable, element);\n",
              "          const docLink = document.createElement('div');\n",
              "          docLink.innerHTML = docLinkHtml;\n",
              "          element.appendChild(docLink);\n",
              "        }\n",
              "      </script>\n",
              "    </div>\n",
              "  </div>\n",
              "  "
            ]
          },
          "metadata": {},
          "execution_count": 68
        }
      ]
    },
    {
      "cell_type": "code",
      "source": [
        "ax = sns.boxplot(x = df_study['price'])"
      ],
      "metadata": {
        "colab": {
          "base_uri": "https://localhost:8080/",
          "height": 279
        },
        "id": "UoL7w08f19HS",
        "outputId": "ecea4ff9-bc73-44d3-f1d2-3e6122a20268"
      },
      "execution_count": null,
      "outputs": [
        {
          "output_type": "display_data",
          "data": {
            "text/plain": [
              "<Figure size 432x288 with 1 Axes>"
            ],
            "image/png": "[encoded data removed]"
          },
          "metadata": {
            "needs_background": "light"
          }
        }
      ]
    },
    {
      "cell_type": "code",
      "source": [
        "quantil = df_study['price'].quantile(0.95)\n",
        "print('quantil ' + str(quantil))\n",
        "sns.boxplot(df_study['price'][df_study['price'] < quantil])"
      ],
      "metadata": {
        "colab": {
          "base_uri": "https://localhost:8080/",
          "height": 368
        },
        "id": "WTUspi_A1-kQ",
        "outputId": "cc13cf66-bc52-4919-93ad-d4b37361e820"
      },
      "execution_count": null,
      "outputs": [
        {
          "output_type": "stream",
          "name": "stdout",
          "text": [
            "quantil 668000.0\n"
          ]
        },
        {
          "output_type": "stream",
          "name": "stderr",
          "text": [
            "/usr/local/lib/python3.7/dist-packages/seaborn/_decorators.py:43: FutureWarning: Pass the following variable as a keyword arg: x. From version 0.12, the only valid positional argument will be `data`, and passing other arguments without an explicit keyword will result in an error or misinterpretation.\n",
            "  FutureWarning\n"
          ]
        },
        {
          "output_type": "execute_result",
          "data": {
            "text/plain": [
              "<matplotlib.axes._subplots.AxesSubplot at 0x7fc9bce0b550>"
            ]
          },
          "metadata": {},
          "execution_count": 70
        },
        {
          "output_type": "display_data",
          "data": {
            "text/plain": [
              "<Figure size 432x288 with 1 Axes>"
            ],
            "image/png": "[encoded data removed]"
          },
          "metadata": {
            "needs_background": "light"
          }
        }
      ]
    },
    {
      "cell_type": "markdown",
      "source": [
        "Nos quedaremos para el analisis de precio con los valores que esten dentro del quantile 0.001 y quantile 0.95."
      ],
      "metadata": {
        "id": "bCfh-zo8Zg35"
      }
    },
    {
      "cell_type": "code",
      "source": [
        "q_1 = df_study[\"price\"].quantile(0.001)\n",
        "q_1"
      ],
      "metadata": {
        "colab": {
          "base_uri": "https://localhost:8080/"
        },
        "id": "KhqLbaVjZwJX",
        "outputId": "b6f333f5-3474-48ba-b20c-187ad86b4440"
      },
      "execution_count": null,
      "outputs": [
        {
          "output_type": "execute_result",
          "data": {
            "text/plain": [
              "25000.0"
            ]
          },
          "metadata": {},
          "execution_count": 71
        }
      ]
    },
    {
      "cell_type": "code",
      "source": [
        "q_95 = df_study[\"price\"].quantile(0.95)\n",
        "q_95"
      ],
      "metadata": {
        "colab": {
          "base_uri": "https://localhost:8080/"
        },
        "id": "NbbPNv9UaRHA",
        "outputId": "1afcb46b-67e3-4231-c01a-c1aab11e36ff"
      },
      "execution_count": null,
      "outputs": [
        {
          "output_type": "execute_result",
          "data": {
            "text/plain": [
              "668000.0"
            ]
          },
          "metadata": {},
          "execution_count": 72
        }
      ]
    },
    {
      "cell_type": "code",
      "source": [
        "df_study= df_study.loc[df_study['price']<q_95]\n",
        "df_study.shape"
      ],
      "metadata": {
        "colab": {
          "base_uri": "https://localhost:8080/"
        },
        "id": "IsAfMecYaQ7O",
        "outputId": "b4712efc-2995-49e3-a668-2d523f18ec86"
      },
      "execution_count": null,
      "outputs": [
        {
          "output_type": "execute_result",
          "data": {
            "text/plain": [
              "(145935, 10)"
            ]
          },
          "metadata": {},
          "execution_count": 73
        }
      ]
    },
    {
      "cell_type": "code",
      "source": [
        "df_study= df_study.loc[df_study['price']>q_1]\n",
        "df_study.shape"
      ],
      "metadata": {
        "colab": {
          "base_uri": "https://localhost:8080/"
        },
        "id": "Y7xoI8qwZsqc",
        "outputId": "bdabfcd5-3efe-432f-edd2-3f2d2d999a6c"
      },
      "execution_count": null,
      "outputs": [
        {
          "output_type": "execute_result",
          "data": {
            "text/plain": [
              "(145780, 10)"
            ]
          },
          "metadata": {},
          "execution_count": 74
        }
      ]
    },
    {
      "cell_type": "code",
      "source": [
        "sns.boxplot(df_study['price'])"
      ],
      "metadata": {
        "colab": {
          "base_uri": "https://localhost:8080/",
          "height": 351
        },
        "id": "pGKFi53ea296",
        "outputId": "b7bffe2c-c741-4067-d95e-8c177d60559f"
      },
      "execution_count": null,
      "outputs": [
        {
          "output_type": "stream",
          "name": "stderr",
          "text": [
            "/usr/local/lib/python3.7/dist-packages/seaborn/_decorators.py:43: FutureWarning: Pass the following variable as a keyword arg: x. From version 0.12, the only valid positional argument will be `data`, and passing other arguments without an explicit keyword will result in an error or misinterpretation.\n",
            "  FutureWarning\n"
          ]
        },
        {
          "output_type": "execute_result",
          "data": {
            "text/plain": [
              "<matplotlib.axes._subplots.AxesSubplot at 0x7fc9bc8d1e50>"
            ]
          },
          "metadata": {},
          "execution_count": 75
        },
        {
          "output_type": "display_data",
          "data": {
            "text/plain": [
              "<Figure size 432x288 with 1 Axes>"
            ],
            "image/png": "[encoded data removed]"
          },
          "metadata": {
            "needs_background": "light"
          }
        }
      ]
    },
    {
      "cell_type": "code",
      "source": [
        "df_study['price'].describe().T"
      ],
      "metadata": {
        "colab": {
          "base_uri": "https://localhost:8080/"
        },
        "id": "lUbfsPDsa_c-",
        "outputId": "ef672785-7900-4f5a-f048-0486a5c13790"
      },
      "execution_count": null,
      "outputs": [
        {
          "output_type": "execute_result",
          "data": {
            "text/plain": [
              "count    145780.000000\n",
              "mean     186750.525525\n",
              "std      121168.015232\n",
              "min       25750.000000\n",
              "25%      100000.000000\n",
              "50%      149000.000000\n",
              "75%      235000.000000\n",
              "max      667500.000000\n",
              "Name: price, dtype: float64"
            ]
          },
          "metadata": {},
          "execution_count": 76
        }
      ]
    },
    {
      "cell_type": "code",
      "source": [
        "df_study.to_csv('df_study_pre_procesamiento.csv')"
      ],
      "metadata": {
        "id": "zlsYCa0Eh_ae"
      },
      "execution_count": null,
      "outputs": []
    },
    {
      "cell_type": "markdown",
      "source": [
        "## Crearemos variables shadows\n",
        " Estan tomaran valor 1 cuando tome nulo la variable original y 0 cuando no."
      ],
      "metadata": {
        "id": "rSfLzYtihmzZ"
      }
    },
    {
      "cell_type": "code",
      "source": [
        "vars_na = [var for var in df_study.columns if df_study[var].isnull().sum() > 0]\n",
        "for var in vars_na:\n",
        "    df_study[var +\"_NAN\"] = np.where(df_study[var].isnull(),1,0)"
      ],
      "metadata": {
        "id": "TBxBaUjqhmdF"
      },
      "execution_count": null,
      "outputs": []
    },
    {
      "cell_type": "markdown",
      "source": [
        "## l3"
      ],
      "metadata": {
        "id": "1ScRhiUYYr4z"
      }
    },
    {
      "cell_type": "code",
      "source": [
        "df_study['l3'].value_counts(dropna = False)"
      ],
      "metadata": {
        "colab": {
          "base_uri": "https://localhost:8080/"
        },
        "id": "F4DQKy1f2HlM",
        "outputId": "6dd8ee79-87e0-43db-ec11-b880064f15b8"
      },
      "execution_count": null,
      "outputs": [
        {
          "output_type": "execute_result",
          "data": {
            "text/plain": [
              "Palermo                 19940\n",
              "Belgrano                16514\n",
              "Caballito                9935\n",
              "Recoleta                 8164\n",
              "Villa Urquiza            7304\n",
              "Almagro                  7152\n",
              "Villa Crespo             6608\n",
              "Flores                   4424\n",
              "Nuñez                    4321\n",
              "Barrio Norte             4275\n",
              "Balvanera                3738\n",
              "Colegiales               3300\n",
              "San Cristobal            3039\n",
              "Villa Devoto             2722\n",
              "Saavedra                 2710\n",
              "Villa del Parque         2346\n",
              "San Telmo                2318\n",
              "Boedo                    2114\n",
              "Floresta                 2055\n",
              "Barracas                 1784\n",
              "Mataderos                1777\n",
              "Liniers                  1768\n",
              "Parque Chacabuco         1549\n",
              "San Nicolás              1516\n",
              "Villa Luro               1500\n",
              "Coghlan                  1491\n",
              "Villa Pueyrredón         1490\n",
              "Retiro                   1465\n",
              "Monserrat                1410\n",
              "Puerto Madero            1343\n",
              "Villa Lugano             1074\n",
              "Congreso                 1068\n",
              "Chacarita                 999\n",
              "NaN                       959\n",
              "Paternal                  898\n",
              "Parque Patricios          893\n",
              "Villa Ortuzar             810\n",
              "Constitución              786\n",
              "Villa General Mitre       650\n",
              "Monte Castro              645\n",
              "Once                      639\n",
              "Boca                      604\n",
              "Villa Santa Rita          593\n",
              "Las Cañitas               537\n",
              "Parque Avellaneda         519\n",
              "Parque Centenario         503\n",
              "Abasto                    444\n",
              "Velez Sarsfield           441\n",
              "Versalles                 414\n",
              "Pompeya                   411\n",
              "Tribunales                396\n",
              "Centro / Microcentro      377\n",
              "Parque Chas               352\n",
              "Agronomía                 327\n",
              "Villa Real                220\n",
              "Villa Soldati             106\n",
              "Villa Riachuelo            37\n",
              "Catalinas                   6\n",
              "Name: l3, dtype: int64"
            ]
          },
          "metadata": {},
          "execution_count": 79
        }
      ]
    },
    {
      "cell_type": "code",
      "source": [
        "df_study[(df_study['lon'].isna() == True ) & (df_study['lat'].isna() == True)]['l3'].to_frame().value_counts(dropna = False)"
      ],
      "metadata": {
        "colab": {
          "base_uri": "https://localhost:8080/"
        },
        "id": "xnSRbZoW2I2n",
        "outputId": "103c8a45-5102-42cb-de32-980f92d69d47"
      },
      "execution_count": null,
      "outputs": [
        {
          "output_type": "execute_result",
          "data": {
            "text/plain": [
              "l3                  \n",
              "Palermo                 1661\n",
              "Belgrano                 975\n",
              "Recoleta                 549\n",
              "NaN                      542\n",
              "Barrio Norte             463\n",
              "Almagro                  462\n",
              "Caballito                401\n",
              "San Cristobal            324\n",
              "Nuñez                    302\n",
              "San Telmo                243\n",
              "Flores                   230\n",
              "Balvanera                205\n",
              "Villa Crespo             198\n",
              "Villa Urquiza            190\n",
              "Puerto Madero            148\n",
              "Mataderos                134\n",
              "Constitución             129\n",
              "Abasto                   114\n",
              "Liniers                   87\n",
              "Congreso                  84\n",
              "Monserrat                 82\n",
              "Tribunales                67\n",
              "Las Cañitas               64\n",
              "Villa del Parque          64\n",
              "Retiro                    60\n",
              "San Nicolás               56\n",
              "Coghlan                   52\n",
              "Villa Luro                49\n",
              "Floresta                  40\n",
              "Saavedra                  33\n",
              "Once                      29\n",
              "Colegiales                27\n",
              "Villa Devoto              26\n",
              "Parque Chacabuco          25\n",
              "Centro / Microcentro      25\n",
              "Paternal                  24\n",
              "Boedo                     20\n",
              "Barracas                  18\n",
              "Villa Lugano              18\n",
              "Parque Patricios          13\n",
              "Villa Pueyrredón          11\n",
              "Parque Centenario         11\n",
              "Versalles                 11\n",
              "Monte Castro               7\n",
              "Chacarita                  5\n",
              "Villa Ortuzar              5\n",
              "Parque Avellaneda          4\n",
              "Pompeya                    4\n",
              "Agronomía                  3\n",
              "Villa Santa Rita           3\n",
              "Villa General Mitre        2\n",
              "Parque Chas                2\n",
              "Boca                       2\n",
              "Villa Real                 1\n",
              "dtype: int64"
            ]
          },
          "metadata": {},
          "execution_count": 80
        }
      ]
    },
    {
      "cell_type": "code",
      "source": [
        "df_study.shape"
      ],
      "metadata": {
        "colab": {
          "base_uri": "https://localhost:8080/"
        },
        "id": "l46grkGmdQEg",
        "outputId": "eb431672-2715-49ae-e7e8-3e9b6ffbee49"
      },
      "execution_count": null,
      "outputs": [
        {
          "output_type": "execute_result",
          "data": {
            "text/plain": [
              "(145780, 17)"
            ]
          },
          "metadata": {},
          "execution_count": 81
        }
      ]
    },
    {
      "cell_type": "code",
      "source": [
        "df1= df_study.loc[((df_study['lat'].isna() == False) & (df_study['lon'].isna() == False)) & (df_study['l3'].isna() == False)]\n",
        "df1.shape"
      ],
      "metadata": {
        "colab": {
          "base_uri": "https://localhost:8080/"
        },
        "id": "T2MzUiVFcLky",
        "outputId": "8487d4a5-044d-4cb7-c4b3-315887ca5094"
      },
      "execution_count": null,
      "outputs": [
        {
          "output_type": "execute_result",
          "data": {
            "text/plain": [
              "(137059, 17)"
            ]
          },
          "metadata": {},
          "execution_count": 82
        }
      ]
    },
    {
      "cell_type": "markdown",
      "source": [
        "## bathrooms"
      ],
      "metadata": {
        "id": "yVmFeJC2YsAi"
      }
    },
    {
      "cell_type": "code",
      "source": [
        "df_study['bathrooms'].value_counts(dropna = False) "
      ],
      "metadata": {
        "colab": {
          "base_uri": "https://localhost:8080/"
        },
        "id": "6-D-YmXb2cri",
        "outputId": "5796a8f3-b2a3-41b8-8f94-267941abc7a8"
      },
      "execution_count": null,
      "outputs": [
        {
          "output_type": "execute_result",
          "data": {
            "text/plain": [
              "1.0     92115\n",
              "2.0     34890\n",
              "3.0      8775\n",
              "NaN      7107\n",
              "4.0      2326\n",
              "5.0       361\n",
              "6.0       103\n",
              "7.0        64\n",
              "8.0        21\n",
              "9.0        11\n",
              "10.0        5\n",
              "12.0        2\n",
              "Name: bathrooms, dtype: int64"
            ]
          },
          "metadata": {},
          "execution_count": 83
        }
      ]
    },
    {
      "cell_type": "markdown",
      "source": [
        "## surface_total"
      ],
      "metadata": {
        "id": "XSwY_89NYsCy"
      }
    },
    {
      "cell_type": "code",
      "source": [
        "df_study['surface_total'].value_counts(dropna = False)"
      ],
      "metadata": {
        "id": "1qCQDgbcZRK3",
        "colab": {
          "base_uri": "https://localhost:8080/"
        },
        "outputId": "583f556b-4019-468d-8080-e5ea9f4467c4"
      },
      "execution_count": null,
      "outputs": [
        {
          "output_type": "execute_result",
          "data": {
            "text/plain": [
              "NaN        48186\n",
              "40.0        2076\n",
              "50.0        2029\n",
              "42.0        1857\n",
              "45.0        1799\n",
              "           ...  \n",
              "5741.0         1\n",
              "8988.0         1\n",
              "1208.0         1\n",
              "62100.0        1\n",
              "3562.0         1\n",
              "Name: surface_total, Length: 761, dtype: int64"
            ]
          },
          "metadata": {},
          "execution_count": 84
        }
      ]
    },
    {
      "cell_type": "markdown",
      "source": [
        "## surface_covered"
      ],
      "metadata": {
        "id": "nOUooHUsYsFg"
      }
    },
    {
      "cell_type": "code",
      "source": [
        "df_study['surface_covered'].value_counts(dropna = False)"
      ],
      "metadata": {
        "id": "s8pkxewnZYME",
        "colab": {
          "base_uri": "https://localhost:8080/"
        },
        "outputId": "08a7468c-c4ba-48b7-9311-3282ebcaf53b"
      },
      "execution_count": null,
      "outputs": [
        {
          "output_type": "execute_result",
          "data": {
            "text/plain": [
              "NaN       46563\n",
              "40.0       2793\n",
              "35.0       2325\n",
              "42.0       2251\n",
              "50.0       2187\n",
              "          ...  \n",
              "8695.0        1\n",
              "4868.0        1\n",
              "11.0          1\n",
              "359.0         1\n",
              "468.0         1\n",
              "Name: surface_covered, Length: 557, dtype: int64"
            ]
          },
          "metadata": {},
          "execution_count": 85
        }
      ]
    },
    {
      "cell_type": "markdown",
      "source": [
        "## Imputación rooms, bathrooms, surface_total and surface_covered"
      ],
      "metadata": {
        "id": "FBFZzFQGYr97"
      }
    },
    {
      "cell_type": "markdown",
      "source": [
        "Imputaremos los valores faltantes de cada una de estas variables por la mediana de cada tipo de propiedad."
      ],
      "metadata": {
        "id": "st63-YmdgYG0"
      }
    },
    {
      "cell_type": "code",
      "source": [
        "df_study['rooms'].value_counts(dropna = False) #NaN = 8357"
      ],
      "metadata": {
        "colab": {
          "base_uri": "https://localhost:8080/"
        },
        "id": "rFnQWipd2ajT",
        "outputId": "739fbac3-5065-4b23-bfa3-05a5c08a70f9"
      },
      "execution_count": null,
      "outputs": [
        {
          "output_type": "execute_result",
          "data": {
            "text/plain": [
              "2.0     40756\n",
              "3.0     38458\n",
              "1.0     27453\n",
              "4.0     22360\n",
              "NaN      8357\n",
              "5.0      5785\n",
              "6.0      1495\n",
              "7.0       601\n",
              "8.0       262\n",
              "10.0       85\n",
              "9.0        77\n",
              "11.0       25\n",
              "12.0       22\n",
              "14.0       13\n",
              "15.0        8\n",
              "18.0        4\n",
              "16.0        3\n",
              "20.0        3\n",
              "13.0        3\n",
              "21.0        3\n",
              "30.0        2\n",
              "19.0        2\n",
              "35.0        1\n",
              "24.0        1\n",
              "22.0        1\n",
              "Name: rooms, dtype: int64"
            ]
          },
          "metadata": {},
          "execution_count": 86
        }
      ]
    },
    {
      "cell_type": "code",
      "source": [
        "medianas_propiedad = df_study.groupby(by=['property_type']).median().round()\n",
        "medianas_propiedad = medianas_propiedad[['rooms', 'bathrooms', 'surface_total',\t'surface_covered']]\n",
        "medianas_propiedad"
      ],
      "metadata": {
        "colab": {
          "base_uri": "https://localhost:8080/",
          "height": 175
        },
        "id": "ktV1Xe3Qc7P4",
        "outputId": "20d67793-35bc-473f-953c-550a49003af7"
      },
      "execution_count": null,
      "outputs": [
        {
          "output_type": "execute_result",
          "data": {
            "text/plain": [
              "               rooms  bathrooms  surface_total  surface_covered\n",
              "property_type                                                  \n",
              "Casa             4.0        2.0          208.0            156.0\n",
              "Departamento     2.0        1.0           58.0             52.0\n",
              "PH               3.0        1.0          100.0             75.0"
            ],
            "text/html": [
              "\n",
              "  <div id=\"df-5d51945d-c520-44ad-9931-2b0aee273ad3\">\n",
              "    <div class=\"colab-df-container\">\n",
              "      <div>\n",
              "<style scoped>\n",
              "    .dataframe tbody tr th:only-of-type {\n",
              "        vertical-align: middle;\n",
              "    }\n",
              "\n",
              "    .dataframe tbody tr th {\n",
              "        vertical-align: top;\n",
              "    }\n",
              "\n",
              "    .dataframe thead th {\n",
              "        text-align: right;\n",
              "    }\n",
              "</style>\n",
              "<table border=\"1\" class=\"dataframe\">\n",
              "  <thead>\n",
              "    <tr style=\"text-align: right;\">\n",
              "      <th></th>\n",
              "      <th>rooms</th>\n",
              "      <th>bathrooms</th>\n",
              "      <th>surface_total</th>\n",
              "      <th>surface_covered</th>\n",
              "    </tr>\n",
              "    <tr>\n",
              "      <th>property_type</th>\n",
              "      <th></th>\n",
              "      <th></th>\n",
              "      <th></th>\n",
              "      <th></th>\n",
              "    </tr>\n",
              "  </thead>\n",
              "  <tbody>\n",
              "    <tr>\n",
              "      <th>Casa</th>\n",
              "      <td>4.0</td>\n",
              "      <td>2.0</td>\n",
              "      <td>208.0</td>\n",
              "      <td>156.0</td>\n",
              "    </tr>\n",
              "    <tr>\n",
              "      <th>Departamento</th>\n",
              "      <td>2.0</td>\n",
              "      <td>1.0</td>\n",
              "      <td>58.0</td>\n",
              "      <td>52.0</td>\n",
              "    </tr>\n",
              "    <tr>\n",
              "      <th>PH</th>\n",
              "      <td>3.0</td>\n",
              "      <td>1.0</td>\n",
              "      <td>100.0</td>\n",
              "      <td>75.0</td>\n",
              "    </tr>\n",
              "  </tbody>\n",
              "</table>\n",
              "</div>\n",
              "      <button class=\"colab-df-convert\" onclick=\"convertToInteractive('df-5d51945d-c520-44ad-9931-2b0aee273ad3')\"\n",
              "              title=\"Convert this dataframe to an interactive table.\"\n",
              "              style=\"display:none;\">\n",
              "        \n",
              "  <svg xmlns=\"http://www.w3.org/2000/svg\" height=\"24px\"viewBox=\"0 0 24 24\"\n",
              "       width=\"24px\">\n",
              "    <path d=\"M0 0h24v24H0V0z\" fill=\"none\"/>\n",
              "    <path d=\"M18.56 5.44l.94 2.06.94-2.06 2.06-.94-2.06-.94-.94-2.06-.94 2.06-2.06.94zm-11 1L8.5 8.5l.94-2.06 2.06-.94-2.06-.94L8.5 2.5l-.94 2.06-2.06.94zm10 10l.94 2.06.94-2.06 2.06-.94-2.06-.94-.94-2.06-.94 2.06-2.06.94z\"/><path d=\"M17.41 7.96l-1.37-1.37c-.4-.4-.92-.59-1.43-.59-.52 0-1.04.2-1.43.59L10.3 9.45l-7.72 7.72c-.78.78-.78 2.05 0 2.83L4 21.41c.39.39.9.59 1.41.59.51 0 1.02-.2 1.41-.59l7.78-7.78 2.81-2.81c.8-.78.8-2.07 0-2.86zM5.41 20L4 18.59l7.72-7.72 1.47 1.35L5.41 20z\"/>\n",
              "  </svg>\n",
              "      </button>\n",
              "      \n",
              "  <style>\n",
              "    .colab-df-container {\n",
              "      display:flex;\n",
              "      flex-wrap:wrap;\n",
              "      gap: 12px;\n",
              "    }\n",
              "\n",
              "    .colab-df-convert {\n",
              "      background-color: #E8F0FE;\n",
              "      border: none;\n",
              "      border-radius: 50%;\n",
              "      cursor: pointer;\n",
              "      display: none;\n",
              "      fill: #1967D2;\n",
              "      height: 32px;\n",
              "      padding: 0 0 0 0;\n",
              "      width: 32px;\n",
              "    }\n",
              "\n",
              "    .colab-df-convert:hover {\n",
              "      background-color: #E2EBFA;\n",
              "      box-shadow: 0px 1px 2px rgba(60, 64, 67, 0.3), 0px 1px 3px 1px rgba(60, 64, 67, 0.15);\n",
              "      fill: #174EA6;\n",
              "    }\n",
              "\n",
              "    [theme=dark] .colab-df-convert {\n",
              "      background-color: #3B4455;\n",
              "      fill: #D2E3FC;\n",
              "    }\n",
              "\n",
              "    [theme=dark] .colab-df-convert:hover {\n",
              "      background-color: #434B5C;\n",
              "      box-shadow: 0px 1px 3px 1px rgba(0, 0, 0, 0.15);\n",
              "      filter: drop-shadow(0px 1px 2px rgba(0, 0, 0, 0.3));\n",
              "      fill: #FFFFFF;\n",
              "    }\n",
              "  </style>\n",
              "\n",
              "      <script>\n",
              "        const buttonEl =\n",
              "          document.querySelector('#df-5d51945d-c520-44ad-9931-2b0aee273ad3 button.colab-df-convert');\n",
              "        buttonEl.style.display =\n",
              "          google.colab.kernel.accessAllowed ? 'block' : 'none';\n",
              "\n",
              "        async function convertToInteractive(key) {\n",
              "          const element = document.querySelector('#df-5d51945d-c520-44ad-9931-2b0aee273ad3');\n",
              "          const dataTable =\n",
              "            await google.colab.kernel.invokeFunction('convertToInteractive',\n",
              "                                                     [key], {});\n",
              "          if (!dataTable) return;\n",
              "\n",
              "          const docLinkHtml = 'Like what you see? Visit the ' +\n",
              "            '<a target=\"_blank\" href=https://colab.research.google.com/notebooks/data_table.ipynb>data table notebook</a>'\n",
              "            + ' to learn more about interactive tables.';\n",
              "          element.innerHTML = '';\n",
              "          dataTable['output_type'] = 'display_data';\n",
              "          await google.colab.output.renderOutput(dataTable, element);\n",
              "          const docLink = document.createElement('div');\n",
              "          docLink.innerHTML = docLinkHtml;\n",
              "          element.appendChild(docLink);\n",
              "        }\n",
              "      </script>\n",
              "    </div>\n",
              "  </div>\n",
              "  "
            ]
          },
          "metadata": {},
          "execution_count": 87
        }
      ]
    },
    {
      "cell_type": "code",
      "source": [
        "def imputar_medianas(df, medianas_propiedad):\n",
        "  df_train_copy = df.copy()\n",
        "  for index, row in df_train_copy.iterrows():\n",
        "    if (pd.isnull(df_train_copy['rooms'][index]) == True):\n",
        "      property_type = df_train_copy['property_type'][index] \n",
        "      rooms = medianas_propiedad[medianas_propiedad.index == property_type]['rooms']\n",
        "      df_train_copy['rooms'][index] = rooms\n",
        "    if (pd.isnull(df_train_copy['bathrooms'][index]) == True):\n",
        "      property_type = df_train_copy['property_type'][index] \n",
        "      bathrooms = medianas_propiedad[medianas_propiedad.index == property_type]['bathrooms']\n",
        "      df_train_copy['bathrooms'][index] = bathrooms\n",
        "    if (pd.isnull(df_train_copy['surface_total'][index]) == True):\n",
        "      property_type = df_train_copy['property_type'][index] \n",
        "      surface_total = medianas_propiedad[medianas_propiedad.index == property_type]['surface_total']\n",
        "      df_train_copy['surface_total'][index] = surface_total\n",
        "    if (pd.isnull(df_train_copy['surface_covered'][index]) == True):\n",
        "      property_type = df_train_copy['property_type'][index] \n",
        "      surface_covered = medianas_propiedad[medianas_propiedad.index == property_type]['surface_covered']\n",
        "      df_train_copy['surface_covered'][index] = surface_covered\n",
        "\n",
        "  return df_train_copy\n",
        "\n",
        "df_train_2 = df_study\n",
        "df_train_2 = imputar_medianas(df_train_2, medianas_propiedad)\n",
        "df_train_2 "
      ],
      "metadata": {
        "colab": {
          "base_uri": "https://localhost:8080/",
          "height": 1000
        },
        "id": "k2c04USDeIHh",
        "outputId": "0d07ff11-ce33-4045-bf07-e728faedc787"
      },
      "execution_count": null,
      "outputs": [
        {
          "output_type": "stream",
          "name": "stderr",
          "text": [
            "/usr/local/lib/python3.7/dist-packages/ipykernel_launcher.py:7: SettingWithCopyWarning: \n",
            "A value is trying to be set on a copy of a slice from a DataFrame\n",
            "\n",
            "See the caveats in the documentation: https://pandas.pydata.org/pandas-docs/stable/user_guide/indexing.html#returning-a-view-versus-a-copy\n",
            "  import sys\n",
            "/usr/local/lib/python3.7/dist-packages/ipykernel_launcher.py:11: SettingWithCopyWarning: \n",
            "A value is trying to be set on a copy of a slice from a DataFrame\n",
            "\n",
            "See the caveats in the documentation: https://pandas.pydata.org/pandas-docs/stable/user_guide/indexing.html#returning-a-view-versus-a-copy\n",
            "  # This is added back by InteractiveShellApp.init_path()\n",
            "/usr/local/lib/python3.7/dist-packages/ipykernel_launcher.py:15: SettingWithCopyWarning: \n",
            "A value is trying to be set on a copy of a slice from a DataFrame\n",
            "\n",
            "See the caveats in the documentation: https://pandas.pydata.org/pandas-docs/stable/user_guide/indexing.html#returning-a-view-versus-a-copy\n",
            "  from ipykernel import kernelapp as app\n",
            "/usr/local/lib/python3.7/dist-packages/ipykernel_launcher.py:19: SettingWithCopyWarning: \n",
            "A value is trying to be set on a copy of a slice from a DataFrame\n",
            "\n",
            "See the caveats in the documentation: https://pandas.pydata.org/pandas-docs/stable/user_guide/indexing.html#returning-a-view-versus-a-copy\n"
          ]
        },
        {
          "output_type": "execute_result",
          "data": {
            "text/plain": [
              "                                lat        lon            l3  rooms  \\\n",
              "id                                                                    \n",
              "U3qdJMKXnOJm0Y1tWpnnfg== -34.597364 -58.372987        Retiro    2.0   \n",
              "gsQB/JzLxaQdBLfNcm/DMw== -34.600004 -58.417191       Almagro    1.0   \n",
              "SlPt6GJRjM+cO4rD3n3HFQ== -34.581699 -58.433547       Palermo    1.0   \n",
              "ZaH+6DXJ4MLM6QqZXhgWiw== -34.595044 -58.442538       Palermo    2.0   \n",
              "r7qrM5xaYo8QImSnqyKyYA== -34.582549 -58.417350       Palermo    2.0   \n",
              "...                             ...        ...           ...    ...   \n",
              "iLCO/FJyUIS7qWUZumhJ3Q== -34.550627 -58.453145      Congreso    6.0   \n",
              "uW8iDzRUJQWYWwk3MQQRyw==        NaN        NaN      Recoleta    5.0   \n",
              "fnn4k7xCc/xMRH6N56OnNA== -34.614237 -58.394551     Balvanera    5.0   \n",
              "bBhDAJkRbJWukgHc0u//Zw== -34.600052 -58.393015  Barrio Norte    5.0   \n",
              "kW2uYacPEyIcBykz/8rShA== -34.613926 -58.499472  Monte Castro    6.0   \n",
              "\n",
              "                          bathrooms  surface_total  surface_covered     price  \\\n",
              "id                                                                              \n",
              "U3qdJMKXnOJm0Y1tWpnnfg==        1.0           58.0             25.0   85000.0   \n",
              "gsQB/JzLxaQdBLfNcm/DMw==        1.0           38.0             31.0  110000.0   \n",
              "SlPt6GJRjM+cO4rD3n3HFQ==        1.0           35.0             30.0  105000.0   \n",
              "ZaH+6DXJ4MLM6QqZXhgWiw==        1.0           51.0             46.0  150000.0   \n",
              "r7qrM5xaYo8QImSnqyKyYA==        1.0           53.0             53.0  136500.0   \n",
              "...                             ...            ...              ...       ...   \n",
              "iLCO/FJyUIS7qWUZumhJ3Q==        1.0           95.0             95.0  109000.0   \n",
              "uW8iDzRUJQWYWwk3MQQRyw==        3.0          190.0            180.0  510000.0   \n",
              "fnn4k7xCc/xMRH6N56OnNA==        1.0           58.0             52.0  235000.0   \n",
              "bBhDAJkRbJWukgHc0u//Zw==        1.0          110.0             95.0  318000.0   \n",
              "kW2uYacPEyIcBykz/8rShA==        2.0          243.0            180.0  250000.0   \n",
              "\n",
              "                                                                description  \\\n",
              "id                                                                            \n",
              "U3qdJMKXnOJm0Y1tWpnnfg==  EXCELENTE DEPTO MUY LUMINOSO, <br><br>LAS MEDI...   \n",
              "gsQB/JzLxaQdBLfNcm/DMw==  Monoambiente de 38m² en muy buen estado con Am...   \n",
              "SlPt6GJRjM+cO4rD3n3HFQ==  RETASADO Venta Palermo Niceto Vega y Bonpland ...   \n",
              "ZaH+6DXJ4MLM6QqZXhgWiw==  CONTACTO: 11- (LLAMADOS O WHATSAPP)<br><br>EXC...   \n",
              "r7qrM5xaYo8QImSnqyKyYA==  2 AMBIENTES CON 2 BALCÓNES PISO 8<br><br>Inmej...   \n",
              "...                                                                     ...   \n",
              "iLCO/FJyUIS7qWUZumhJ3Q==  OPORTUNIDAD PARA RECICLAR!!! Piso en Congreso ...   \n",
              "uW8iDzRUJQWYWwk3MQQRyw==  Lindisimo Piso en Recoleta , Hall de entrada ,...   \n",
              "fnn4k7xCc/xMRH6N56OnNA==  <b>Impecable departamento tipo Ph con patio.</...   \n",
              "bBhDAJkRbJWukgHc0u//Zw==  Excelente . 3 dormitorios con placards + depen...   \n",
              "kW2uYacPEyIcBykz/8rShA==  Corredor Responsable: Rene Vera - CUCICBA 6778...   \n",
              "\n",
              "                         property_type  lat_NAN  lon_NAN  l3_NAN  rooms_NAN  \\\n",
              "id                                                                            \n",
              "U3qdJMKXnOJm0Y1tWpnnfg==  Departamento        0        0       0          1   \n",
              "gsQB/JzLxaQdBLfNcm/DMw==  Departamento        0        0       0          0   \n",
              "SlPt6GJRjM+cO4rD3n3HFQ==  Departamento        0        0       0          0   \n",
              "ZaH+6DXJ4MLM6QqZXhgWiw==  Departamento        0        0       0          0   \n",
              "r7qrM5xaYo8QImSnqyKyYA==  Departamento        0        0       0          0   \n",
              "...                                ...      ...      ...     ...        ...   \n",
              "iLCO/FJyUIS7qWUZumhJ3Q==  Departamento        0        0       0          0   \n",
              "uW8iDzRUJQWYWwk3MQQRyw==  Departamento        1        1       0          0   \n",
              "fnn4k7xCc/xMRH6N56OnNA==  Departamento        0        0       0          0   \n",
              "bBhDAJkRbJWukgHc0u//Zw==  Departamento        0        0       0          0   \n",
              "kW2uYacPEyIcBykz/8rShA==            PH        0        0       0          0   \n",
              "\n",
              "                          bathrooms_NAN  surface_total_NAN  \\\n",
              "id                                                           \n",
              "U3qdJMKXnOJm0Y1tWpnnfg==              1                  1   \n",
              "gsQB/JzLxaQdBLfNcm/DMw==              0                  0   \n",
              "SlPt6GJRjM+cO4rD3n3HFQ==              0                  0   \n",
              "ZaH+6DXJ4MLM6QqZXhgWiw==              0                  0   \n",
              "r7qrM5xaYo8QImSnqyKyYA==              0                  0   \n",
              "...                                 ...                ...   \n",
              "iLCO/FJyUIS7qWUZumhJ3Q==              0                  0   \n",
              "uW8iDzRUJQWYWwk3MQQRyw==              0                  0   \n",
              "fnn4k7xCc/xMRH6N56OnNA==              1                  1   \n",
              "bBhDAJkRbJWukgHc0u//Zw==              0                  0   \n",
              "kW2uYacPEyIcBykz/8rShA==              0                  0   \n",
              "\n",
              "                          surface_covered_NAN  \n",
              "id                                             \n",
              "U3qdJMKXnOJm0Y1tWpnnfg==                    0  \n",
              "gsQB/JzLxaQdBLfNcm/DMw==                    0  \n",
              "SlPt6GJRjM+cO4rD3n3HFQ==                    0  \n",
              "ZaH+6DXJ4MLM6QqZXhgWiw==                    0  \n",
              "r7qrM5xaYo8QImSnqyKyYA==                    0  \n",
              "...                                       ...  \n",
              "iLCO/FJyUIS7qWUZumhJ3Q==                    0  \n",
              "uW8iDzRUJQWYWwk3MQQRyw==                    0  \n",
              "fnn4k7xCc/xMRH6N56OnNA==                    1  \n",
              "bBhDAJkRbJWukgHc0u//Zw==                    0  \n",
              "kW2uYacPEyIcBykz/8rShA==                    0  \n",
              "\n",
              "[145780 rows x 17 columns]"
            ],
            "text/html": [
              "\n",
              "  <div id=\"df-5c71c3d2-6443-4888-92c1-c1a2d0fc6fa9\">\n",
              "    <div class=\"colab-df-container\">\n",
              "      <div>\n",
              "<style scoped>\n",
              "    .dataframe tbody tr th:only-of-type {\n",
              "        vertical-align: middle;\n",
              "    }\n",
              "\n",
              "    .dataframe tbody tr th {\n",
              "        vertical-align: top;\n",
              "    }\n",
              "\n",
              "    .dataframe thead th {\n",
              "        text-align: right;\n",
              "    }\n",
              "</style>\n",
              "<table border=\"1\" class=\"dataframe\">\n",
              "  <thead>\n",
              "    <tr style=\"text-align: right;\">\n",
              "      <th></th>\n",
              "      <th>lat</th>\n",
              "      <th>lon</th>\n",
              "      <th>l3</th>\n",
              "      <th>rooms</th>\n",
              "      <th>bathrooms</th>\n",
              "      <th>surface_total</th>\n",
              "      <th>surface_covered</th>\n",
              "      <th>price</th>\n",
              "      <th>description</th>\n",
              "      <th>property_type</th>\n",
              "      <th>lat_NAN</th>\n",
              "      <th>lon_NAN</th>\n",
              "      <th>l3_NAN</th>\n",
              "      <th>rooms_NAN</th>\n",
              "      <th>bathrooms_NAN</th>\n",
              "      <th>surface_total_NAN</th>\n",
              "      <th>surface_covered_NAN</th>\n",
              "    </tr>\n",
              "    <tr>\n",
              "      <th>id</th>\n",
              "      <th></th>\n",
              "      <th></th>\n",
              "      <th></th>\n",
              "      <th></th>\n",
              "      <th></th>\n",
              "      <th></th>\n",
              "      <th></th>\n",
              "      <th></th>\n",
              "      <th></th>\n",
              "      <th></th>\n",
              "      <th></th>\n",
              "      <th></th>\n",
              "      <th></th>\n",
              "      <th></th>\n",
              "      <th></th>\n",
              "      <th></th>\n",
              "      <th></th>\n",
              "    </tr>\n",
              "  </thead>\n",
              "  <tbody>\n",
              "    <tr>\n",
              "      <th>U3qdJMKXnOJm0Y1tWpnnfg==</th>\n",
              "      <td>-34.597364</td>\n",
              "      <td>-58.372987</td>\n",
              "      <td>Retiro</td>\n",
              "      <td>2.0</td>\n",
              "      <td>1.0</td>\n",
              "      <td>58.0</td>\n",
              "      <td>25.0</td>\n",
              "      <td>85000.0</td>\n",
              "      <td>EXCELENTE DEPTO MUY LUMINOSO, &lt;br&gt;&lt;br&gt;LAS MEDI...</td>\n",
              "      <td>Departamento</td>\n",
              "      <td>0</td>\n",
              "      <td>0</td>\n",
              "      <td>0</td>\n",
              "      <td>1</td>\n",
              "      <td>1</td>\n",
              "      <td>1</td>\n",
              "      <td>0</td>\n",
              "    </tr>\n",
              "    <tr>\n",
              "      <th>gsQB/JzLxaQdBLfNcm/DMw==</th>\n",
              "      <td>-34.600004</td>\n",
              "      <td>-58.417191</td>\n",
              "      <td>Almagro</td>\n",
              "      <td>1.0</td>\n",
              "      <td>1.0</td>\n",
              "      <td>38.0</td>\n",
              "      <td>31.0</td>\n",
              "      <td>110000.0</td>\n",
              "      <td>Monoambiente de 38m² en muy buen estado con Am...</td>\n",
              "      <td>Departamento</td>\n",
              "      <td>0</td>\n",
              "      <td>0</td>\n",
              "      <td>0</td>\n",
              "      <td>0</td>\n",
              "      <td>0</td>\n",
              "      <td>0</td>\n",
              "      <td>0</td>\n",
              "    </tr>\n",
              "    <tr>\n",
              "      <th>SlPt6GJRjM+cO4rD3n3HFQ==</th>\n",
              "      <td>-34.581699</td>\n",
              "      <td>-58.433547</td>\n",
              "      <td>Palermo</td>\n",
              "      <td>1.0</td>\n",
              "      <td>1.0</td>\n",
              "      <td>35.0</td>\n",
              "      <td>30.0</td>\n",
              "      <td>105000.0</td>\n",
              "      <td>RETASADO Venta Palermo Niceto Vega y Bonpland ...</td>\n",
              "      <td>Departamento</td>\n",
              "      <td>0</td>\n",
              "      <td>0</td>\n",
              "      <td>0</td>\n",
              "      <td>0</td>\n",
              "      <td>0</td>\n",
              "      <td>0</td>\n",
              "      <td>0</td>\n",
              "    </tr>\n",
              "    <tr>\n",
              "      <th>ZaH+6DXJ4MLM6QqZXhgWiw==</th>\n",
              "      <td>-34.595044</td>\n",
              "      <td>-58.442538</td>\n",
              "      <td>Palermo</td>\n",
              "      <td>2.0</td>\n",
              "      <td>1.0</td>\n",
              "      <td>51.0</td>\n",
              "      <td>46.0</td>\n",
              "      <td>150000.0</td>\n",
              "      <td>CONTACTO: 11- (LLAMADOS O WHATSAPP)&lt;br&gt;&lt;br&gt;EXC...</td>\n",
              "      <td>Departamento</td>\n",
              "      <td>0</td>\n",
              "      <td>0</td>\n",
              "      <td>0</td>\n",
              "      <td>0</td>\n",
              "      <td>0</td>\n",
              "      <td>0</td>\n",
              "      <td>0</td>\n",
              "    </tr>\n",
              "    <tr>\n",
              "      <th>r7qrM5xaYo8QImSnqyKyYA==</th>\n",
              "      <td>-34.582549</td>\n",
              "      <td>-58.417350</td>\n",
              "      <td>Palermo</td>\n",
              "      <td>2.0</td>\n",
              "      <td>1.0</td>\n",
              "      <td>53.0</td>\n",
              "      <td>53.0</td>\n",
              "      <td>136500.0</td>\n",
              "      <td>2 AMBIENTES CON 2 BALCÓNES PISO 8&lt;br&gt;&lt;br&gt;Inmej...</td>\n",
              "      <td>Departamento</td>\n",
              "      <td>0</td>\n",
              "      <td>0</td>\n",
              "      <td>0</td>\n",
              "      <td>0</td>\n",
              "      <td>0</td>\n",
              "      <td>0</td>\n",
              "      <td>0</td>\n",
              "    </tr>\n",
              "    <tr>\n",
              "      <th>...</th>\n",
              "      <td>...</td>\n",
              "      <td>...</td>\n",
              "      <td>...</td>\n",
              "      <td>...</td>\n",
              "      <td>...</td>\n",
              "      <td>...</td>\n",
              "      <td>...</td>\n",
              "      <td>...</td>\n",
              "      <td>...</td>\n",
              "      <td>...</td>\n",
              "      <td>...</td>\n",
              "      <td>...</td>\n",
              "      <td>...</td>\n",
              "      <td>...</td>\n",
              "      <td>...</td>\n",
              "      <td>...</td>\n",
              "      <td>...</td>\n",
              "    </tr>\n",
              "    <tr>\n",
              "      <th>iLCO/FJyUIS7qWUZumhJ3Q==</th>\n",
              "      <td>-34.550627</td>\n",
              "      <td>-58.453145</td>\n",
              "      <td>Congreso</td>\n",
              "      <td>6.0</td>\n",
              "      <td>1.0</td>\n",
              "      <td>95.0</td>\n",
              "      <td>95.0</td>\n",
              "      <td>109000.0</td>\n",
              "      <td>OPORTUNIDAD PARA RECICLAR!!! Piso en Congreso ...</td>\n",
              "      <td>Departamento</td>\n",
              "      <td>0</td>\n",
              "      <td>0</td>\n",
              "      <td>0</td>\n",
              "      <td>0</td>\n",
              "      <td>0</td>\n",
              "      <td>0</td>\n",
              "      <td>0</td>\n",
              "    </tr>\n",
              "    <tr>\n",
              "      <th>uW8iDzRUJQWYWwk3MQQRyw==</th>\n",
              "      <td>NaN</td>\n",
              "      <td>NaN</td>\n",
              "      <td>Recoleta</td>\n",
              "      <td>5.0</td>\n",
              "      <td>3.0</td>\n",
              "      <td>190.0</td>\n",
              "      <td>180.0</td>\n",
              "      <td>510000.0</td>\n",
              "      <td>Lindisimo Piso en Recoleta , Hall de entrada ,...</td>\n",
              "      <td>Departamento</td>\n",
              "      <td>1</td>\n",
              "      <td>1</td>\n",
              "      <td>0</td>\n",
              "      <td>0</td>\n",
              "      <td>0</td>\n",
              "      <td>0</td>\n",
              "      <td>0</td>\n",
              "    </tr>\n",
              "    <tr>\n",
              "      <th>fnn4k7xCc/xMRH6N56OnNA==</th>\n",
              "      <td>-34.614237</td>\n",
              "      <td>-58.394551</td>\n",
              "      <td>Balvanera</td>\n",
              "      <td>5.0</td>\n",
              "      <td>1.0</td>\n",
              "      <td>58.0</td>\n",
              "      <td>52.0</td>\n",
              "      <td>235000.0</td>\n",
              "      <td>&lt;b&gt;Impecable departamento tipo Ph con patio.&lt;/...</td>\n",
              "      <td>Departamento</td>\n",
              "      <td>0</td>\n",
              "      <td>0</td>\n",
              "      <td>0</td>\n",
              "      <td>0</td>\n",
              "      <td>1</td>\n",
              "      <td>1</td>\n",
              "      <td>1</td>\n",
              "    </tr>\n",
              "    <tr>\n",
              "      <th>bBhDAJkRbJWukgHc0u//Zw==</th>\n",
              "      <td>-34.600052</td>\n",
              "      <td>-58.393015</td>\n",
              "      <td>Barrio Norte</td>\n",
              "      <td>5.0</td>\n",
              "      <td>1.0</td>\n",
              "      <td>110.0</td>\n",
              "      <td>95.0</td>\n",
              "      <td>318000.0</td>\n",
              "      <td>Excelente . 3 dormitorios con placards + depen...</td>\n",
              "      <td>Departamento</td>\n",
              "      <td>0</td>\n",
              "      <td>0</td>\n",
              "      <td>0</td>\n",
              "      <td>0</td>\n",
              "      <td>0</td>\n",
              "      <td>0</td>\n",
              "      <td>0</td>\n",
              "    </tr>\n",
              "    <tr>\n",
              "      <th>kW2uYacPEyIcBykz/8rShA==</th>\n",
              "      <td>-34.613926</td>\n",
              "      <td>-58.499472</td>\n",
              "      <td>Monte Castro</td>\n",
              "      <td>6.0</td>\n",
              "      <td>2.0</td>\n",
              "      <td>243.0</td>\n",
              "      <td>180.0</td>\n",
              "      <td>250000.0</td>\n",
              "      <td>Corredor Responsable: Rene Vera - CUCICBA 6778...</td>\n",
              "      <td>PH</td>\n",
              "      <td>0</td>\n",
              "      <td>0</td>\n",
              "      <td>0</td>\n",
              "      <td>0</td>\n",
              "      <td>0</td>\n",
              "      <td>0</td>\n",
              "      <td>0</td>\n",
              "    </tr>\n",
              "  </tbody>\n",
              "</table>\n",
              "<p>145780 rows × 17 columns</p>\n",
              "</div>\n",
              "      <button class=\"colab-df-convert\" onclick=\"convertToInteractive('df-5c71c3d2-6443-4888-92c1-c1a2d0fc6fa9')\"\n",
              "              title=\"Convert this dataframe to an interactive table.\"\n",
              "              style=\"display:none;\">\n",
              "        \n",
              "  <svg xmlns=\"http://www.w3.org/2000/svg\" height=\"24px\"viewBox=\"0 0 24 24\"\n",
              "       width=\"24px\">\n",
              "    <path d=\"M0 0h24v24H0V0z\" fill=\"none\"/>\n",
              "    <path d=\"M18.56 5.44l.94 2.06.94-2.06 2.06-.94-2.06-.94-.94-2.06-.94 2.06-2.06.94zm-11 1L8.5 8.5l.94-2.06 2.06-.94-2.06-.94L8.5 2.5l-.94 2.06-2.06.94zm10 10l.94 2.06.94-2.06 2.06-.94-2.06-.94-.94-2.06-.94 2.06-2.06.94z\"/><path d=\"M17.41 7.96l-1.37-1.37c-.4-.4-.92-.59-1.43-.59-.52 0-1.04.2-1.43.59L10.3 9.45l-7.72 7.72c-.78.78-.78 2.05 0 2.83L4 21.41c.39.39.9.59 1.41.59.51 0 1.02-.2 1.41-.59l7.78-7.78 2.81-2.81c.8-.78.8-2.07 0-2.86zM5.41 20L4 18.59l7.72-7.72 1.47 1.35L5.41 20z\"/>\n",
              "  </svg>\n",
              "      </button>\n",
              "      \n",
              "  <style>\n",
              "    .colab-df-container {\n",
              "      display:flex;\n",
              "      flex-wrap:wrap;\n",
              "      gap: 12px;\n",
              "    }\n",
              "\n",
              "    .colab-df-convert {\n",
              "      background-color: #E8F0FE;\n",
              "      border: none;\n",
              "      border-radius: 50%;\n",
              "      cursor: pointer;\n",
              "      display: none;\n",
              "      fill: #1967D2;\n",
              "      height: 32px;\n",
              "      padding: 0 0 0 0;\n",
              "      width: 32px;\n",
              "    }\n",
              "\n",
              "    .colab-df-convert:hover {\n",
              "      background-color: #E2EBFA;\n",
              "      box-shadow: 0px 1px 2px rgba(60, 64, 67, 0.3), 0px 1px 3px 1px rgba(60, 64, 67, 0.15);\n",
              "      fill: #174EA6;\n",
              "    }\n",
              "\n",
              "    [theme=dark] .colab-df-convert {\n",
              "      background-color: #3B4455;\n",
              "      fill: #D2E3FC;\n",
              "    }\n",
              "\n",
              "    [theme=dark] .colab-df-convert:hover {\n",
              "      background-color: #434B5C;\n",
              "      box-shadow: 0px 1px 3px 1px rgba(0, 0, 0, 0.15);\n",
              "      filter: drop-shadow(0px 1px 2px rgba(0, 0, 0, 0.3));\n",
              "      fill: #FFFFFF;\n",
              "    }\n",
              "  </style>\n",
              "\n",
              "      <script>\n",
              "        const buttonEl =\n",
              "          document.querySelector('#df-5c71c3d2-6443-4888-92c1-c1a2d0fc6fa9 button.colab-df-convert');\n",
              "        buttonEl.style.display =\n",
              "          google.colab.kernel.accessAllowed ? 'block' : 'none';\n",
              "\n",
              "        async function convertToInteractive(key) {\n",
              "          const element = document.querySelector('#df-5c71c3d2-6443-4888-92c1-c1a2d0fc6fa9');\n",
              "          const dataTable =\n",
              "            await google.colab.kernel.invokeFunction('convertToInteractive',\n",
              "                                                     [key], {});\n",
              "          if (!dataTable) return;\n",
              "\n",
              "          const docLinkHtml = 'Like what you see? Visit the ' +\n",
              "            '<a target=\"_blank\" href=https://colab.research.google.com/notebooks/data_table.ipynb>data table notebook</a>'\n",
              "            + ' to learn more about interactive tables.';\n",
              "          element.innerHTML = '';\n",
              "          dataTable['output_type'] = 'display_data';\n",
              "          await google.colab.output.renderOutput(dataTable, element);\n",
              "          const docLink = document.createElement('div');\n",
              "          docLink.innerHTML = docLinkHtml;\n",
              "          element.appendChild(docLink);\n",
              "        }\n",
              "      </script>\n",
              "    </div>\n",
              "  </div>\n",
              "  "
            ]
          },
          "metadata": {},
          "execution_count": 88
        }
      ]
    },
    {
      "cell_type": "code",
      "source": [
        "df_train_2.shape"
      ],
      "metadata": {
        "colab": {
          "base_uri": "https://localhost:8080/"
        },
        "id": "iHnY5h9UhDJD",
        "outputId": "66de4786-b647-4ef8-a185-d44bbd71801c"
      },
      "execution_count": null,
      "outputs": [
        {
          "output_type": "execute_result",
          "data": {
            "text/plain": [
              "(145780, 17)"
            ]
          },
          "metadata": {},
          "execution_count": 89
        }
      ]
    },
    {
      "cell_type": "code",
      "source": [
        "df_train_2.rooms.value_counts(dropna =False)"
      ],
      "metadata": {
        "colab": {
          "base_uri": "https://localhost:8080/"
        },
        "id": "NqR52SIag0Ud",
        "outputId": "8e315093-f3ca-4666-c657-be6c6e514b02"
      },
      "execution_count": null,
      "outputs": [
        {
          "output_type": "execute_result",
          "data": {
            "text/plain": [
              "2.0     46712\n",
              "3.0     39363\n",
              "1.0     27453\n",
              "4.0     23856\n",
              "5.0      5785\n",
              "6.0      1495\n",
              "7.0       601\n",
              "8.0       262\n",
              "10.0       85\n",
              "9.0        77\n",
              "11.0       25\n",
              "12.0       22\n",
              "14.0       13\n",
              "15.0        8\n",
              "18.0        4\n",
              "21.0        3\n",
              "16.0        3\n",
              "20.0        3\n",
              "13.0        3\n",
              "30.0        2\n",
              "19.0        2\n",
              "35.0        1\n",
              "24.0        1\n",
              "22.0        1\n",
              "Name: rooms, dtype: int64"
            ]
          },
          "metadata": {},
          "execution_count": 90
        }
      ]
    },
    {
      "cell_type": "code",
      "source": [
        "df_train_2.rooms.value_counts(dropna =False)"
      ],
      "metadata": {
        "colab": {
          "base_uri": "https://localhost:8080/"
        },
        "id": "tsaGDLJ4iKWE",
        "outputId": "0070fd7b-6469-4e9e-b284-13514d86301c"
      },
      "execution_count": null,
      "outputs": [
        {
          "output_type": "execute_result",
          "data": {
            "text/plain": [
              "2.0     46712\n",
              "3.0     39363\n",
              "1.0     27453\n",
              "4.0     23856\n",
              "5.0      5785\n",
              "6.0      1495\n",
              "7.0       601\n",
              "8.0       262\n",
              "10.0       85\n",
              "9.0        77\n",
              "11.0       25\n",
              "12.0       22\n",
              "14.0       13\n",
              "15.0        8\n",
              "18.0        4\n",
              "21.0        3\n",
              "16.0        3\n",
              "20.0        3\n",
              "13.0        3\n",
              "30.0        2\n",
              "19.0        2\n",
              "35.0        1\n",
              "24.0        1\n",
              "22.0        1\n",
              "Name: rooms, dtype: int64"
            ]
          },
          "metadata": {},
          "execution_count": 91
        }
      ]
    },
    {
      "cell_type": "code",
      "source": [
        "df_train_2.rooms.isnull().sum()"
      ],
      "metadata": {
        "colab": {
          "base_uri": "https://localhost:8080/"
        },
        "id": "aUgNSAwvg-Wb",
        "outputId": "925647f9-2cce-4ead-be44-ae10bffd9ee7"
      },
      "execution_count": null,
      "outputs": [
        {
          "output_type": "execute_result",
          "data": {
            "text/plain": [
              "0"
            ]
          },
          "metadata": {},
          "execution_count": 92
        }
      ]
    },
    {
      "cell_type": "markdown",
      "source": [
        "## Análisis adicional"
      ],
      "metadata": {
        "id": "48We03SJ3BGG"
      }
    },
    {
      "cell_type": "code",
      "source": [
        "df_study.shape"
      ],
      "metadata": {
        "colab": {
          "base_uri": "https://localhost:8080/"
        },
        "id": "yTGpkOxX2_h3",
        "outputId": "d833bc58-c484-4e25-f8e3-ef203cba68f6"
      },
      "execution_count": null,
      "outputs": [
        {
          "output_type": "execute_result",
          "data": {
            "text/plain": [
              "(145780, 17)"
            ]
          },
          "metadata": {},
          "execution_count": 93
        }
      ]
    },
    {
      "cell_type": "code",
      "source": [
        "df_study.columns"
      ],
      "metadata": {
        "colab": {
          "base_uri": "https://localhost:8080/"
        },
        "id": "JJsqEueU3GSs",
        "outputId": "be94cc8c-27f6-4dab-c00d-7cc27376aa0a"
      },
      "execution_count": null,
      "outputs": [
        {
          "output_type": "execute_result",
          "data": {
            "text/plain": [
              "Index(['lat', 'lon', 'l3', 'rooms', 'bathrooms', 'surface_total',\n",
              "       'surface_covered', 'price', 'description', 'property_type', 'lat_NAN',\n",
              "       'lon_NAN', 'l3_NAN', 'rooms_NAN', 'bathrooms_NAN', 'surface_total_NAN',\n",
              "       'surface_covered_NAN'],\n",
              "      dtype='object')"
            ]
          },
          "metadata": {},
          "execution_count": 94
        }
      ]
    },
    {
      "cell_type": "code",
      "source": [
        "sns.heatmap(df_train_2.isna(), cbar=False)"
      ],
      "metadata": {
        "colab": {
          "base_uri": "https://localhost:8080/",
          "height": 386
        },
        "id": "sE6mut9y9ZDF",
        "outputId": "8afd0d80-3194-449f-a480-bcdf50ebef76"
      },
      "execution_count": null,
      "outputs": [
        {
          "output_type": "execute_result",
          "data": {
            "text/plain": [
              "<matplotlib.axes._subplots.AxesSubplot at 0x7fc9ba82aed0>"
            ]
          },
          "metadata": {},
          "execution_count": 95
        },
        {
          "output_type": "display_data",
          "data": {
            "text/plain": [
              "<Figure size 432x288 with 1 Axes>"
            ],
            "image/png": "[encoded data removed]"
          },
          "metadata": {
            "needs_background": "light"
          }
        }
      ]
    },
    {
      "cell_type": "code",
      "source": [
        "df_train_2.isnull().sum().sum()"
      ],
      "metadata": {
        "colab": {
          "base_uri": "https://localhost:8080/"
        },
        "id": "of8PeOQHb5ax",
        "outputId": "ed4c22b7-d2fd-4978-e031-f49da1a032a1"
      },
      "execution_count": null,
      "outputs": [
        {
          "output_type": "execute_result",
          "data": {
            "text/plain": [
              "17567"
            ]
          },
          "metadata": {},
          "execution_count": 96
        }
      ]
    },
    {
      "cell_type": "code",
      "source": [
        "df_train_2['l3'].value_counts(dropna = False)"
      ],
      "metadata": {
        "colab": {
          "base_uri": "https://localhost:8080/"
        },
        "id": "w5ATNB2plyzC",
        "outputId": "58fb10f9-1382-46f0-b20f-3d3a847275b4"
      },
      "execution_count": null,
      "outputs": [
        {
          "output_type": "execute_result",
          "data": {
            "text/plain": [
              "Palermo                 19940\n",
              "Belgrano                16514\n",
              "Caballito                9935\n",
              "Recoleta                 8164\n",
              "Villa Urquiza            7304\n",
              "Almagro                  7152\n",
              "Villa Crespo             6608\n",
              "Flores                   4424\n",
              "Nuñez                    4321\n",
              "Barrio Norte             4275\n",
              "Balvanera                3738\n",
              "Colegiales               3300\n",
              "San Cristobal            3039\n",
              "Villa Devoto             2722\n",
              "Saavedra                 2710\n",
              "Villa del Parque         2346\n",
              "San Telmo                2318\n",
              "Boedo                    2114\n",
              "Floresta                 2055\n",
              "Barracas                 1784\n",
              "Mataderos                1777\n",
              "Liniers                  1768\n",
              "Parque Chacabuco         1549\n",
              "San Nicolás              1516\n",
              "Villa Luro               1500\n",
              "Coghlan                  1491\n",
              "Villa Pueyrredón         1490\n",
              "Retiro                   1465\n",
              "Monserrat                1410\n",
              "Puerto Madero            1343\n",
              "Villa Lugano             1074\n",
              "Congreso                 1068\n",
              "Chacarita                 999\n",
              "NaN                       959\n",
              "Paternal                  898\n",
              "Parque Patricios          893\n",
              "Villa Ortuzar             810\n",
              "Constitución              786\n",
              "Villa General Mitre       650\n",
              "Monte Castro              645\n",
              "Once                      639\n",
              "Boca                      604\n",
              "Villa Santa Rita          593\n",
              "Las Cañitas               537\n",
              "Parque Avellaneda         519\n",
              "Parque Centenario         503\n",
              "Abasto                    444\n",
              "Velez Sarsfield           441\n",
              "Versalles                 414\n",
              "Pompeya                   411\n",
              "Tribunales                396\n",
              "Centro / Microcentro      377\n",
              "Parque Chas               352\n",
              "Agronomía                 327\n",
              "Villa Real                220\n",
              "Villa Soldati             106\n",
              "Villa Riachuelo            37\n",
              "Catalinas                   6\n",
              "Name: l3, dtype: int64"
            ]
          },
          "metadata": {},
          "execution_count": 97
        }
      ]
    },
    {
      "cell_type": "code",
      "source": [
        "df_train_2.to_csv('df_train_modif.csv')"
      ],
      "metadata": {
        "id": "1w9Ua4kDmN8U"
      },
      "execution_count": null,
      "outputs": []
    },
    {
      "cell_type": "code",
      "source": [
        "df_train_2.shape"
      ],
      "metadata": {
        "colab": {
          "base_uri": "https://localhost:8080/"
        },
        "id": "yMOfTp6ImT72",
        "outputId": "83221238-a096-4ee1-e040-95c73fa5f23f"
      },
      "execution_count": null,
      "outputs": [
        {
          "output_type": "execute_result",
          "data": {
            "text/plain": [
              "(145780, 17)"
            ]
          },
          "metadata": {},
          "execution_count": 99
        }
      ]
    },
    {
      "cell_type": "code",
      "source": [
        "df_new_features = df_train_2"
      ],
      "metadata": {
        "id": "HVSBajQpnm-D"
      },
      "execution_count": null,
      "outputs": []
    },
    {
      "cell_type": "markdown",
      "source": [
        "## Feature engineering"
      ],
      "metadata": {
        "id": "RS0434ldnSDu"
      }
    },
    {
      "cell_type": "code",
      "source": [
        "# Creación de la columna comuna\n",
        "comuna1 = [\"Retiro\", \"San Nicolás\", \"San Telmo\", \"Tribunales\", \"Monserrat\", \"Constitución\", \"Centro / Microcentro\"]\n",
        "comuna2 = [\"Recoleta\", \"Puerto Madero\", \"Catalinas\", \"Barrio Norte\"]\n",
        "comuna3 = [\"Balvanera\", \"San Cristobal\", \"Congreso\"]\n",
        "comuna4 = [\"Boca\", \"Pompeya\", \"Nueva Pompeya\", \"Parque Patricios\", \"Barracas\"]\n",
        "comuna5 = [\"Almagro\", \"Boedo\", \"Abasto\", \"Parque Centenario\", \"Once\"]\n",
        "comuna6 = [\"Caballito\"]\n",
        "comuna7 = [\"Flores\", \"Parque Chacabuco\"]\n",
        "comuna8 = [\"Villa Soldati\", \"Villa Riachuelo\", \"Villa Lugano\"]\n",
        "comuna9 = [\"Parque Avellaneda\", \"Liniers\", \"Mataderos\"]\n",
        "comuna10 = [\"Villa Real\", \"Monte Castro\", \"Versalles\", \"Floresta\", \"Velez Sarsfield\", \"Vélez Sarsfield\", \"Villa Luro\", \"Villa Real\"]\n",
        "comuna11 = [\"Villa General Mitre\", \"Villa Devoto\", \"Villa del Parque\", \"Villa Santa Rita\"]\n",
        "comuna12 = [\"Villa Urquiza\", \"Villa Pueyrredón\", \"Villa Pueyrredon\", \"Saavedra\", \"Coghlan\"]\n",
        "comuna13 = [\"Nuñez\", \"Belgrano\", \"Colegiales\"]\n",
        "comuna14 = [\"Las Cañitas\", \"Palermo\", 'GBA Norte']\n",
        "comuna15 = [\"Chacarita\", \"Villa Crespo\", \"Paternal\", \"Agronomía\", \"Parque Chas\", \"Villa Ortuzar\"]\n",
        "\n"
      ],
      "metadata": {
        "id": "g-zxT1OunQoy"
      },
      "execution_count": null,
      "outputs": []
    },
    {
      "cell_type": "code",
      "source": [
        "df_new_features = df_new_features[df_new_features['l3'].isna() == False]"
      ],
      "metadata": {
        "id": "si_JQB1Iobq3"
      },
      "execution_count": null,
      "outputs": []
    },
    {
      "cell_type": "code",
      "source": [
        "df_new_features[\"comunas\"] = np.where(df_new_features[\"l3\"].isin(comuna1), \"comuna1\",\n",
        "                 np.where(df_new_features[\"l3\"].isin(comuna2), \"comuna2\",\n",
        "                 np.where(df_new_features[\"l3\"].isin(comuna3), \"comuna3\",\n",
        "                 np.where(df_new_features[\"l3\"].isin(comuna4), \"comuna4\",\n",
        "                 np.where(df_new_features[\"l3\"].isin(comuna5), \"comuna5\",\n",
        "                 np.where(df_new_features[\"l3\"].isin(comuna6), \"comuna6\",\n",
        "                 np.where(df_new_features[\"l3\"].isin(comuna7), \"comuna7\",\n",
        "                 np.where(df_new_features[\"l3\"].isin(comuna8), \"comuna8\",\n",
        "                 np.where(df_new_features[\"l3\"].isin(comuna9), \"comuna9\",\n",
        "                 np.where(df_new_features[\"l3\"].isin(comuna10), \"comuna10\",\n",
        "                 np.where(df_new_features[\"l3\"].isin(comuna11), \"comuna11\",\n",
        "                 np.where(df_new_features[\"l3\"].isin(comuna12), \"comuna12\",\n",
        "                 np.where(df_new_features[\"l3\"].isin(comuna13), \"comuna13\",\n",
        "                 np.where(df_new_features[\"l3\"].isin(comuna14), \"comuna14\",\n",
        "                 np.where(df_new_features[\"l3\"].isin(comuna15), \"comuna15\",\"otro\")))))))))))))))"
      ],
      "metadata": {
        "colab": {
          "base_uri": "https://localhost:8080/"
        },
        "id": "oRHfPSxgn7HM",
        "outputId": "6f805012-5795-4c99-fb4a-994127eab1da"
      },
      "execution_count": null,
      "outputs": [
        {
          "output_type": "stream",
          "name": "stderr",
          "text": [
            "/usr/local/lib/python3.7/dist-packages/ipykernel_launcher.py:15: SettingWithCopyWarning: \n",
            "A value is trying to be set on a copy of a slice from a DataFrame.\n",
            "Try using .loc[row_indexer,col_indexer] = value instead\n",
            "\n",
            "See the caveats in the documentation: https://pandas.pydata.org/pandas-docs/stable/user_guide/indexing.html#returning-a-view-versus-a-copy\n",
            "  from ipykernel import kernelapp as app\n"
          ]
        }
      ]
    },
    {
      "cell_type": "code",
      "source": [
        "df_new_features['comunas'].value_counts()"
      ],
      "metadata": {
        "colab": {
          "base_uri": "https://localhost:8080/"
        },
        "id": "6yFEBu4wo318",
        "outputId": "da3883ac-83f0-4fdd-c519-a16c2d95994b"
      },
      "execution_count": null,
      "outputs": [
        {
          "output_type": "execute_result",
          "data": {
            "text/plain": [
              "comuna13    24135\n",
              "comuna14    20477\n",
              "comuna2     13788\n",
              "comuna12    12995\n",
              "comuna5     10852\n",
              "comuna15     9994\n",
              "comuna6      9935\n",
              "comuna1      8268\n",
              "comuna3      7845\n",
              "comuna11     6311\n",
              "comuna7      5973\n",
              "comuna10     5275\n",
              "comuna9      4064\n",
              "comuna4      3692\n",
              "comuna8      1217\n",
              "Name: comunas, dtype: int64"
            ]
          },
          "metadata": {},
          "execution_count": 104
        }
      ]
    },
    {
      "cell_type": "code",
      "source": [
        "df_new_features[df_new_features['comunas'] == 'otro']['l3'].value_counts(dropna=False)"
      ],
      "metadata": {
        "colab": {
          "base_uri": "https://localhost:8080/"
        },
        "id": "plMpADFgoA2S",
        "outputId": "20dd649d-83b8-49f7-efc4-c651eea3c1d1"
      },
      "execution_count": null,
      "outputs": [
        {
          "output_type": "execute_result",
          "data": {
            "text/plain": [
              "Series([], Name: l3, dtype: int64)"
            ]
          },
          "metadata": {},
          "execution_count": 105
        }
      ]
    },
    {
      "cell_type": "code",
      "source": [
        "df_new_features = pd.get_dummies(data=df_new_features,columns=['comunas'])\n",
        "df_new_features.shape"
      ],
      "metadata": {
        "colab": {
          "base_uri": "https://localhost:8080/"
        },
        "id": "lSrh0pTAo8Eq",
        "outputId": "194d5a5e-694e-4b3a-e70f-773bfbf7d715"
      },
      "execution_count": null,
      "outputs": [
        {
          "output_type": "execute_result",
          "data": {
            "text/plain": [
              "(144821, 32)"
            ]
          },
          "metadata": {},
          "execution_count": 106
        }
      ]
    },
    {
      "cell_type": "code",
      "source": [
        "df_new_features = pd.get_dummies(data=df_new_features,columns=['property_type'])"
      ],
      "metadata": {
        "id": "K8VpZ1T7roWC"
      },
      "execution_count": null,
      "outputs": []
    },
    {
      "cell_type": "code",
      "source": [
        "import re\n",
        "\n",
        "balcon_pattern = 'balcon|balcón|valcon|blcon'\n",
        "balcon_regex =re.compile(balcon_pattern, re.IGNORECASE)\n",
        "df_new_features['balcon_descrip'] = df_new_features['description'].apply(lambda x: x if x is np.NaN else balcon_regex.search(x))\n",
        "df_new_features.loc[df_new_features['balcon_descrip'].notnull(),('balcon_descrip')]=1\n",
        "df_new_features['balcon_descrip'].fillna(0, inplace = True)\n",
        "\n",
        "pileta_pattern = 'pileta|pile|pilta'\n",
        "pileta_regex =re.compile(pileta_pattern, re.IGNORECASE)\n",
        "df_new_features['pileta_descrip'] = df_new_features['description'].apply(lambda x: x if x is np.NaN else pileta_regex.search(x))\n",
        "df_new_features.loc[df_new_features['pileta_descrip'].notnull(),('pileta_descrip')]=1\n",
        "df_new_features['pileta_descrip'].fillna(0, inplace = True)\n",
        "\n",
        "amennities_pattern = 'amenities|amennities|amnts|amenitis|amennitis|amntis'\n",
        "amennities_regex =re.compile(amennities_pattern, re.IGNORECASE)\n",
        "df_new_features['amenities_descrip'] = df_new_features['description'].apply(lambda x: x if x is np.NaN else amennities_regex.search(x))\n",
        "df_new_features.loc[df_new_features['amenities_descrip'].notnull(),('amenities_descrip')]=1\n",
        "df_new_features['amenities_descrip'].fillna(0, inplace = True)\n",
        "\n",
        "cochera_pattern = 'garage|cochera|coche|garaje'\n",
        "cochera_regex =re.compile(cochera_pattern, re.IGNORECASE)\n",
        "df_new_features['cochera_descrip'] = df_new_features['description'].apply(lambda x: x if x is np.NaN else cochera_regex.search(x))\n",
        "df_new_features.loc[df_new_features['cochera_descrip'].notnull(),('cochera_descrip')]=1\n",
        "df_new_features['cochera_descrip'].fillna(0, inplace = True)\n",
        "\n",
        "parrilla_pattern = 'parrilla|parri|parrila|parilla|parrillas|parrilas|parillas'\n",
        "parrillas_regex =re.compile(parrilla_pattern, re.IGNORECASE)\n",
        "df_new_features['parrilla_descrip'] = df_new_features['description'].apply(lambda x: x if x is np.NaN else parrillas_regex.search(x))\n",
        "df_new_features.loc[df_new_features['parrilla_descrip'].notnull(),('parrilla_descrip')]=1\n",
        "df_new_features['parrilla_descrip'].fillna(0, inplace = True)"
      ],
      "metadata": {
        "id": "oSqNxkmIp_f4"
      },
      "execution_count": null,
      "outputs": []
    },
    {
      "cell_type": "code",
      "source": [
        "df_new_features.columns"
      ],
      "metadata": {
        "colab": {
          "base_uri": "https://localhost:8080/"
        },
        "id": "iQEYrcY3rIKW",
        "outputId": "1171a7bd-256c-41f6-8b9b-1bba80939c2f"
      },
      "execution_count": null,
      "outputs": [
        {
          "output_type": "execute_result",
          "data": {
            "text/plain": [
              "Index(['lat', 'lon', 'l3', 'rooms', 'bathrooms', 'surface_total',\n",
              "       'surface_covered', 'price', 'description', 'lat_NAN', 'lon_NAN',\n",
              "       'l3_NAN', 'rooms_NAN', 'bathrooms_NAN', 'surface_total_NAN',\n",
              "       'surface_covered_NAN', 'comunas_comuna1', 'comunas_comuna10',\n",
              "       'comunas_comuna11', 'comunas_comuna12', 'comunas_comuna13',\n",
              "       'comunas_comuna14', 'comunas_comuna15', 'comunas_comuna2',\n",
              "       'comunas_comuna3', 'comunas_comuna4', 'comunas_comuna5',\n",
              "       'comunas_comuna6', 'comunas_comuna7', 'comunas_comuna8',\n",
              "       'comunas_comuna9', 'property_type_Casa', 'property_type_Departamento',\n",
              "       'property_type_PH', 'balcon_descrip', 'pileta_descrip',\n",
              "       'amenities_descrip', 'cochera_descrip', 'parrilla_descrip'],\n",
              "      dtype='object')"
            ]
          },
          "metadata": {},
          "execution_count": 109
        }
      ]
    },
    {
      "cell_type": "code",
      "source": [
        "df_new_features.shape"
      ],
      "metadata": {
        "colab": {
          "base_uri": "https://localhost:8080/"
        },
        "id": "p6eQ1M2TrPHb",
        "outputId": "33527de7-2dda-4eec-d255-b2844edf51e2"
      },
      "execution_count": null,
      "outputs": [
        {
          "output_type": "execute_result",
          "data": {
            "text/plain": [
              "(144821, 39)"
            ]
          },
          "metadata": {},
          "execution_count": 110
        }
      ]
    },
    {
      "cell_type": "code",
      "source": [
        "df_model = df_new_features.drop(['lat', 'lon','l3', 'description', 'lat_NAN', 'lon_NAN', 'l3_NAN'], axis = 1)"
      ],
      "metadata": {
        "id": "8t63mM-rrkNa"
      },
      "execution_count": null,
      "outputs": []
    },
    {
      "cell_type": "code",
      "source": [
        "df_model.shape"
      ],
      "metadata": {
        "colab": {
          "base_uri": "https://localhost:8080/"
        },
        "id": "Ia5v_5rpr3K-",
        "outputId": "218d5457-56d5-41d5-cfd6-c9c357c04bd1"
      },
      "execution_count": null,
      "outputs": [
        {
          "output_type": "execute_result",
          "data": {
            "text/plain": [
              "(144821, 32)"
            ]
          },
          "metadata": {},
          "execution_count": 112
        }
      ]
    },
    {
      "cell_type": "markdown",
      "source": [
        "Recategorización de data types"
      ],
      "metadata": {
        "id": "HzvCM0AVESw4"
      }
    },
    {
      "cell_type": "code",
      "source": [
        "import math\n",
        "def redondear_float(n, decimals=0):\n",
        "  if math.isnan(n) == False: \n",
        "    multiplier = 10 ** decimals\n",
        "    n_redondeado = int(math.floor(n*multiplier + 0.5) / multiplier)\n",
        "    return n_redondeado"
      ],
      "metadata": {
        "id": "ZdTD-KT_ESKQ"
      },
      "execution_count": null,
      "outputs": []
    },
    {
      "cell_type": "code",
      "source": [
        "df_model['price'] = df_model['price'].apply(lambda x: redondear_float(x))\n",
        "df_model['rooms'] = df_model['rooms'].apply(lambda x: redondear_float(x))\n",
        "df_model['bathrooms'] = df_model['bathrooms'].apply(lambda x: redondear_float(x))\n",
        "df_model['surface_total'] = df_model['surface_total'].apply(lambda x: redondear_float(x))\n",
        "df_model['surface_covered'] = df_model['surface_covered'].apply(lambda x: redondear_float(x))"
      ],
      "metadata": {
        "id": "i_TXEn-gFSqm"
      },
      "execution_count": null,
      "outputs": []
    },
    {
      "cell_type": "code",
      "source": [
        "df_model = df_model.astype({'price': 'int64',  \\\n",
        "                            'bathrooms': 'int64',   \\\n",
        "                            'rooms': 'int64',  \\\n",
        "                            'surface_total': 'int64',  \\\n",
        "                            'surface_covered': 'int64' })\n",
        "df_model.info()"
      ],
      "metadata": {
        "colab": {
          "base_uri": "https://localhost:8080/"
        },
        "id": "c2OLMmewFk9X",
        "outputId": "fde8403a-00f3-4daf-e038-d22cdc2c0710"
      },
      "execution_count": null,
      "outputs": [
        {
          "output_type": "stream",
          "name": "stdout",
          "text": [
            "<class 'pandas.core.frame.DataFrame'>\n",
            "Index: 144821 entries, U3qdJMKXnOJm0Y1tWpnnfg== to kW2uYacPEyIcBykz/8rShA==\n",
            "Data columns (total 32 columns):\n",
            " #   Column                      Non-Null Count   Dtype\n",
            "---  ------                      --------------   -----\n",
            " 0   rooms                       144821 non-null  int64\n",
            " 1   bathrooms                   144821 non-null  int64\n",
            " 2   surface_total               144821 non-null  int64\n",
            " 3   surface_covered             144821 non-null  int64\n",
            " 4   price                       144821 non-null  int64\n",
            " 5   rooms_NAN                   144821 non-null  int64\n",
            " 6   bathrooms_NAN               144821 non-null  int64\n",
            " 7   surface_total_NAN           144821 non-null  int64\n",
            " 8   surface_covered_NAN         144821 non-null  int64\n",
            " 9   comunas_comuna1             144821 non-null  uint8\n",
            " 10  comunas_comuna10            144821 non-null  uint8\n",
            " 11  comunas_comuna11            144821 non-null  uint8\n",
            " 12  comunas_comuna12            144821 non-null  uint8\n",
            " 13  comunas_comuna13            144821 non-null  uint8\n",
            " 14  comunas_comuna14            144821 non-null  uint8\n",
            " 15  comunas_comuna15            144821 non-null  uint8\n",
            " 16  comunas_comuna2             144821 non-null  uint8\n",
            " 17  comunas_comuna3             144821 non-null  uint8\n",
            " 18  comunas_comuna4             144821 non-null  uint8\n",
            " 19  comunas_comuna5             144821 non-null  uint8\n",
            " 20  comunas_comuna6             144821 non-null  uint8\n",
            " 21  comunas_comuna7             144821 non-null  uint8\n",
            " 22  comunas_comuna8             144821 non-null  uint8\n",
            " 23  comunas_comuna9             144821 non-null  uint8\n",
            " 24  property_type_Casa          144821 non-null  uint8\n",
            " 25  property_type_Departamento  144821 non-null  uint8\n",
            " 26  property_type_PH            144821 non-null  uint8\n",
            " 27  balcon_descrip              144821 non-null  int64\n",
            " 28  pileta_descrip              144821 non-null  int64\n",
            " 29  amenities_descrip           144821 non-null  int64\n",
            " 30  cochera_descrip             144821 non-null  int64\n",
            " 31  parrilla_descrip            144821 non-null  int64\n",
            "dtypes: int64(14), uint8(18)\n",
            "memory usage: 19.1+ MB\n"
          ]
        }
      ]
    },
    {
      "cell_type": "markdown",
      "source": [
        "# **Consigna 4**\n",
        "\n",
        "Clasifique la variable respuesta en BAJO, MEDIO y ALTO"
      ],
      "metadata": {
        "id": "0eG-bjueWRo9"
      }
    },
    {
      "cell_type": "code",
      "source": [
        "df_model['price'].describe()"
      ],
      "metadata": {
        "id": "qvsDUCmKt8n5",
        "colab": {
          "base_uri": "https://localhost:8080/"
        },
        "outputId": "3b9cf54a-6182-4699-e35f-20d6f8fb935e"
      },
      "execution_count": null,
      "outputs": [
        {
          "output_type": "execute_result",
          "data": {
            "text/plain": [
              "count    144821.000000\n",
              "mean     186855.412413\n",
              "std      121112.378756\n",
              "min       25750.000000\n",
              "25%      100000.000000\n",
              "50%      149000.000000\n",
              "75%      235000.000000\n",
              "max      667500.000000\n",
              "Name: price, dtype: float64"
            ]
          },
          "metadata": {},
          "execution_count": 116
        }
      ]
    },
    {
      "cell_type": "code",
      "source": [
        "df_model['price'].median()"
      ],
      "metadata": {
        "id": "NP03Eb7rvl3N",
        "colab": {
          "base_uri": "https://localhost:8080/"
        },
        "outputId": "c9e4b0ec-3eb4-477c-d75f-5ee7926bd572"
      },
      "execution_count": null,
      "outputs": [
        {
          "output_type": "execute_result",
          "data": {
            "text/plain": [
              "149000.0"
            ]
          },
          "metadata": {},
          "execution_count": 117
        }
      ]
    },
    {
      "cell_type": "code",
      "source": [
        "ax = sns.boxplot(x = df_model['price'])"
      ],
      "metadata": {
        "id": "ZnZBkgv2uPGf",
        "colab": {
          "base_uri": "https://localhost:8080/"
        },
        "outputId": "5c5a450d-5d6b-4982-8d1e-be06987bbe99"
      },
      "execution_count": null,
      "outputs": [
        {
          "output_type": "display_data",
          "data": {
            "text/plain": [
              "<Figure size 432x288 with 1 Axes>"
            ],
            "image/png": "[encoded data removed]"
          },
          "metadata": {
            "needs_background": "light"
          }
        }
      ]
    },
    {
      "cell_type": "code",
      "source": [
        "#1: bajo, 2: medio, 3:alto\n",
        "\n",
        "def discretize_precio_categoria(x):\n",
        "  ##Categorizo precios\n",
        "  price_conditions = [\n",
        "      (x['price'] < 100000),\n",
        "      (x['price'] >= 100000) & (x['price'] < 235000),\n",
        "      (x['price'] >= 235000)\n",
        "  ]\n",
        "  values_price_cat = [1, 2, 3]\n",
        "  x['precio_categoria'] = np.select(price_conditions, values_price_cat)\n",
        "  return x"
      ],
      "metadata": {
        "id": "n65BIHeJsxiu"
      },
      "execution_count": null,
      "outputs": []
    },
    {
      "cell_type": "code",
      "source": [
        "df_model.shape"
      ],
      "metadata": {
        "id": "525AN5Ptwt7i",
        "colab": {
          "base_uri": "https://localhost:8080/"
        },
        "outputId": "f1ef1b88-1d38-485a-ed6c-ca46627a2adc"
      },
      "execution_count": null,
      "outputs": [
        {
          "output_type": "execute_result",
          "data": {
            "text/plain": [
              "(144821, 32)"
            ]
          },
          "metadata": {},
          "execution_count": 120
        }
      ]
    },
    {
      "cell_type": "code",
      "source": [
        "discretize_precio_categoria(df_model)\n",
        "df_model.shape"
      ],
      "metadata": {
        "id": "5YFthvMzwjN8",
        "colab": {
          "base_uri": "https://localhost:8080/"
        },
        "outputId": "82a49d42-726d-4367-8a76-1c05c56638af"
      },
      "execution_count": null,
      "outputs": [
        {
          "output_type": "execute_result",
          "data": {
            "text/plain": [
              "(144821, 33)"
            ]
          },
          "metadata": {},
          "execution_count": 121
        }
      ]
    },
    {
      "cell_type": "code",
      "source": [
        "df_model['precio_categoria'].value_counts() / len(df_model) * 100"
      ],
      "metadata": {
        "id": "zydK2W0awz4e",
        "colab": {
          "base_uri": "https://localhost:8080/"
        },
        "outputId": "cd66cf7d-0b48-42fe-e6bc-12e9cab378e2"
      },
      "execution_count": null,
      "outputs": [
        {
          "output_type": "execute_result",
          "data": {
            "text/plain": [
              "2    49.950629\n",
              "3    25.193860\n",
              "1    24.855511\n",
              "Name: precio_categoria, dtype: float64"
            ]
          },
          "metadata": {},
          "execution_count": 122
        }
      ]
    },
    {
      "cell_type": "code",
      "source": [
        "df_model.to_csv('df_model.csv')"
      ],
      "metadata": {
        "id": "bzUv9fEluCDT"
      },
      "execution_count": null,
      "outputs": []
    },
    {
      "cell_type": "markdown",
      "source": [
        "# **Consigna 5**\n",
        "\n",
        "Realizar una separación de datos en conjuntos de desarrollo y de evaluación.\n",
        "Entrenar un árbol de decisión en los datos de desarrollo con los hiperparámetros por defecto de sklearn pero con profundidad máxima 4 para clasificar el rango de precio.\n",
        "Evaluar el árbol entrenado y reportar las métricas de clasificación que crean relevantes tanto en el conjunto de desarrollo como el de evaluación. Justifique las métricas seleccionadas."
      ],
      "metadata": {
        "id": "l80ElO6YWRsp"
      }
    },
    {
      "cell_type": "code",
      "source": [
        "df_model.info()"
      ],
      "metadata": {
        "id": "vWLE5jzyxfbB"
      },
      "execution_count": null,
      "outputs": []
    },
    {
      "cell_type": "code",
      "source": [
        "df_train_mod = df_model.drop(['price'], axis = 1)"
      ],
      "metadata": {
        "id": "sT_Jsd1nxhws"
      },
      "execution_count": null,
      "outputs": []
    },
    {
      "cell_type": "code",
      "source": [
        "df_train_mod.info()"
      ],
      "metadata": {
        "id": "SCXS1T2wx9rW"
      },
      "execution_count": null,
      "outputs": []
    },
    {
      "cell_type": "code",
      "source": [
        "from sklearn import tree\n",
        "from sklearn.metrics import accuracy_score\n",
        "from sklearn.model_selection import train_test_split\n",
        "\n",
        "columnas = df_train_mod.columns.to_list()\n",
        "columnas.remove('precio_categoria')\n",
        "\n",
        "X_train, X_test, y_train, y_test = train_test_split(df_train_mod[columnas], df_train_mod['precio_categoria'], test_size=0.3, random_state=42)"
      ],
      "metadata": {
        "id": "m2Xc8qrhsNK1"
      },
      "execution_count": null,
      "outputs": []
    },
    {
      "cell_type": "code",
      "source": [
        "from sklearn.metrics import precision_score\n",
        "from sklearn.metrics import recall_score\n",
        "from sklearn.metrics import f1_score\n",
        "\n",
        "arbol_sklearn = tree.DecisionTreeClassifier(max_depth=4)\n",
        "arbol_sklearn.fit(X_train,y_train)\n",
        "y_pred_test = arbol_sklearn.predict(X_test)\n",
        "y_pred_train = arbol_sklearn.predict(X_train)\n",
        "\n",
        "print('Accuracy score- Train acc: {}'.format(accuracy_score(y_train,y_pred_train)))\n",
        "print('Accuracy score- Test acc: {}'.format(accuracy_score(y_test,y_pred_test)))\n",
        "\n",
        "print('Precision score - Train acc: {}'.format(precision_score(y_train, y_pred_train, average='macro')))\n",
        "print('Precision score - Test acc: {}'.format(precision_score(y_test, y_pred_test, average='macro')))\n",
        "\n",
        "print('Recall score - Train acc: {}'.format(recall_score(y_train, y_pred_train, average='macro')))\n",
        "print('Recall score - Test acc: {}'.format(recall_score(y_test, y_pred_test, average='macro')))\n",
        "\n",
        "print('F1 score - Train acc: {}'.format(f1_score(y_train, y_pred_train, average='macro')))\n",
        "print('F1 score - Test acc: {}'.format(f1_score(y_test, y_pred_test, average='macro')))\n"
      ],
      "metadata": {
        "id": "hgWlU0DjsPlo",
        "colab": {
          "base_uri": "https://localhost:8080/"
        },
        "outputId": "b30bad75-bfc0-4d1c-8462-a2c16d3c217f"
      },
      "execution_count": null,
      "outputs": [
        {
          "output_type": "stream",
          "name": "stderr",
          "text": [
            "/usr/local/lib/python3.7/dist-packages/sklearn/tree/tree.py:149: DeprecationWarning: `np.int` is a deprecated alias for the builtin `int`. To silence this warning, use `int` by itself. Doing this will not modify any behavior and is safe. When replacing `np.int`, you may wish to use e.g. `np.int64` or `np.int32` to specify the precision. If you wish to review your current use, check the release note link for additional information.\n",
            "Deprecated in NumPy 1.20; for more details and guidance: https://numpy.org/devdocs/release/1.20.0-notes.html#deprecations\n",
            "  y_encoded = np.zeros(y.shape, dtype=np.int)\n"
          ]
        },
        {
          "output_type": "stream",
          "name": "stdout",
          "text": [
            "Accuracy score- Train acc: 0.7011561149801724\n",
            "Accuracy score- Test acc: 0.6989435404055516\n",
            "Precision score - Train acc: 0.6997588760400791\n",
            "Precision score - Test acc: 0.6990132487013914\n",
            "Recall score - Train acc: 0.6971314494108672\n",
            "Recall score - Test acc: 0.6936373716956058\n",
            "F1 score - Train acc: 0.6963319494813028\n",
            "F1 score - Test acc: 0.6940451377991792\n"
          ]
        }
      ]
    },
    {
      "cell_type": "code",
      "source": [
        "from sklearn.metrics import confusion_matrix, classification_report\n",
        "\n",
        "print(classification_report(y_test,y_pred_test))\n",
        "\n",
        "cm = confusion_matrix(y_test,y_pred_test)\n",
        "sns.heatmap(cm, cmap='Blues',annot=True,fmt='g')\n",
        "plt.xlabel('Predicted')\n",
        "plt.ylabel('True')"
      ],
      "metadata": {
        "colab": {
          "base_uri": "https://localhost:8080/",
          "height": 470
        },
        "id": "PM3E_KqQC5rR",
        "outputId": "72ef5b36-6156-4c2e-80f1-0cfb485ed2a2"
      },
      "execution_count": null,
      "outputs": [
        {
          "output_type": "stream",
          "name": "stdout",
          "text": [
            "              precision    recall  f1-score   support\n",
            "\n",
            "           1       0.70      0.59      0.64     10806\n",
            "           2       0.70      0.71      0.71     21678\n",
            "           3       0.70      0.78      0.74     10963\n",
            "\n",
            "   micro avg       0.70      0.70      0.70     43447\n",
            "   macro avg       0.70      0.69      0.69     43447\n",
            "weighted avg       0.70      0.70      0.70     43447\n",
            "\n"
          ]
        },
        {
          "output_type": "execute_result",
          "data": {
            "text/plain": [
              "Text(33.0, 0.5, 'True')"
            ]
          },
          "metadata": {},
          "execution_count": 131
        },
        {
          "output_type": "display_data",
          "data": {
            "text/plain": [
              "<Figure size 432x288 with 2 Axes>"
            ],
            "image/png": "[encoded data removed]"
          },
          "metadata": {
            "needs_background": "light"
          }
        }
      ]
    },
    {
      "cell_type": "markdown",
      "source": [
        "# **Consigna 6**\n",
        "\n",
        "Graficar el árbol de decisión resultante."
      ],
      "metadata": {
        "id": "0SlZXHf5WRzq"
      }
    },
    {
      "cell_type": "code",
      "source": [
        "from sklearn.externals.six import StringIO  \n",
        "from IPython.display import Image  \n",
        "from sklearn.tree import export_graphviz\n",
        "import pydotplus\n",
        "import matplotlib.pyplot as plt\n",
        "\n",
        "dot_data = StringIO()\n",
        "export_graphviz(arbol_sklearn, out_file=dot_data,  \n",
        "                filled=True, rounded=True,\n",
        "                special_characters=True)\n",
        "graph = pydotplus.graph_from_dot_data(dot_data.getvalue())  \n",
        "Image(graph.create_png())"
      ],
      "metadata": {
        "colab": {
          "base_uri": "https://localhost:8080/"
        },
        "id": "xoOfj88R0rBo",
        "outputId": "c8044e0f-d1cd-492f-9fc9-6c14927755db"
      },
      "execution_count": null,
      "outputs": [
        {
          "output_type": "execute_result",
          "data": {
            "text/plain": [
              "<IPython.core.display.Image object>"
            ],
            "image/png": "[encoded data removed]"
          },
          "metadata": {},
          "execution_count": 132
        }
      ]
    },
    {
      "cell_type": "markdown",
      "source": [
        "# **Consigna 7**\n",
        "\n",
        "¿Cuál variable considera que fue más importante para el árbol de decisión?\n",
        "Responder esta pregunta a partir del gráfico del punto 6 y mediante el  cálculo de importancia de atributos."
      ],
      "metadata": {
        "id": "KxSWqXUnWR2b"
      }
    },
    {
      "cell_type": "code",
      "source": [
        "importancia = pd.DataFrame({'predictor':X_train.columns,\n",
        "                            'importancia': arbol_sklearn.feature_importances_})"
      ],
      "metadata": {
        "id": "MTzhlRXTr1Jw"
      },
      "execution_count": null,
      "outputs": []
    },
    {
      "cell_type": "markdown",
      "source": [
        "Consideramos que la variable mas importante es bathrooms, como podemos ver en el árbol, es aquella que se encuentra en la raiz (X1) se optimiza la variable por el indicie de gini cuando su particion toma el valor 1.5"
      ],
      "metadata": {
        "id": "TqajjSW3wsVO"
      }
    },
    {
      "cell_type": "code",
      "source": [
        "importancia.sort_values('importancia', ascending = False)"
      ],
      "metadata": {
        "colab": {
          "base_uri": "https://localhost:8080/"
        },
        "id": "0qV09Q0n3Rlb",
        "outputId": "5d0e5e32-40a5-452e-a6bc-2c9f8c9f46fb"
      },
      "execution_count": null,
      "outputs": [
        {
          "output_type": "execute_result",
          "data": {
            "text/plain": [
              "                     predictor  importancia\n",
              "1                    bathrooms     0.498215\n",
              "2                surface_total     0.276799\n",
              "3              surface_covered     0.119032\n",
              "29             cochera_descrip     0.045638\n",
              "0                        rooms     0.033579\n",
              "13            comunas_comuna14     0.018824\n",
              "15             comunas_comuna2     0.005811\n",
              "24  property_type_Departamento     0.002100\n",
              "7          surface_covered_NAN     0.000000\n",
              "8              comunas_comuna1     0.000000\n",
              "4                    rooms_NAN     0.000000\n",
              "28           amenities_descrip     0.000000\n",
              "27              pileta_descrip     0.000000\n",
              "26              balcon_descrip     0.000000\n",
              "25            property_type_PH     0.000000\n",
              "23          property_type_Casa     0.000000\n",
              "22             comunas_comuna9     0.000000\n",
              "21             comunas_comuna8     0.000000\n",
              "20             comunas_comuna7     0.000000\n",
              "19             comunas_comuna6     0.000000\n",
              "18             comunas_comuna5     0.000000\n",
              "17             comunas_comuna4     0.000000\n",
              "16             comunas_comuna3     0.000000\n",
              "5                bathrooms_NAN     0.000000\n",
              "14            comunas_comuna15     0.000000\n",
              "6            surface_total_NAN     0.000000\n",
              "12            comunas_comuna13     0.000000\n",
              "11            comunas_comuna12     0.000000\n",
              "10            comunas_comuna11     0.000000\n",
              "9             comunas_comuna10     0.000000\n",
              "30            parrilla_descrip     0.000000"
            ],
            "text/html": [
              "\n",
              "  <div id=\"df-71997a29-b1d1-401e-ae49-376cb2d06809\">\n",
              "    <div class=\"colab-df-container\">\n",
              "      <div>\n",
              "<style scoped>\n",
              "    .dataframe tbody tr th:only-of-type {\n",
              "        vertical-align: middle;\n",
              "    }\n",
              "\n",
              "    .dataframe tbody tr th {\n",
              "        vertical-align: top;\n",
              "    }\n",
              "\n",
              "    .dataframe thead th {\n",
              "        text-align: right;\n",
              "    }\n",
              "</style>\n",
              "<table border=\"1\" class=\"dataframe\">\n",
              "  <thead>\n",
              "    <tr style=\"text-align: right;\">\n",
              "      <th></th>\n",
              "      <th>predictor</th>\n",
              "      <th>importancia</th>\n",
              "    </tr>\n",
              "  </thead>\n",
              "  <tbody>\n",
              "    <tr>\n",
              "      <th>1</th>\n",
              "      <td>bathrooms</td>\n",
              "      <td>0.498215</td>\n",
              "    </tr>\n",
              "    <tr>\n",
              "      <th>2</th>\n",
              "      <td>surface_total</td>\n",
              "      <td>0.276799</td>\n",
              "    </tr>\n",
              "    <tr>\n",
              "      <th>3</th>\n",
              "      <td>surface_covered</td>\n",
              "      <td>0.119032</td>\n",
              "    </tr>\n",
              "    <tr>\n",
              "      <th>29</th>\n",
              "      <td>cochera_descrip</td>\n",
              "      <td>0.045638</td>\n",
              "    </tr>\n",
              "    <tr>\n",
              "      <th>0</th>\n",
              "      <td>rooms</td>\n",
              "      <td>0.033579</td>\n",
              "    </tr>\n",
              "    <tr>\n",
              "      <th>13</th>\n",
              "      <td>comunas_comuna14</td>\n",
              "      <td>0.018824</td>\n",
              "    </tr>\n",
              "    <tr>\n",
              "      <th>15</th>\n",
              "      <td>comunas_comuna2</td>\n",
              "      <td>0.005811</td>\n",
              "    </tr>\n",
              "    <tr>\n",
              "      <th>24</th>\n",
              "      <td>property_type_Departamento</td>\n",
              "      <td>0.002100</td>\n",
              "    </tr>\n",
              "    <tr>\n",
              "      <th>7</th>\n",
              "      <td>surface_covered_NAN</td>\n",
              "      <td>0.000000</td>\n",
              "    </tr>\n",
              "    <tr>\n",
              "      <th>8</th>\n",
              "      <td>comunas_comuna1</td>\n",
              "      <td>0.000000</td>\n",
              "    </tr>\n",
              "    <tr>\n",
              "      <th>4</th>\n",
              "      <td>rooms_NAN</td>\n",
              "      <td>0.000000</td>\n",
              "    </tr>\n",
              "    <tr>\n",
              "      <th>28</th>\n",
              "      <td>amenities_descrip</td>\n",
              "      <td>0.000000</td>\n",
              "    </tr>\n",
              "    <tr>\n",
              "      <th>27</th>\n",
              "      <td>pileta_descrip</td>\n",
              "      <td>0.000000</td>\n",
              "    </tr>\n",
              "    <tr>\n",
              "      <th>26</th>\n",
              "      <td>balcon_descrip</td>\n",
              "      <td>0.000000</td>\n",
              "    </tr>\n",
              "    <tr>\n",
              "      <th>25</th>\n",
              "      <td>property_type_PH</td>\n",
              "      <td>0.000000</td>\n",
              "    </tr>\n",
              "    <tr>\n",
              "      <th>23</th>\n",
              "      <td>property_type_Casa</td>\n",
              "      <td>0.000000</td>\n",
              "    </tr>\n",
              "    <tr>\n",
              "      <th>22</th>\n",
              "      <td>comunas_comuna9</td>\n",
              "      <td>0.000000</td>\n",
              "    </tr>\n",
              "    <tr>\n",
              "      <th>21</th>\n",
              "      <td>comunas_comuna8</td>\n",
              "      <td>0.000000</td>\n",
              "    </tr>\n",
              "    <tr>\n",
              "      <th>20</th>\n",
              "      <td>comunas_comuna7</td>\n",
              "      <td>0.000000</td>\n",
              "    </tr>\n",
              "    <tr>\n",
              "      <th>19</th>\n",
              "      <td>comunas_comuna6</td>\n",
              "      <td>0.000000</td>\n",
              "    </tr>\n",
              "    <tr>\n",
              "      <th>18</th>\n",
              "      <td>comunas_comuna5</td>\n",
              "      <td>0.000000</td>\n",
              "    </tr>\n",
              "    <tr>\n",
              "      <th>17</th>\n",
              "      <td>comunas_comuna4</td>\n",
              "      <td>0.000000</td>\n",
              "    </tr>\n",
              "    <tr>\n",
              "      <th>16</th>\n",
              "      <td>comunas_comuna3</td>\n",
              "      <td>0.000000</td>\n",
              "    </tr>\n",
              "    <tr>\n",
              "      <th>5</th>\n",
              "      <td>bathrooms_NAN</td>\n",
              "      <td>0.000000</td>\n",
              "    </tr>\n",
              "    <tr>\n",
              "      <th>14</th>\n",
              "      <td>comunas_comuna15</td>\n",
              "      <td>0.000000</td>\n",
              "    </tr>\n",
              "    <tr>\n",
              "      <th>6</th>\n",
              "      <td>surface_total_NAN</td>\n",
              "      <td>0.000000</td>\n",
              "    </tr>\n",
              "    <tr>\n",
              "      <th>12</th>\n",
              "      <td>comunas_comuna13</td>\n",
              "      <td>0.000000</td>\n",
              "    </tr>\n",
              "    <tr>\n",
              "      <th>11</th>\n",
              "      <td>comunas_comuna12</td>\n",
              "      <td>0.000000</td>\n",
              "    </tr>\n",
              "    <tr>\n",
              "      <th>10</th>\n",
              "      <td>comunas_comuna11</td>\n",
              "      <td>0.000000</td>\n",
              "    </tr>\n",
              "    <tr>\n",
              "      <th>9</th>\n",
              "      <td>comunas_comuna10</td>\n",
              "      <td>0.000000</td>\n",
              "    </tr>\n",
              "    <tr>\n",
              "      <th>30</th>\n",
              "      <td>parrilla_descrip</td>\n",
              "      <td>0.000000</td>\n",
              "    </tr>\n",
              "  </tbody>\n",
              "</table>\n",
              "</div>\n",
              "      <button class=\"colab-df-convert\" onclick=\"convertToInteractive('df-71997a29-b1d1-401e-ae49-376cb2d06809')\"\n",
              "              title=\"Convert this dataframe to an interactive table.\"\n",
              "              style=\"display:none;\">\n",
              "        \n",
              "  <svg xmlns=\"http://www.w3.org/2000/svg\" height=\"24px\"viewBox=\"0 0 24 24\"\n",
              "       width=\"24px\">\n",
              "    <path d=\"M0 0h24v24H0V0z\" fill=\"none\"/>\n",
              "    <path d=\"M18.56 5.44l.94 2.06.94-2.06 2.06-.94-2.06-.94-.94-2.06-.94 2.06-2.06.94zm-11 1L8.5 8.5l.94-2.06 2.06-.94-2.06-.94L8.5 2.5l-.94 2.06-2.06.94zm10 10l.94 2.06.94-2.06 2.06-.94-2.06-.94-.94-2.06-.94 2.06-2.06.94z\"/><path d=\"M17.41 7.96l-1.37-1.37c-.4-.4-.92-.59-1.43-.59-.52 0-1.04.2-1.43.59L10.3 9.45l-7.72 7.72c-.78.78-.78 2.05 0 2.83L4 21.41c.39.39.9.59 1.41.59.51 0 1.02-.2 1.41-.59l7.78-7.78 2.81-2.81c.8-.78.8-2.07 0-2.86zM5.41 20L4 18.59l7.72-7.72 1.47 1.35L5.41 20z\"/>\n",
              "  </svg>\n",
              "      </button>\n",
              "      \n",
              "  <style>\n",
              "    .colab-df-container {\n",
              "      display:flex;\n",
              "      flex-wrap:wrap;\n",
              "      gap: 12px;\n",
              "    }\n",
              "\n",
              "    .colab-df-convert {\n",
              "      background-color: #E8F0FE;\n",
              "      border: none;\n",
              "      border-radius: 50%;\n",
              "      cursor: pointer;\n",
              "      display: none;\n",
              "      fill: #1967D2;\n",
              "      height: 32px;\n",
              "      padding: 0 0 0 0;\n",
              "      width: 32px;\n",
              "    }\n",
              "\n",
              "    .colab-df-convert:hover {\n",
              "      background-color: #E2EBFA;\n",
              "      box-shadow: 0px 1px 2px rgba(60, 64, 67, 0.3), 0px 1px 3px 1px rgba(60, 64, 67, 0.15);\n",
              "      fill: #174EA6;\n",
              "    }\n",
              "\n",
              "    [theme=dark] .colab-df-convert {\n",
              "      background-color: #3B4455;\n",
              "      fill: #D2E3FC;\n",
              "    }\n",
              "\n",
              "    [theme=dark] .colab-df-convert:hover {\n",
              "      background-color: #434B5C;\n",
              "      box-shadow: 0px 1px 3px 1px rgba(0, 0, 0, 0.15);\n",
              "      filter: drop-shadow(0px 1px 2px rgba(0, 0, 0, 0.3));\n",
              "      fill: #FFFFFF;\n",
              "    }\n",
              "  </style>\n",
              "\n",
              "      <script>\n",
              "        const buttonEl =\n",
              "          document.querySelector('#df-71997a29-b1d1-401e-ae49-376cb2d06809 button.colab-df-convert');\n",
              "        buttonEl.style.display =\n",
              "          google.colab.kernel.accessAllowed ? 'block' : 'none';\n",
              "\n",
              "        async function convertToInteractive(key) {\n",
              "          const element = document.querySelector('#df-71997a29-b1d1-401e-ae49-376cb2d06809');\n",
              "          const dataTable =\n",
              "            await google.colab.kernel.invokeFunction('convertToInteractive',\n",
              "                                                     [key], {});\n",
              "          if (!dataTable) return;\n",
              "\n",
              "          const docLinkHtml = 'Like what you see? Visit the ' +\n",
              "            '<a target=\"_blank\" href=https://colab.research.google.com/notebooks/data_table.ipynb>data table notebook</a>'\n",
              "            + ' to learn more about interactive tables.';\n",
              "          element.innerHTML = '';\n",
              "          dataTable['output_type'] = 'display_data';\n",
              "          await google.colab.output.renderOutput(dataTable, element);\n",
              "          const docLink = document.createElement('div');\n",
              "          docLink.innerHTML = docLinkHtml;\n",
              "          element.appendChild(docLink);\n",
              "        }\n",
              "      </script>\n",
              "    </div>\n",
              "  </div>\n",
              "  "
            ]
          },
          "metadata": {},
          "execution_count": 134
        }
      ]
    },
    {
      "cell_type": "code",
      "source": [
        "feature_imp = pd.DataFrame(sorted(zip(arbol_sklearn.feature_importances_,X_test.columns)), columns=['Value', 'Feature'])\n",
        "\n",
        "plt.figure(figsize=(20,10))\n",
        "sns.barplot(x='Value', y='Feature', data=feature_imp.sort_values(by=\"Value\", ascending = False).head(8))\n",
        "plt.title('RF Features')\n",
        "plt.tight_layout()\n",
        "plt.show()"
      ],
      "metadata": {
        "colab": {
          "base_uri": "https://localhost:8080/"
        },
        "id": "_EIbGyVv3HD8",
        "outputId": "befbcb06-536d-4a84-cd31-aa13ad26df6b"
      },
      "execution_count": null,
      "outputs": [
        {
          "output_type": "display_data",
          "data": {
            "text/plain": [
              "<Figure size 1440x720 with 1 Axes>"
            ],
            "image/png": "[encoded data removed]"
          },
          "metadata": {
            "needs_background": "light"
          }
        }
      ]
    },
    {
      "cell_type": "markdown",
      "source": [
        "# **Consigna 8**\n",
        "\n",
        "Seleccionar valores para los hiperparámetros principales del DecisionTreeClassifier. Como mínimo, probar diferentes criterios de partición (criterion), profundidad máxima del árbol (max_depth), y cantidad mínima de samples por hoja (min_samples_leaf). Para ello, usar random search y 5-fold cross-validation sobre el conjunto de desarrollo para\n",
        "explorar muchas combinaciones posibles de valores. Elija la métrica a optimizar. Justifique."
      ],
      "metadata": {
        "id": "j7kq-9xxWR5M"
      }
    },
    {
      "cell_type": "markdown",
      "source": [
        "Para buscar la optimización de los hiperparámetros principales del DecisionTreeClassifier, ejecutamos RandomizedSearchCV para utilizar:\n",
        "Criterios: Tanto gini como entropía\n",
        "max_depth: Valores entre 1 y 30\n",
        "min_samples_leaf: Valores desde 10 a 100, en rangos de 10"
      ],
      "metadata": {
        "id": "oZ0swCNlySl0"
      }
    },
    {
      "cell_type": "code",
      "source": [
        "from sklearn.model_selection import StratifiedKFold, KFold, GridSearchCV, RandomizedSearchCV\n",
        "from sklearn.metrics import make_scorer\n",
        "import numpy as np\n",
        "\n",
        "n_seeds = 10\n",
        "accs = []\n",
        "precisions = []\n",
        "recalls = []\n",
        "f1s = []\n",
        "\n",
        "x_train, x_test, y_train, y_test = train_test_split(df_train_mod[columnas], df_train_mod['precio_categoria'], test_size=0.3, random_state=42)\n",
        "\n",
        "params_grid = {'criterion':['gini','entropy'],\n",
        "               'max_depth':list(range(1,30)),\n",
        "               'min_samples_leaf':list(range(10,101,10))}\n",
        "\n",
        "kfoldcv = StratifiedKFold(n_splits=4)\n",
        "base_tree = tree.DecisionTreeClassifier()\n",
        "scorer_fn = make_scorer(accuracy_score)\n",
        "randomcv = RandomizedSearchCV(estimator=base_tree,param_distributions = params_grid,scoring=scorer_fn,cv=kfoldcv,n_iter=10,)\n",
        "randomcv.fit(x_train,y_train);"
      ],
      "metadata": {
        "id": "CI59cM5EgZEf",
        "colab": {
          "base_uri": "https://localhost:8080/"
        },
        "outputId": "13253aec-3f01-43dd-bad7-50c8cc31e541"
      },
      "execution_count": null,
      "outputs": [
        {
          "output_type": "stream",
          "name": "stderr",
          "text": [
            "/usr/local/lib/python3.7/dist-packages/sklearn/model_selection/_split.py:665: DeprecationWarning: `np.int` is a deprecated alias for the builtin `int`. To silence this warning, use `int` by itself. Doing this will not modify any behavior and is safe. When replacing `np.int`, you may wish to use e.g. `np.int64` or `np.int32` to specify the precision. If you wish to review your current use, check the release note link for additional information.\n",
            "Deprecated in NumPy 1.20; for more details and guidance: https://numpy.org/devdocs/release/1.20.0-notes.html#deprecations\n",
            "  test_folds = np.zeros(n_samples, dtype=np.int)\n",
            "/usr/local/lib/python3.7/dist-packages/sklearn/model_selection/_split.py:437: DeprecationWarning: `np.int` is a deprecated alias for the builtin `int`. To silence this warning, use `int` by itself. Doing this will not modify any behavior and is safe. When replacing `np.int`, you may wish to use e.g. `np.int64` or `np.int32` to specify the precision. If you wish to review your current use, check the release note link for additional information.\n",
            "Deprecated in NumPy 1.20; for more details and guidance: https://numpy.org/devdocs/release/1.20.0-notes.html#deprecations\n",
            "  fold_sizes = np.full(n_splits, n_samples // n_splits, dtype=np.int)\n",
            "/usr/local/lib/python3.7/dist-packages/sklearn/model_selection/_split.py:113: DeprecationWarning: `np.bool` is a deprecated alias for the builtin `bool`. To silence this warning, use `bool` by itself. Doing this will not modify any behavior and is safe. If you specifically wanted the numpy scalar type, use `np.bool_` here.\n",
            "Deprecated in NumPy 1.20; for more details and guidance: https://numpy.org/devdocs/release/1.20.0-notes.html#deprecations\n",
            "  test_mask = np.zeros(_num_samples(X), dtype=np.bool)\n",
            "/usr/local/lib/python3.7/dist-packages/sklearn/model_selection/_split.py:437: DeprecationWarning: `np.int` is a deprecated alias for the builtin `int`. To silence this warning, use `int` by itself. Doing this will not modify any behavior and is safe. When replacing `np.int`, you may wish to use e.g. `np.int64` or `np.int32` to specify the precision. If you wish to review your current use, check the release note link for additional information.\n",
            "Deprecated in NumPy 1.20; for more details and guidance: https://numpy.org/devdocs/release/1.20.0-notes.html#deprecations\n",
            "  fold_sizes = np.full(n_splits, n_samples // n_splits, dtype=np.int)\n",
            "/usr/local/lib/python3.7/dist-packages/sklearn/model_selection/_split.py:113: DeprecationWarning: `np.bool` is a deprecated alias for the builtin `bool`. To silence this warning, use `bool` by itself. Doing this will not modify any behavior and is safe. If you specifically wanted the numpy scalar type, use `np.bool_` here.\n",
            "Deprecated in NumPy 1.20; for more details and guidance: https://numpy.org/devdocs/release/1.20.0-notes.html#deprecations\n",
            "  test_mask = np.zeros(_num_samples(X), dtype=np.bool)\n",
            "/usr/local/lib/python3.7/dist-packages/sklearn/model_selection/_split.py:437: DeprecationWarning: `np.int` is a deprecated alias for the builtin `int`. To silence this warning, use `int` by itself. Doing this will not modify any behavior and is safe. When replacing `np.int`, you may wish to use e.g. `np.int64` or `np.int32` to specify the precision. If you wish to review your current use, check the release note link for additional information.\n",
            "Deprecated in NumPy 1.20; for more details and guidance: https://numpy.org/devdocs/release/1.20.0-notes.html#deprecations\n",
            "  fold_sizes = np.full(n_splits, n_samples // n_splits, dtype=np.int)\n",
            "/usr/local/lib/python3.7/dist-packages/sklearn/model_selection/_split.py:113: DeprecationWarning: `np.bool` is a deprecated alias for the builtin `bool`. To silence this warning, use `bool` by itself. Doing this will not modify any behavior and is safe. If you specifically wanted the numpy scalar type, use `np.bool_` here.\n",
            "Deprecated in NumPy 1.20; for more details and guidance: https://numpy.org/devdocs/release/1.20.0-notes.html#deprecations\n",
            "  test_mask = np.zeros(_num_samples(X), dtype=np.bool)\n",
            "/usr/local/lib/python3.7/dist-packages/sklearn/model_selection/_split.py:113: DeprecationWarning: `np.bool` is a deprecated alias for the builtin `bool`. To silence this warning, use `bool` by itself. Doing this will not modify any behavior and is safe. If you specifically wanted the numpy scalar type, use `np.bool_` here.\n",
            "Deprecated in NumPy 1.20; for more details and guidance: https://numpy.org/devdocs/release/1.20.0-notes.html#deprecations\n",
            "  test_mask = np.zeros(_num_samples(X), dtype=np.bool)\n",
            "/usr/local/lib/python3.7/dist-packages/sklearn/model_selection/_split.py:113: DeprecationWarning: `np.bool` is a deprecated alias for the builtin `bool`. To silence this warning, use `bool` by itself. Doing this will not modify any behavior and is safe. If you specifically wanted the numpy scalar type, use `np.bool_` here.\n",
            "Deprecated in NumPy 1.20; for more details and guidance: https://numpy.org/devdocs/release/1.20.0-notes.html#deprecations\n",
            "  test_mask = np.zeros(_num_samples(X), dtype=np.bool)\n",
            "/usr/local/lib/python3.7/dist-packages/sklearn/model_selection/_split.py:113: DeprecationWarning: `np.bool` is a deprecated alias for the builtin `bool`. To silence this warning, use `bool` by itself. Doing this will not modify any behavior and is safe. If you specifically wanted the numpy scalar type, use `np.bool_` here.\n",
            "Deprecated in NumPy 1.20; for more details and guidance: https://numpy.org/devdocs/release/1.20.0-notes.html#deprecations\n",
            "  test_mask = np.zeros(_num_samples(X), dtype=np.bool)\n",
            "/usr/local/lib/python3.7/dist-packages/sklearn/model_selection/_split.py:113: DeprecationWarning: `np.bool` is a deprecated alias for the builtin `bool`. To silence this warning, use `bool` by itself. Doing this will not modify any behavior and is safe. If you specifically wanted the numpy scalar type, use `np.bool_` here.\n",
            "Deprecated in NumPy 1.20; for more details and guidance: https://numpy.org/devdocs/release/1.20.0-notes.html#deprecations\n",
            "  test_mask = np.zeros(_num_samples(X), dtype=np.bool)\n",
            "/usr/local/lib/python3.7/dist-packages/sklearn/model_selection/_split.py:113: DeprecationWarning: `np.bool` is a deprecated alias for the builtin `bool`. To silence this warning, use `bool` by itself. Doing this will not modify any behavior and is safe. If you specifically wanted the numpy scalar type, use `np.bool_` here.\n",
            "Deprecated in NumPy 1.20; for more details and guidance: https://numpy.org/devdocs/release/1.20.0-notes.html#deprecations\n",
            "  test_mask = np.zeros(_num_samples(X), dtype=np.bool)\n",
            "/usr/local/lib/python3.7/dist-packages/sklearn/model_selection/_split.py:113: DeprecationWarning: `np.bool` is a deprecated alias for the builtin `bool`. To silence this warning, use `bool` by itself. Doing this will not modify any behavior and is safe. If you specifically wanted the numpy scalar type, use `np.bool_` here.\n",
            "Deprecated in NumPy 1.20; for more details and guidance: https://numpy.org/devdocs/release/1.20.0-notes.html#deprecations\n",
            "  test_mask = np.zeros(_num_samples(X), dtype=np.bool)\n",
            "/usr/local/lib/python3.7/dist-packages/sklearn/model_selection/_split.py:113: DeprecationWarning: `np.bool` is a deprecated alias for the builtin `bool`. To silence this warning, use `bool` by itself. Doing this will not modify any behavior and is safe. If you specifically wanted the numpy scalar type, use `np.bool_` here.\n",
            "Deprecated in NumPy 1.20; for more details and guidance: https://numpy.org/devdocs/release/1.20.0-notes.html#deprecations\n",
            "  test_mask = np.zeros(_num_samples(X), dtype=np.bool)\n",
            "/usr/local/lib/python3.7/dist-packages/sklearn/model_selection/_split.py:113: DeprecationWarning: `np.bool` is a deprecated alias for the builtin `bool`. To silence this warning, use `bool` by itself. Doing this will not modify any behavior and is safe. If you specifically wanted the numpy scalar type, use `np.bool_` here.\n",
            "Deprecated in NumPy 1.20; for more details and guidance: https://numpy.org/devdocs/release/1.20.0-notes.html#deprecations\n",
            "  test_mask = np.zeros(_num_samples(X), dtype=np.bool)\n",
            "/usr/local/lib/python3.7/dist-packages/sklearn/model_selection/_split.py:113: DeprecationWarning: `np.bool` is a deprecated alias for the builtin `bool`. To silence this warning, use `bool` by itself. Doing this will not modify any behavior and is safe. If you specifically wanted the numpy scalar type, use `np.bool_` here.\n",
            "Deprecated in NumPy 1.20; for more details and guidance: https://numpy.org/devdocs/release/1.20.0-notes.html#deprecations\n",
            "  test_mask = np.zeros(_num_samples(X), dtype=np.bool)\n",
            "/usr/local/lib/python3.7/dist-packages/sklearn/tree/tree.py:149: DeprecationWarning: `np.int` is a deprecated alias for the builtin `int`. To silence this warning, use `int` by itself. Doing this will not modify any behavior and is safe. When replacing `np.int`, you may wish to use e.g. `np.int64` or `np.int32` to specify the precision. If you wish to review your current use, check the release note link for additional information.\n",
            "Deprecated in NumPy 1.20; for more details and guidance: https://numpy.org/devdocs/release/1.20.0-notes.html#deprecations\n",
            "  y_encoded = np.zeros(y.shape, dtype=np.int)\n",
            "/usr/local/lib/python3.7/dist-packages/sklearn/tree/tree.py:149: DeprecationWarning: `np.int` is a deprecated alias for the builtin `int`. To silence this warning, use `int` by itself. Doing this will not modify any behavior and is safe. When replacing `np.int`, you may wish to use e.g. `np.int64` or `np.int32` to specify the precision. If you wish to review your current use, check the release note link for additional information.\n",
            "Deprecated in NumPy 1.20; for more details and guidance: https://numpy.org/devdocs/release/1.20.0-notes.html#deprecations\n",
            "  y_encoded = np.zeros(y.shape, dtype=np.int)\n",
            "/usr/local/lib/python3.7/dist-packages/sklearn/tree/tree.py:149: DeprecationWarning: `np.int` is a deprecated alias for the builtin `int`. To silence this warning, use `int` by itself. Doing this will not modify any behavior and is safe. When replacing `np.int`, you may wish to use e.g. `np.int64` or `np.int32` to specify the precision. If you wish to review your current use, check the release note link for additional information.\n",
            "Deprecated in NumPy 1.20; for more details and guidance: https://numpy.org/devdocs/release/1.20.0-notes.html#deprecations\n",
            "  y_encoded = np.zeros(y.shape, dtype=np.int)\n",
            "/usr/local/lib/python3.7/dist-packages/sklearn/tree/tree.py:149: DeprecationWarning: `np.int` is a deprecated alias for the builtin `int`. To silence this warning, use `int` by itself. Doing this will not modify any behavior and is safe. When replacing `np.int`, you may wish to use e.g. `np.int64` or `np.int32` to specify the precision. If you wish to review your current use, check the release note link for additional information.\n",
            "Deprecated in NumPy 1.20; for more details and guidance: https://numpy.org/devdocs/release/1.20.0-notes.html#deprecations\n",
            "  y_encoded = np.zeros(y.shape, dtype=np.int)\n",
            "/usr/local/lib/python3.7/dist-packages/sklearn/tree/tree.py:149: DeprecationWarning: `np.int` is a deprecated alias for the builtin `int`. To silence this warning, use `int` by itself. Doing this will not modify any behavior and is safe. When replacing `np.int`, you may wish to use e.g. `np.int64` or `np.int32` to specify the precision. If you wish to review your current use, check the release note link for additional information.\n",
            "Deprecated in NumPy 1.20; for more details and guidance: https://numpy.org/devdocs/release/1.20.0-notes.html#deprecations\n",
            "  y_encoded = np.zeros(y.shape, dtype=np.int)\n",
            "/usr/local/lib/python3.7/dist-packages/sklearn/tree/tree.py:149: DeprecationWarning: `np.int` is a deprecated alias for the builtin `int`. To silence this warning, use `int` by itself. Doing this will not modify any behavior and is safe. When replacing `np.int`, you may wish to use e.g. `np.int64` or `np.int32` to specify the precision. If you wish to review your current use, check the release note link for additional information.\n",
            "Deprecated in NumPy 1.20; for more details and guidance: https://numpy.org/devdocs/release/1.20.0-notes.html#deprecations\n",
            "  y_encoded = np.zeros(y.shape, dtype=np.int)\n",
            "/usr/local/lib/python3.7/dist-packages/sklearn/tree/tree.py:149: DeprecationWarning: `np.int` is a deprecated alias for the builtin `int`. To silence this warning, use `int` by itself. Doing this will not modify any behavior and is safe. When replacing `np.int`, you may wish to use e.g. `np.int64` or `np.int32` to specify the precision. If you wish to review your current use, check the release note link for additional information.\n",
            "Deprecated in NumPy 1.20; for more details and guidance: https://numpy.org/devdocs/release/1.20.0-notes.html#deprecations\n",
            "  y_encoded = np.zeros(y.shape, dtype=np.int)\n",
            "/usr/local/lib/python3.7/dist-packages/sklearn/tree/tree.py:149: DeprecationWarning: `np.int` is a deprecated alias for the builtin `int`. To silence this warning, use `int` by itself. Doing this will not modify any behavior and is safe. When replacing `np.int`, you may wish to use e.g. `np.int64` or `np.int32` to specify the precision. If you wish to review your current use, check the release note link for additional information.\n",
            "Deprecated in NumPy 1.20; for more details and guidance: https://numpy.org/devdocs/release/1.20.0-notes.html#deprecations\n",
            "  y_encoded = np.zeros(y.shape, dtype=np.int)\n",
            "/usr/local/lib/python3.7/dist-packages/sklearn/tree/tree.py:149: DeprecationWarning: `np.int` is a deprecated alias for the builtin `int`. To silence this warning, use `int` by itself. Doing this will not modify any behavior and is safe. When replacing `np.int`, you may wish to use e.g. `np.int64` or `np.int32` to specify the precision. If you wish to review your current use, check the release note link for additional information.\n",
            "Deprecated in NumPy 1.20; for more details and guidance: https://numpy.org/devdocs/release/1.20.0-notes.html#deprecations\n",
            "  y_encoded = np.zeros(y.shape, dtype=np.int)\n",
            "/usr/local/lib/python3.7/dist-packages/sklearn/tree/tree.py:149: DeprecationWarning: `np.int` is a deprecated alias for the builtin `int`. To silence this warning, use `int` by itself. Doing this will not modify any behavior and is safe. When replacing `np.int`, you may wish to use e.g. `np.int64` or `np.int32` to specify the precision. If you wish to review your current use, check the release note link for additional information.\n",
            "Deprecated in NumPy 1.20; for more details and guidance: https://numpy.org/devdocs/release/1.20.0-notes.html#deprecations\n",
            "  y_encoded = np.zeros(y.shape, dtype=np.int)\n",
            "/usr/local/lib/python3.7/dist-packages/sklearn/tree/tree.py:149: DeprecationWarning: `np.int` is a deprecated alias for the builtin `int`. To silence this warning, use `int` by itself. Doing this will not modify any behavior and is safe. When replacing `np.int`, you may wish to use e.g. `np.int64` or `np.int32` to specify the precision. If you wish to review your current use, check the release note link for additional information.\n",
            "Deprecated in NumPy 1.20; for more details and guidance: https://numpy.org/devdocs/release/1.20.0-notes.html#deprecations\n",
            "  y_encoded = np.zeros(y.shape, dtype=np.int)\n",
            "/usr/local/lib/python3.7/dist-packages/sklearn/tree/tree.py:149: DeprecationWarning: `np.int` is a deprecated alias for the builtin `int`. To silence this warning, use `int` by itself. Doing this will not modify any behavior and is safe. When replacing `np.int`, you may wish to use e.g. `np.int64` or `np.int32` to specify the precision. If you wish to review your current use, check the release note link for additional information.\n",
            "Deprecated in NumPy 1.20; for more details and guidance: https://numpy.org/devdocs/release/1.20.0-notes.html#deprecations\n",
            "  y_encoded = np.zeros(y.shape, dtype=np.int)\n",
            "/usr/local/lib/python3.7/dist-packages/sklearn/tree/tree.py:149: DeprecationWarning: `np.int` is a deprecated alias for the builtin `int`. To silence this warning, use `int` by itself. Doing this will not modify any behavior and is safe. When replacing `np.int`, you may wish to use e.g. `np.int64` or `np.int32` to specify the precision. If you wish to review your current use, check the release note link for additional information.\n",
            "Deprecated in NumPy 1.20; for more details and guidance: https://numpy.org/devdocs/release/1.20.0-notes.html#deprecations\n",
            "  y_encoded = np.zeros(y.shape, dtype=np.int)\n",
            "/usr/local/lib/python3.7/dist-packages/sklearn/tree/tree.py:149: DeprecationWarning: `np.int` is a deprecated alias for the builtin `int`. To silence this warning, use `int` by itself. Doing this will not modify any behavior and is safe. When replacing `np.int`, you may wish to use e.g. `np.int64` or `np.int32` to specify the precision. If you wish to review your current use, check the release note link for additional information.\n",
            "Deprecated in NumPy 1.20; for more details and guidance: https://numpy.org/devdocs/release/1.20.0-notes.html#deprecations\n",
            "  y_encoded = np.zeros(y.shape, dtype=np.int)\n",
            "/usr/local/lib/python3.7/dist-packages/sklearn/tree/tree.py:149: DeprecationWarning: `np.int` is a deprecated alias for the builtin `int`. To silence this warning, use `int` by itself. Doing this will not modify any behavior and is safe. When replacing `np.int`, you may wish to use e.g. `np.int64` or `np.int32` to specify the precision. If you wish to review your current use, check the release note link for additional information.\n",
            "Deprecated in NumPy 1.20; for more details and guidance: https://numpy.org/devdocs/release/1.20.0-notes.html#deprecations\n",
            "  y_encoded = np.zeros(y.shape, dtype=np.int)\n",
            "/usr/local/lib/python3.7/dist-packages/sklearn/tree/tree.py:149: DeprecationWarning: `np.int` is a deprecated alias for the builtin `int`. To silence this warning, use `int` by itself. Doing this will not modify any behavior and is safe. When replacing `np.int`, you may wish to use e.g. `np.int64` or `np.int32` to specify the precision. If you wish to review your current use, check the release note link for additional information.\n",
            "Deprecated in NumPy 1.20; for more details and guidance: https://numpy.org/devdocs/release/1.20.0-notes.html#deprecations\n",
            "  y_encoded = np.zeros(y.shape, dtype=np.int)\n",
            "/usr/local/lib/python3.7/dist-packages/sklearn/tree/tree.py:149: DeprecationWarning: `np.int` is a deprecated alias for the builtin `int`. To silence this warning, use `int` by itself. Doing this will not modify any behavior and is safe. When replacing `np.int`, you may wish to use e.g. `np.int64` or `np.int32` to specify the precision. If you wish to review your current use, check the release note link for additional information.\n",
            "Deprecated in NumPy 1.20; for more details and guidance: https://numpy.org/devdocs/release/1.20.0-notes.html#deprecations\n",
            "  y_encoded = np.zeros(y.shape, dtype=np.int)\n",
            "/usr/local/lib/python3.7/dist-packages/sklearn/tree/tree.py:149: DeprecationWarning: `np.int` is a deprecated alias for the builtin `int`. To silence this warning, use `int` by itself. Doing this will not modify any behavior and is safe. When replacing `np.int`, you may wish to use e.g. `np.int64` or `np.int32` to specify the precision. If you wish to review your current use, check the release note link for additional information.\n",
            "Deprecated in NumPy 1.20; for more details and guidance: https://numpy.org/devdocs/release/1.20.0-notes.html#deprecations\n",
            "  y_encoded = np.zeros(y.shape, dtype=np.int)\n",
            "/usr/local/lib/python3.7/dist-packages/sklearn/tree/tree.py:149: DeprecationWarning: `np.int` is a deprecated alias for the builtin `int`. To silence this warning, use `int` by itself. Doing this will not modify any behavior and is safe. When replacing `np.int`, you may wish to use e.g. `np.int64` or `np.int32` to specify the precision. If you wish to review your current use, check the release note link for additional information.\n",
            "Deprecated in NumPy 1.20; for more details and guidance: https://numpy.org/devdocs/release/1.20.0-notes.html#deprecations\n",
            "  y_encoded = np.zeros(y.shape, dtype=np.int)\n",
            "/usr/local/lib/python3.7/dist-packages/sklearn/tree/tree.py:149: DeprecationWarning: `np.int` is a deprecated alias for the builtin `int`. To silence this warning, use `int` by itself. Doing this will not modify any behavior and is safe. When replacing `np.int`, you may wish to use e.g. `np.int64` or `np.int32` to specify the precision. If you wish to review your current use, check the release note link for additional information.\n",
            "Deprecated in NumPy 1.20; for more details and guidance: https://numpy.org/devdocs/release/1.20.0-notes.html#deprecations\n",
            "  y_encoded = np.zeros(y.shape, dtype=np.int)\n",
            "/usr/local/lib/python3.7/dist-packages/sklearn/tree/tree.py:149: DeprecationWarning: `np.int` is a deprecated alias for the builtin `int`. To silence this warning, use `int` by itself. Doing this will not modify any behavior and is safe. When replacing `np.int`, you may wish to use e.g. `np.int64` or `np.int32` to specify the precision. If you wish to review your current use, check the release note link for additional information.\n",
            "Deprecated in NumPy 1.20; for more details and guidance: https://numpy.org/devdocs/release/1.20.0-notes.html#deprecations\n",
            "  y_encoded = np.zeros(y.shape, dtype=np.int)\n",
            "/usr/local/lib/python3.7/dist-packages/sklearn/tree/tree.py:149: DeprecationWarning: `np.int` is a deprecated alias for the builtin `int`. To silence this warning, use `int` by itself. Doing this will not modify any behavior and is safe. When replacing `np.int`, you may wish to use e.g. `np.int64` or `np.int32` to specify the precision. If you wish to review your current use, check the release note link for additional information.\n",
            "Deprecated in NumPy 1.20; for more details and guidance: https://numpy.org/devdocs/release/1.20.0-notes.html#deprecations\n",
            "  y_encoded = np.zeros(y.shape, dtype=np.int)\n",
            "/usr/local/lib/python3.7/dist-packages/sklearn/tree/tree.py:149: DeprecationWarning: `np.int` is a deprecated alias for the builtin `int`. To silence this warning, use `int` by itself. Doing this will not modify any behavior and is safe. When replacing `np.int`, you may wish to use e.g. `np.int64` or `np.int32` to specify the precision. If you wish to review your current use, check the release note link for additional information.\n",
            "Deprecated in NumPy 1.20; for more details and guidance: https://numpy.org/devdocs/release/1.20.0-notes.html#deprecations\n",
            "  y_encoded = np.zeros(y.shape, dtype=np.int)\n",
            "/usr/local/lib/python3.7/dist-packages/sklearn/tree/tree.py:149: DeprecationWarning: `np.int` is a deprecated alias for the builtin `int`. To silence this warning, use `int` by itself. Doing this will not modify any behavior and is safe. When replacing `np.int`, you may wish to use e.g. `np.int64` or `np.int32` to specify the precision. If you wish to review your current use, check the release note link for additional information.\n",
            "Deprecated in NumPy 1.20; for more details and guidance: https://numpy.org/devdocs/release/1.20.0-notes.html#deprecations\n",
            "  y_encoded = np.zeros(y.shape, dtype=np.int)\n",
            "/usr/local/lib/python3.7/dist-packages/sklearn/tree/tree.py:149: DeprecationWarning: `np.int` is a deprecated alias for the builtin `int`. To silence this warning, use `int` by itself. Doing this will not modify any behavior and is safe. When replacing `np.int`, you may wish to use e.g. `np.int64` or `np.int32` to specify the precision. If you wish to review your current use, check the release note link for additional information.\n",
            "Deprecated in NumPy 1.20; for more details and guidance: https://numpy.org/devdocs/release/1.20.0-notes.html#deprecations\n",
            "  y_encoded = np.zeros(y.shape, dtype=np.int)\n",
            "/usr/local/lib/python3.7/dist-packages/sklearn/tree/tree.py:149: DeprecationWarning: `np.int` is a deprecated alias for the builtin `int`. To silence this warning, use `int` by itself. Doing this will not modify any behavior and is safe. When replacing `np.int`, you may wish to use e.g. `np.int64` or `np.int32` to specify the precision. If you wish to review your current use, check the release note link for additional information.\n",
            "Deprecated in NumPy 1.20; for more details and guidance: https://numpy.org/devdocs/release/1.20.0-notes.html#deprecations\n",
            "  y_encoded = np.zeros(y.shape, dtype=np.int)\n",
            "/usr/local/lib/python3.7/dist-packages/sklearn/tree/tree.py:149: DeprecationWarning: `np.int` is a deprecated alias for the builtin `int`. To silence this warning, use `int` by itself. Doing this will not modify any behavior and is safe. When replacing `np.int`, you may wish to use e.g. `np.int64` or `np.int32` to specify the precision. If you wish to review your current use, check the release note link for additional information.\n",
            "Deprecated in NumPy 1.20; for more details and guidance: https://numpy.org/devdocs/release/1.20.0-notes.html#deprecations\n",
            "  y_encoded = np.zeros(y.shape, dtype=np.int)\n",
            "/usr/local/lib/python3.7/dist-packages/sklearn/tree/tree.py:149: DeprecationWarning: `np.int` is a deprecated alias for the builtin `int`. To silence this warning, use `int` by itself. Doing this will not modify any behavior and is safe. When replacing `np.int`, you may wish to use e.g. `np.int64` or `np.int32` to specify the precision. If you wish to review your current use, check the release note link for additional information.\n",
            "Deprecated in NumPy 1.20; for more details and guidance: https://numpy.org/devdocs/release/1.20.0-notes.html#deprecations\n",
            "  y_encoded = np.zeros(y.shape, dtype=np.int)\n",
            "/usr/local/lib/python3.7/dist-packages/sklearn/tree/tree.py:149: DeprecationWarning: `np.int` is a deprecated alias for the builtin `int`. To silence this warning, use `int` by itself. Doing this will not modify any behavior and is safe. When replacing `np.int`, you may wish to use e.g. `np.int64` or `np.int32` to specify the precision. If you wish to review your current use, check the release note link for additional information.\n",
            "Deprecated in NumPy 1.20; for more details and guidance: https://numpy.org/devdocs/release/1.20.0-notes.html#deprecations\n",
            "  y_encoded = np.zeros(y.shape, dtype=np.int)\n",
            "/usr/local/lib/python3.7/dist-packages/sklearn/tree/tree.py:149: DeprecationWarning: `np.int` is a deprecated alias for the builtin `int`. To silence this warning, use `int` by itself. Doing this will not modify any behavior and is safe. When replacing `np.int`, you may wish to use e.g. `np.int64` or `np.int32` to specify the precision. If you wish to review your current use, check the release note link for additional information.\n",
            "Deprecated in NumPy 1.20; for more details and guidance: https://numpy.org/devdocs/release/1.20.0-notes.html#deprecations\n",
            "  y_encoded = np.zeros(y.shape, dtype=np.int)\n",
            "/usr/local/lib/python3.7/dist-packages/sklearn/tree/tree.py:149: DeprecationWarning: `np.int` is a deprecated alias for the builtin `int`. To silence this warning, use `int` by itself. Doing this will not modify any behavior and is safe. When replacing `np.int`, you may wish to use e.g. `np.int64` or `np.int32` to specify the precision. If you wish to review your current use, check the release note link for additional information.\n",
            "Deprecated in NumPy 1.20; for more details and guidance: https://numpy.org/devdocs/release/1.20.0-notes.html#deprecations\n",
            "  y_encoded = np.zeros(y.shape, dtype=np.int)\n",
            "/usr/local/lib/python3.7/dist-packages/sklearn/tree/tree.py:149: DeprecationWarning: `np.int` is a deprecated alias for the builtin `int`. To silence this warning, use `int` by itself. Doing this will not modify any behavior and is safe. When replacing `np.int`, you may wish to use e.g. `np.int64` or `np.int32` to specify the precision. If you wish to review your current use, check the release note link for additional information.\n",
            "Deprecated in NumPy 1.20; for more details and guidance: https://numpy.org/devdocs/release/1.20.0-notes.html#deprecations\n",
            "  y_encoded = np.zeros(y.shape, dtype=np.int)\n",
            "/usr/local/lib/python3.7/dist-packages/sklearn/tree/tree.py:149: DeprecationWarning: `np.int` is a deprecated alias for the builtin `int`. To silence this warning, use `int` by itself. Doing this will not modify any behavior and is safe. When replacing `np.int`, you may wish to use e.g. `np.int64` or `np.int32` to specify the precision. If you wish to review your current use, check the release note link for additional information.\n",
            "Deprecated in NumPy 1.20; for more details and guidance: https://numpy.org/devdocs/release/1.20.0-notes.html#deprecations\n",
            "  y_encoded = np.zeros(y.shape, dtype=np.int)\n",
            "/usr/local/lib/python3.7/dist-packages/sklearn/tree/tree.py:149: DeprecationWarning: `np.int` is a deprecated alias for the builtin `int`. To silence this warning, use `int` by itself. Doing this will not modify any behavior and is safe. When replacing `np.int`, you may wish to use e.g. `np.int64` or `np.int32` to specify the precision. If you wish to review your current use, check the release note link for additional information.\n",
            "Deprecated in NumPy 1.20; for more details and guidance: https://numpy.org/devdocs/release/1.20.0-notes.html#deprecations\n",
            "  y_encoded = np.zeros(y.shape, dtype=np.int)\n",
            "/usr/local/lib/python3.7/dist-packages/sklearn/tree/tree.py:149: DeprecationWarning: `np.int` is a deprecated alias for the builtin `int`. To silence this warning, use `int` by itself. Doing this will not modify any behavior and is safe. When replacing `np.int`, you may wish to use e.g. `np.int64` or `np.int32` to specify the precision. If you wish to review your current use, check the release note link for additional information.\n",
            "Deprecated in NumPy 1.20; for more details and guidance: https://numpy.org/devdocs/release/1.20.0-notes.html#deprecations\n",
            "  y_encoded = np.zeros(y.shape, dtype=np.int)\n",
            "/usr/local/lib/python3.7/dist-packages/sklearn/tree/tree.py:149: DeprecationWarning: `np.int` is a deprecated alias for the builtin `int`. To silence this warning, use `int` by itself. Doing this will not modify any behavior and is safe. When replacing `np.int`, you may wish to use e.g. `np.int64` or `np.int32` to specify the precision. If you wish to review your current use, check the release note link for additional information.\n",
            "Deprecated in NumPy 1.20; for more details and guidance: https://numpy.org/devdocs/release/1.20.0-notes.html#deprecations\n",
            "  y_encoded = np.zeros(y.shape, dtype=np.int)\n",
            "/usr/local/lib/python3.7/dist-packages/sklearn/tree/tree.py:149: DeprecationWarning: `np.int` is a deprecated alias for the builtin `int`. To silence this warning, use `int` by itself. Doing this will not modify any behavior and is safe. When replacing `np.int`, you may wish to use e.g. `np.int64` or `np.int32` to specify the precision. If you wish to review your current use, check the release note link for additional information.\n",
            "Deprecated in NumPy 1.20; for more details and guidance: https://numpy.org/devdocs/release/1.20.0-notes.html#deprecations\n",
            "  y_encoded = np.zeros(y.shape, dtype=np.int)\n",
            "/usr/local/lib/python3.7/dist-packages/sklearn/tree/tree.py:149: DeprecationWarning: `np.int` is a deprecated alias for the builtin `int`. To silence this warning, use `int` by itself. Doing this will not modify any behavior and is safe. When replacing `np.int`, you may wish to use e.g. `np.int64` or `np.int32` to specify the precision. If you wish to review your current use, check the release note link for additional information.\n",
            "Deprecated in NumPy 1.20; for more details and guidance: https://numpy.org/devdocs/release/1.20.0-notes.html#deprecations\n",
            "  y_encoded = np.zeros(y.shape, dtype=np.int)\n",
            "/usr/local/lib/python3.7/dist-packages/sklearn/tree/tree.py:149: DeprecationWarning: `np.int` is a deprecated alias for the builtin `int`. To silence this warning, use `int` by itself. Doing this will not modify any behavior and is safe. When replacing `np.int`, you may wish to use e.g. `np.int64` or `np.int32` to specify the precision. If you wish to review your current use, check the release note link for additional information.\n",
            "Deprecated in NumPy 1.20; for more details and guidance: https://numpy.org/devdocs/release/1.20.0-notes.html#deprecations\n",
            "  y_encoded = np.zeros(y.shape, dtype=np.int)\n",
            "/usr/local/lib/python3.7/dist-packages/sklearn/tree/tree.py:149: DeprecationWarning: `np.int` is a deprecated alias for the builtin `int`. To silence this warning, use `int` by itself. Doing this will not modify any behavior and is safe. When replacing `np.int`, you may wish to use e.g. `np.int64` or `np.int32` to specify the precision. If you wish to review your current use, check the release note link for additional information.\n",
            "Deprecated in NumPy 1.20; for more details and guidance: https://numpy.org/devdocs/release/1.20.0-notes.html#deprecations\n",
            "  y_encoded = np.zeros(y.shape, dtype=np.int)\n",
            "/usr/local/lib/python3.7/dist-packages/sklearn/model_selection/_search.py:821: DeprecationWarning: `np.int` is a deprecated alias for the builtin `int`. To silence this warning, use `int` by itself. Doing this will not modify any behavior and is safe. When replacing `np.int`, you may wish to use e.g. `np.int64` or `np.int32` to specify the precision. If you wish to review your current use, check the release note link for additional information.\n",
            "Deprecated in NumPy 1.20; for more details and guidance: https://numpy.org/devdocs/release/1.20.0-notes.html#deprecations\n",
            "  dtype=np.int)\n",
            "/usr/local/lib/python3.7/dist-packages/sklearn/tree/tree.py:149: DeprecationWarning: `np.int` is a deprecated alias for the builtin `int`. To silence this warning, use `int` by itself. Doing this will not modify any behavior and is safe. When replacing `np.int`, you may wish to use e.g. `np.int64` or `np.int32` to specify the precision. If you wish to review your current use, check the release note link for additional information.\n",
            "Deprecated in NumPy 1.20; for more details and guidance: https://numpy.org/devdocs/release/1.20.0-notes.html#deprecations\n",
            "  y_encoded = np.zeros(y.shape, dtype=np.int)\n"
          ]
        }
      ]
    },
    {
      "cell_type": "code",
      "source": [
        "pd.DataFrame(randomcv.cv_results_).head(20)"
      ],
      "metadata": {
        "id": "KYaZlQGPnKot",
        "colab": {
          "base_uri": "https://localhost:8080/",
          "height": 1000
        },
        "outputId": "0ec29017-9649-4404-d1b0-201afe3f2689"
      },
      "execution_count": null,
      "outputs": [
        {
          "output_type": "stream",
          "name": "stderr",
          "text": [
            "/usr/local/lib/python3.7/dist-packages/sklearn/utils/deprecation.py:125: FutureWarning: You are accessing a training score ('split0_train_score'), which will not be available by default any more in 0.21. If you need training scores, please set return_train_score=True\n",
            "  warnings.warn(*warn_args, **warn_kwargs)\n",
            "/usr/local/lib/python3.7/dist-packages/sklearn/utils/deprecation.py:125: FutureWarning: You are accessing a training score ('split1_train_score'), which will not be available by default any more in 0.21. If you need training scores, please set return_train_score=True\n",
            "  warnings.warn(*warn_args, **warn_kwargs)\n",
            "/usr/local/lib/python3.7/dist-packages/sklearn/utils/deprecation.py:125: FutureWarning: You are accessing a training score ('split2_train_score'), which will not be available by default any more in 0.21. If you need training scores, please set return_train_score=True\n",
            "  warnings.warn(*warn_args, **warn_kwargs)\n",
            "/usr/local/lib/python3.7/dist-packages/sklearn/utils/deprecation.py:125: FutureWarning: You are accessing a training score ('split3_train_score'), which will not be available by default any more in 0.21. If you need training scores, please set return_train_score=True\n",
            "  warnings.warn(*warn_args, **warn_kwargs)\n",
            "/usr/local/lib/python3.7/dist-packages/sklearn/utils/deprecation.py:125: FutureWarning: You are accessing a training score ('mean_train_score'), which will not be available by default any more in 0.21. If you need training scores, please set return_train_score=True\n",
            "  warnings.warn(*warn_args, **warn_kwargs)\n",
            "/usr/local/lib/python3.7/dist-packages/sklearn/utils/deprecation.py:125: FutureWarning: You are accessing a training score ('std_train_score'), which will not be available by default any more in 0.21. If you need training scores, please set return_train_score=True\n",
            "  warnings.warn(*warn_args, **warn_kwargs)\n"
          ]
        },
        {
          "output_type": "execute_result",
          "data": {
            "text/plain": [
              "   mean_fit_time  std_fit_time  mean_score_time  std_score_time  \\\n",
              "0       0.204839      0.003988         0.010765        0.000148   \n",
              "1       0.241088      0.006791         0.011919        0.000798   \n",
              "2       0.265979      0.006660         0.011737        0.000122   \n",
              "3       0.261747      0.002175         0.011673        0.000085   \n",
              "4       0.061367      0.002330         0.009485        0.000465   \n",
              "5       0.285879      0.006593         0.012346        0.000351   \n",
              "6       0.274098      0.001811         0.011979        0.000090   \n",
              "7       0.236279      0.003232         0.012504        0.000830   \n",
              "8       0.250112      0.002322         0.011946        0.000786   \n",
              "9       0.330163      0.005244         0.013292        0.000213   \n",
              "\n",
              "  param_min_samples_leaf param_max_depth param_criterion  \\\n",
              "0                     30               7         entropy   \n",
              "1                     60               9         entropy   \n",
              "2                     60              11         entropy   \n",
              "3                     50              11            gini   \n",
              "4                     20               1            gini   \n",
              "5                     90              27         entropy   \n",
              "6                    100              15            gini   \n",
              "7                     30               9            gini   \n",
              "8                     60              10         entropy   \n",
              "9                     20              22            gini   \n",
              "\n",
              "                                              params  split0_test_score  \\\n",
              "0  {'min_samples_leaf': 30, 'max_depth': 7, 'crit...           0.745512   \n",
              "1  {'min_samples_leaf': 60, 'max_depth': 9, 'crit...           0.755376   \n",
              "2  {'min_samples_leaf': 60, 'max_depth': 11, 'cri...           0.771316   \n",
              "3  {'min_samples_leaf': 50, 'max_depth': 11, 'cri...           0.779246   \n",
              "4  {'min_samples_leaf': 20, 'max_depth': 1, 'crit...           0.578063   \n",
              "5  {'min_samples_leaf': 90, 'max_depth': 27, 'cri...           0.781850   \n",
              "6  {'min_samples_leaf': 100, 'max_depth': 15, 'cr...           0.778773   \n",
              "7  {'min_samples_leaf': 30, 'max_depth': 9, 'crit...           0.758927   \n",
              "8  {'min_samples_leaf': 60, 'max_depth': 10, 'cri...           0.757704   \n",
              "9  {'min_samples_leaf': 20, 'max_depth': 22, 'cri...           0.795265   \n",
              "\n",
              "   split1_test_score  ...  split3_test_score  mean_test_score  std_test_score  \\\n",
              "0           0.742819  ...           0.736445         0.741206        0.003360   \n",
              "1           0.756984  ...           0.754952         0.754967        0.001585   \n",
              "2           0.772096  ...           0.769158         0.770040        0.001778   \n",
              "3           0.779711  ...           0.776182         0.778464        0.001364   \n",
              "4           0.579624  ...           0.579907         0.579182        0.000703   \n",
              "5           0.779119  ...           0.778352         0.778967        0.001909   \n",
              "6           0.778330  ...           0.778865         0.778010        0.001137   \n",
              "7           0.755563  ...           0.761503         0.759159        0.002274   \n",
              "8           0.757576  ...           0.760398         0.757818        0.001708   \n",
              "9           0.795060  ...           0.794531         0.794356        0.001067   \n",
              "\n",
              "   rank_test_score  split0_train_score  split1_train_score  \\\n",
              "0                9            0.745255            0.742628   \n",
              "1                8            0.758092            0.759016   \n",
              "2                5            0.775152            0.776720   \n",
              "3                3            0.785095            0.785650   \n",
              "4               10            0.579555            0.579035   \n",
              "5                2            0.786345            0.786269   \n",
              "6                4            0.780965            0.783257   \n",
              "7                6            0.763735            0.763172   \n",
              "8                7            0.763222            0.765251   \n",
              "9                1            0.815531            0.815717   \n",
              "\n",
              "   split2_train_score  split3_train_score  mean_train_score  std_train_score  \n",
              "0            0.744104            0.740741          0.743182         0.001689  \n",
              "1            0.758506            0.760364          0.758995         0.000856  \n",
              "2            0.776552            0.777475          0.776475         0.000839  \n",
              "3            0.787508            0.786024          0.786069         0.000894  \n",
              "4            0.579198            0.578940          0.579182         0.000234  \n",
              "5            0.785719            0.785196          0.785882         0.000464  \n",
              "6            0.782418            0.781539          0.782045         0.000870  \n",
              "7            0.768542            0.771886          0.766834         0.003586  \n",
              "8            0.764083            0.763507          0.764016         0.000777  \n",
              "9            0.815378            0.816419          0.815761         0.000398  \n",
              "\n",
              "[10 rows x 21 columns]"
            ],
            "text/html": [
              "\n",
              "  <div id=\"df-29d8438a-aeb0-41c6-966f-4e576d101109\">\n",
              "    <div class=\"colab-df-container\">\n",
              "      <div>\n",
              "<style scoped>\n",
              "    .dataframe tbody tr th:only-of-type {\n",
              "        vertical-align: middle;\n",
              "    }\n",
              "\n",
              "    .dataframe tbody tr th {\n",
              "        vertical-align: top;\n",
              "    }\n",
              "\n",
              "    .dataframe thead th {\n",
              "        text-align: right;\n",
              "    }\n",
              "</style>\n",
              "<table border=\"1\" class=\"dataframe\">\n",
              "  <thead>\n",
              "    <tr style=\"text-align: right;\">\n",
              "      <th></th>\n",
              "      <th>mean_fit_time</th>\n",
              "      <th>std_fit_time</th>\n",
              "      <th>mean_score_time</th>\n",
              "      <th>std_score_time</th>\n",
              "      <th>param_min_samples_leaf</th>\n",
              "      <th>param_max_depth</th>\n",
              "      <th>param_criterion</th>\n",
              "      <th>params</th>\n",
              "      <th>split0_test_score</th>\n",
              "      <th>split1_test_score</th>\n",
              "      <th>...</th>\n",
              "      <th>split3_test_score</th>\n",
              "      <th>mean_test_score</th>\n",
              "      <th>std_test_score</th>\n",
              "      <th>rank_test_score</th>\n",
              "      <th>split0_train_score</th>\n",
              "      <th>split1_train_score</th>\n",
              "      <th>split2_train_score</th>\n",
              "      <th>split3_train_score</th>\n",
              "      <th>mean_train_score</th>\n",
              "      <th>std_train_score</th>\n",
              "    </tr>\n",
              "  </thead>\n",
              "  <tbody>\n",
              "    <tr>\n",
              "      <th>0</th>\n",
              "      <td>0.204839</td>\n",
              "      <td>0.003988</td>\n",
              "      <td>0.010765</td>\n",
              "      <td>0.000148</td>\n",
              "      <td>30</td>\n",
              "      <td>7</td>\n",
              "      <td>entropy</td>\n",
              "      <td>{'min_samples_leaf': 30, 'max_depth': 7, 'crit...</td>\n",
              "      <td>0.745512</td>\n",
              "      <td>0.742819</td>\n",
              "      <td>...</td>\n",
              "      <td>0.736445</td>\n",
              "      <td>0.741206</td>\n",
              "      <td>0.003360</td>\n",
              "      <td>9</td>\n",
              "      <td>0.745255</td>\n",
              "      <td>0.742628</td>\n",
              "      <td>0.744104</td>\n",
              "      <td>0.740741</td>\n",
              "      <td>0.743182</td>\n",
              "      <td>0.001689</td>\n",
              "    </tr>\n",
              "    <tr>\n",
              "      <th>1</th>\n",
              "      <td>0.241088</td>\n",
              "      <td>0.006791</td>\n",
              "      <td>0.011919</td>\n",
              "      <td>0.000798</td>\n",
              "      <td>60</td>\n",
              "      <td>9</td>\n",
              "      <td>entropy</td>\n",
              "      <td>{'min_samples_leaf': 60, 'max_depth': 9, 'crit...</td>\n",
              "      <td>0.755376</td>\n",
              "      <td>0.756984</td>\n",
              "      <td>...</td>\n",
              "      <td>0.754952</td>\n",
              "      <td>0.754967</td>\n",
              "      <td>0.001585</td>\n",
              "      <td>8</td>\n",
              "      <td>0.758092</td>\n",
              "      <td>0.759016</td>\n",
              "      <td>0.758506</td>\n",
              "      <td>0.760364</td>\n",
              "      <td>0.758995</td>\n",
              "      <td>0.000856</td>\n",
              "    </tr>\n",
              "    <tr>\n",
              "      <th>2</th>\n",
              "      <td>0.265979</td>\n",
              "      <td>0.006660</td>\n",
              "      <td>0.011737</td>\n",
              "      <td>0.000122</td>\n",
              "      <td>60</td>\n",
              "      <td>11</td>\n",
              "      <td>entropy</td>\n",
              "      <td>{'min_samples_leaf': 60, 'max_depth': 11, 'cri...</td>\n",
              "      <td>0.771316</td>\n",
              "      <td>0.772096</td>\n",
              "      <td>...</td>\n",
              "      <td>0.769158</td>\n",
              "      <td>0.770040</td>\n",
              "      <td>0.001778</td>\n",
              "      <td>5</td>\n",
              "      <td>0.775152</td>\n",
              "      <td>0.776720</td>\n",
              "      <td>0.776552</td>\n",
              "      <td>0.777475</td>\n",
              "      <td>0.776475</td>\n",
              "      <td>0.000839</td>\n",
              "    </tr>\n",
              "    <tr>\n",
              "      <th>3</th>\n",
              "      <td>0.261747</td>\n",
              "      <td>0.002175</td>\n",
              "      <td>0.011673</td>\n",
              "      <td>0.000085</td>\n",
              "      <td>50</td>\n",
              "      <td>11</td>\n",
              "      <td>gini</td>\n",
              "      <td>{'min_samples_leaf': 50, 'max_depth': 11, 'cri...</td>\n",
              "      <td>0.779246</td>\n",
              "      <td>0.779711</td>\n",
              "      <td>...</td>\n",
              "      <td>0.776182</td>\n",
              "      <td>0.778464</td>\n",
              "      <td>0.001364</td>\n",
              "      <td>3</td>\n",
              "      <td>0.785095</td>\n",
              "      <td>0.785650</td>\n",
              "      <td>0.787508</td>\n",
              "      <td>0.786024</td>\n",
              "      <td>0.786069</td>\n",
              "      <td>0.000894</td>\n",
              "    </tr>\n",
              "    <tr>\n",
              "      <th>4</th>\n",
              "      <td>0.061367</td>\n",
              "      <td>0.002330</td>\n",
              "      <td>0.009485</td>\n",
              "      <td>0.000465</td>\n",
              "      <td>20</td>\n",
              "      <td>1</td>\n",
              "      <td>gini</td>\n",
              "      <td>{'min_samples_leaf': 20, 'max_depth': 1, 'crit...</td>\n",
              "      <td>0.578063</td>\n",
              "      <td>0.579624</td>\n",
              "      <td>...</td>\n",
              "      <td>0.579907</td>\n",
              "      <td>0.579182</td>\n",
              "      <td>0.000703</td>\n",
              "      <td>10</td>\n",
              "      <td>0.579555</td>\n",
              "      <td>0.579035</td>\n",
              "      <td>0.579198</td>\n",
              "      <td>0.578940</td>\n",
              "      <td>0.579182</td>\n",
              "      <td>0.000234</td>\n",
              "    </tr>\n",
              "    <tr>\n",
              "      <th>5</th>\n",
              "      <td>0.285879</td>\n",
              "      <td>0.006593</td>\n",
              "      <td>0.012346</td>\n",
              "      <td>0.000351</td>\n",
              "      <td>90</td>\n",
              "      <td>27</td>\n",
              "      <td>entropy</td>\n",
              "      <td>{'min_samples_leaf': 90, 'max_depth': 27, 'cri...</td>\n",
              "      <td>0.781850</td>\n",
              "      <td>0.779119</td>\n",
              "      <td>...</td>\n",
              "      <td>0.778352</td>\n",
              "      <td>0.778967</td>\n",
              "      <td>0.001909</td>\n",
              "      <td>2</td>\n",
              "      <td>0.786345</td>\n",
              "      <td>0.786269</td>\n",
              "      <td>0.785719</td>\n",
              "      <td>0.785196</td>\n",
              "      <td>0.785882</td>\n",
              "      <td>0.000464</td>\n",
              "    </tr>\n",
              "    <tr>\n",
              "      <th>6</th>\n",
              "      <td>0.274098</td>\n",
              "      <td>0.001811</td>\n",
              "      <td>0.011979</td>\n",
              "      <td>0.000090</td>\n",
              "      <td>100</td>\n",
              "      <td>15</td>\n",
              "      <td>gini</td>\n",
              "      <td>{'min_samples_leaf': 100, 'max_depth': 15, 'cr...</td>\n",
              "      <td>0.778773</td>\n",
              "      <td>0.778330</td>\n",
              "      <td>...</td>\n",
              "      <td>0.778865</td>\n",
              "      <td>0.778010</td>\n",
              "      <td>0.001137</td>\n",
              "      <td>4</td>\n",
              "      <td>0.780965</td>\n",
              "      <td>0.783257</td>\n",
              "      <td>0.782418</td>\n",
              "      <td>0.781539</td>\n",
              "      <td>0.782045</td>\n",
              "      <td>0.000870</td>\n",
              "    </tr>\n",
              "    <tr>\n",
              "      <th>7</th>\n",
              "      <td>0.236279</td>\n",
              "      <td>0.003232</td>\n",
              "      <td>0.012504</td>\n",
              "      <td>0.000830</td>\n",
              "      <td>30</td>\n",
              "      <td>9</td>\n",
              "      <td>gini</td>\n",
              "      <td>{'min_samples_leaf': 30, 'max_depth': 9, 'crit...</td>\n",
              "      <td>0.758927</td>\n",
              "      <td>0.755563</td>\n",
              "      <td>...</td>\n",
              "      <td>0.761503</td>\n",
              "      <td>0.759159</td>\n",
              "      <td>0.002274</td>\n",
              "      <td>6</td>\n",
              "      <td>0.763735</td>\n",
              "      <td>0.763172</td>\n",
              "      <td>0.768542</td>\n",
              "      <td>0.771886</td>\n",
              "      <td>0.766834</td>\n",
              "      <td>0.003586</td>\n",
              "    </tr>\n",
              "    <tr>\n",
              "      <th>8</th>\n",
              "      <td>0.250112</td>\n",
              "      <td>0.002322</td>\n",
              "      <td>0.011946</td>\n",
              "      <td>0.000786</td>\n",
              "      <td>60</td>\n",
              "      <td>10</td>\n",
              "      <td>entropy</td>\n",
              "      <td>{'min_samples_leaf': 60, 'max_depth': 10, 'cri...</td>\n",
              "      <td>0.757704</td>\n",
              "      <td>0.757576</td>\n",
              "      <td>...</td>\n",
              "      <td>0.760398</td>\n",
              "      <td>0.757818</td>\n",
              "      <td>0.001708</td>\n",
              "      <td>7</td>\n",
              "      <td>0.763222</td>\n",
              "      <td>0.765251</td>\n",
              "      <td>0.764083</td>\n",
              "      <td>0.763507</td>\n",
              "      <td>0.764016</td>\n",
              "      <td>0.000777</td>\n",
              "    </tr>\n",
              "    <tr>\n",
              "      <th>9</th>\n",
              "      <td>0.330163</td>\n",
              "      <td>0.005244</td>\n",
              "      <td>0.013292</td>\n",
              "      <td>0.000213</td>\n",
              "      <td>20</td>\n",
              "      <td>22</td>\n",
              "      <td>gini</td>\n",
              "      <td>{'min_samples_leaf': 20, 'max_depth': 22, 'cri...</td>\n",
              "      <td>0.795265</td>\n",
              "      <td>0.795060</td>\n",
              "      <td>...</td>\n",
              "      <td>0.794531</td>\n",
              "      <td>0.794356</td>\n",
              "      <td>0.001067</td>\n",
              "      <td>1</td>\n",
              "      <td>0.815531</td>\n",
              "      <td>0.815717</td>\n",
              "      <td>0.815378</td>\n",
              "      <td>0.816419</td>\n",
              "      <td>0.815761</td>\n",
              "      <td>0.000398</td>\n",
              "    </tr>\n",
              "  </tbody>\n",
              "</table>\n",
              "<p>10 rows × 21 columns</p>\n",
              "</div>\n",
              "      <button class=\"colab-df-convert\" onclick=\"convertToInteractive('df-29d8438a-aeb0-41c6-966f-4e576d101109')\"\n",
              "              title=\"Convert this dataframe to an interactive table.\"\n",
              "              style=\"display:none;\">\n",
              "        \n",
              "  <svg xmlns=\"http://www.w3.org/2000/svg\" height=\"24px\"viewBox=\"0 0 24 24\"\n",
              "       width=\"24px\">\n",
              "    <path d=\"M0 0h24v24H0V0z\" fill=\"none\"/>\n",
              "    <path d=\"M18.56 5.44l.94 2.06.94-2.06 2.06-.94-2.06-.94-.94-2.06-.94 2.06-2.06.94zm-11 1L8.5 8.5l.94-2.06 2.06-.94-2.06-.94L8.5 2.5l-.94 2.06-2.06.94zm10 10l.94 2.06.94-2.06 2.06-.94-2.06-.94-.94-2.06-.94 2.06-2.06.94z\"/><path d=\"M17.41 7.96l-1.37-1.37c-.4-.4-.92-.59-1.43-.59-.52 0-1.04.2-1.43.59L10.3 9.45l-7.72 7.72c-.78.78-.78 2.05 0 2.83L4 21.41c.39.39.9.59 1.41.59.51 0 1.02-.2 1.41-.59l7.78-7.78 2.81-2.81c.8-.78.8-2.07 0-2.86zM5.41 20L4 18.59l7.72-7.72 1.47 1.35L5.41 20z\"/>\n",
              "  </svg>\n",
              "      </button>\n",
              "      \n",
              "  <style>\n",
              "    .colab-df-container {\n",
              "      display:flex;\n",
              "      flex-wrap:wrap;\n",
              "      gap: 12px;\n",
              "    }\n",
              "\n",
              "    .colab-df-convert {\n",
              "      background-color: #E8F0FE;\n",
              "      border: none;\n",
              "      border-radius: 50%;\n",
              "      cursor: pointer;\n",
              "      display: none;\n",
              "      fill: #1967D2;\n",
              "      height: 32px;\n",
              "      padding: 0 0 0 0;\n",
              "      width: 32px;\n",
              "    }\n",
              "\n",
              "    .colab-df-convert:hover {\n",
              "      background-color: #E2EBFA;\n",
              "      box-shadow: 0px 1px 2px rgba(60, 64, 67, 0.3), 0px 1px 3px 1px rgba(60, 64, 67, 0.15);\n",
              "      fill: #174EA6;\n",
              "    }\n",
              "\n",
              "    [theme=dark] .colab-df-convert {\n",
              "      background-color: #3B4455;\n",
              "      fill: #D2E3FC;\n",
              "    }\n",
              "\n",
              "    [theme=dark] .colab-df-convert:hover {\n",
              "      background-color: #434B5C;\n",
              "      box-shadow: 0px 1px 3px 1px rgba(0, 0, 0, 0.15);\n",
              "      filter: drop-shadow(0px 1px 2px rgba(0, 0, 0, 0.3));\n",
              "      fill: #FFFFFF;\n",
              "    }\n",
              "  </style>\n",
              "\n",
              "      <script>\n",
              "        const buttonEl =\n",
              "          document.querySelector('#df-29d8438a-aeb0-41c6-966f-4e576d101109 button.colab-df-convert');\n",
              "        buttonEl.style.display =\n",
              "          google.colab.kernel.accessAllowed ? 'block' : 'none';\n",
              "\n",
              "        async function convertToInteractive(key) {\n",
              "          const element = document.querySelector('#df-29d8438a-aeb0-41c6-966f-4e576d101109');\n",
              "          const dataTable =\n",
              "            await google.colab.kernel.invokeFunction('convertToInteractive',\n",
              "                                                     [key], {});\n",
              "          if (!dataTable) return;\n",
              "\n",
              "          const docLinkHtml = 'Like what you see? Visit the ' +\n",
              "            '<a target=\"_blank\" href=https://colab.research.google.com/notebooks/data_table.ipynb>data table notebook</a>'\n",
              "            + ' to learn more about interactive tables.';\n",
              "          element.innerHTML = '';\n",
              "          dataTable['output_type'] = 'display_data';\n",
              "          await google.colab.output.renderOutput(dataTable, element);\n",
              "          const docLink = document.createElement('div');\n",
              "          docLink.innerHTML = docLinkHtml;\n",
              "          element.appendChild(docLink);\n",
              "        }\n",
              "      </script>\n",
              "    </div>\n",
              "  </div>\n",
              "  "
            ]
          },
          "metadata": {},
          "execution_count": 137
        }
      ]
    },
    {
      "cell_type": "code",
      "source": [
        "randomcv.best_params_"
      ],
      "metadata": {
        "colab": {
          "base_uri": "https://localhost:8080/"
        },
        "id": "mv5L40VUnR12",
        "outputId": "ca87a544-8a6d-4f35-c560-d98b27dd552b"
      },
      "execution_count": null,
      "outputs": [
        {
          "output_type": "execute_result",
          "data": {
            "text/plain": [
              "{'criterion': 'gini', 'max_depth': 22, 'min_samples_leaf': 20}"
            ]
          },
          "metadata": {},
          "execution_count": 138
        }
      ]
    },
    {
      "cell_type": "code",
      "source": [
        "best_tree = randomcv.best_estimator_"
      ],
      "metadata": {
        "id": "IQN7miZInXib"
      },
      "execution_count": null,
      "outputs": []
    },
    {
      "cell_type": "code",
      "source": [
        "feature_imp_best = pd.DataFrame(sorted(zip(randomcv.best_estimator_.feature_importances_,X_test.columns)), columns=['Value', 'Feature'])\n",
        "\n",
        "plt.figure(figsize=(20,10))\n",
        "sns.barplot(x='Value', y='Feature', data=feature_imp_best.sort_values(by=\"Value\", ascending = False).head(10))\n",
        "plt.title('RF Features')\n",
        "plt.tight_layout()\n",
        "plt.show()"
      ],
      "metadata": {
        "colab": {
          "base_uri": "https://localhost:8080/",
          "height": 602
        },
        "id": "2lETCZd3N9xe",
        "outputId": "e62a4f3d-eb74-450e-a00b-daecc7efd013"
      },
      "execution_count": null,
      "outputs": [
        {
          "output_type": "display_data",
          "data": {
            "text/plain": [
              "<Figure size 1440x720 with 1 Axes>"
            ],
            "image/png": "[encoded data removed]"
          },
          "metadata": {
            "needs_background": "light"
          }
        }
      ]
    },
    {
      "cell_type": "markdown",
      "source": [
        "# **Consigna 9**\n",
        "\n",
        "Para la mejor configuración encontrada, reportar métricas de clasificación y matriz de confusión. Compararlos con los valores obtenidos en 5)"
      ],
      "metadata": {
        "id": "caKyFd-uWR77"
      }
    },
    {
      "cell_type": "code",
      "source": [
        "from sklearn.metrics import confusion_matrix, classification_report\n",
        "\n",
        "best_model = randomcv.best_estimator_\n",
        "y_pred = best_model.predict(x_test)\n",
        "y_train_pred = best_model.predict(x_train)\n",
        "\n",
        "print(classification_report(y_test,y_pred))"
      ],
      "metadata": {
        "colab": {
          "base_uri": "https://localhost:8080/"
        },
        "id": "40FFee6ppfRb",
        "outputId": "e3fd2ab1-3bb9-44aa-f528-6a9522f3723f"
      },
      "execution_count": null,
      "outputs": [
        {
          "output_type": "stream",
          "name": "stdout",
          "text": [
            "              precision    recall  f1-score   support\n",
            "\n",
            "           1       0.80      0.73      0.76     10806\n",
            "           2       0.78      0.84      0.81     21678\n",
            "           3       0.85      0.80      0.82     10963\n",
            "\n",
            "   micro avg       0.80      0.80      0.80     43447\n",
            "   macro avg       0.81      0.79      0.80     43447\n",
            "weighted avg       0.80      0.80      0.80     43447\n",
            "\n"
          ]
        }
      ]
    },
    {
      "cell_type": "code",
      "source": [
        "cm = confusion_matrix(y_test,y_pred)\n",
        "sns.heatmap(cm, cmap='Blues',annot=True,fmt='g')\n",
        "plt.xlabel('Predicted')\n",
        "plt.ylabel('True')"
      ],
      "metadata": {
        "colab": {
          "base_uri": "https://localhost:8080/",
          "height": 296
        },
        "id": "Llzu0d1Spe5f",
        "outputId": "876cced9-ac88-4111-e55b-a98f6d2b3411"
      },
      "execution_count": null,
      "outputs": [
        {
          "output_type": "execute_result",
          "data": {
            "text/plain": [
              "Text(33.0, 0.5, 'True')"
            ]
          },
          "metadata": {},
          "execution_count": 142
        },
        {
          "output_type": "display_data",
          "data": {
            "text/plain": [
              "<Figure size 432x288 with 2 Axes>"
            ],
            "image/png": "[encoded data removed]"
          },
          "metadata": {
            "needs_background": "light"
          }
        }
      ]
    },
    {
      "cell_type": "code",
      "source": [
        "\n",
        "print(classification_report(y_test,y_pred))\n",
        "\n",
        "print('Accuracy score- Train acc: {}'.format(accuracy_score(y_train,y_train_pred)))\n",
        "print('Accuracy score- Test acc: {}'.format(accuracy_score(y_test,y_pred)))\n",
        "\n",
        "print('Precision score - Train acc: {}'.format(precision_score(y_train,y_train_pred, average='macro')))\n",
        "print('Precision score - Test acc: {}'.format(precision_score(y_test,y_pred, average='macro')))\n",
        "\n",
        "print('Recall score - Train acc: {}'.format(recall_score(y_train,y_train_pred, average='macro')))\n",
        "print('Recall score - Test acc: {}'.format(recall_score(y_test,y_pred, average='macro')))\n",
        "\n",
        "print('F1 score - Train acc: {}'.format(f1_score(y_train,y_train_pred, average='macro')))\n",
        "print('F1 score - Test acc: {}'.format(f1_score(y_test,y_pred, average='macro')))"
      ],
      "metadata": {
        "colab": {
          "base_uri": "https://localhost:8080/"
        },
        "id": "SU_wxpVBqg-C",
        "outputId": "14af33d5-724f-4619-9dde-c8decc214949"
      },
      "execution_count": null,
      "outputs": [
        {
          "output_type": "stream",
          "name": "stdout",
          "text": [
            "              precision    recall  f1-score   support\n",
            "\n",
            "           1       0.80      0.73      0.76     10806\n",
            "           2       0.78      0.84      0.81     21678\n",
            "           3       0.85      0.80      0.82     10963\n",
            "\n",
            "   micro avg       0.80      0.80      0.80     43447\n",
            "   macro avg       0.81      0.79      0.80     43447\n",
            "weighted avg       0.80      0.80      0.80     43447\n",
            "\n",
            "Accuracy score- Train acc: 0.81888847238937\n",
            "Accuracy score- Test acc: 0.8015743319446682\n",
            "Precision score - Train acc: 0.8254279070726244\n",
            "Precision score - Test acc: 0.8089805147877227\n",
            "Recall score - Train acc: 0.8079432141147572\n",
            "Recall score - Test acc: 0.7895113991173219\n",
            "F1 score - Train acc: 0.8158099397859452\n",
            "F1 score - Test acc: 0.7982255395522125\n"
          ]
        }
      ]
    },
    {
      "cell_type": "markdown",
      "source": [
        "# **Ejercicio opcional**\n",
        "\n",
        "La columna descripción tiene mucha información que puede ser de utilidad para el modelo. Crear nuevas columnas que crean relevantes para predecir el valor de la propiedad en base a extraer información de la descripción utilizando distintas herramientas de procesamiento del lenguaje natural (natural language processing, NLP). Puede ser desde buscar palabras clave (ej: piscina, luminoso), hasta herramientas más complejas como usar modelos preentrenados (ej: word embeddings, BERT, etc…). Ver referencias de posibles técnicas."
      ],
      "metadata": {
        "id": "CNabwtO3WbLj"
      }
    },
    {
      "cell_type": "markdown",
      "source": [
        "Creamos los siguientes features en base a la extracción de informacion de la descripción"
      ],
      "metadata": {
        "id": "m4oGxvqx6nyz"
      }
    },
    {
      "cell_type": "code",
      "source": [
        "df_model[['parrilla_descrip', 'cochera_descrip', 'amenities_descrip', 'pileta_descrip', 'balcon_descrip']]\n",
        "\n"
      ],
      "metadata": {
        "colab": {
          "base_uri": "https://localhost:8080/",
          "height": 455
        },
        "id": "IBP_3Yp46nGf",
        "outputId": "101d0c85-b664-4413-95cd-2a4026d6131e"
      },
      "execution_count": null,
      "outputs": [
        {
          "output_type": "execute_result",
          "data": {
            "text/plain": [
              "                          parrilla_descrip  cochera_descrip  \\\n",
              "id                                                            \n",
              "U3qdJMKXnOJm0Y1tWpnnfg==                 0                0   \n",
              "gsQB/JzLxaQdBLfNcm/DMw==                 1                1   \n",
              "SlPt6GJRjM+cO4rD3n3HFQ==                 1                0   \n",
              "ZaH+6DXJ4MLM6QqZXhgWiw==                 1                0   \n",
              "r7qrM5xaYo8QImSnqyKyYA==                 0                0   \n",
              "...                                    ...              ...   \n",
              "iLCO/FJyUIS7qWUZumhJ3Q==                 0                0   \n",
              "uW8iDzRUJQWYWwk3MQQRyw==                 0                0   \n",
              "fnn4k7xCc/xMRH6N56OnNA==                 0                0   \n",
              "bBhDAJkRbJWukgHc0u//Zw==                 0                1   \n",
              "kW2uYacPEyIcBykz/8rShA==                 1                1   \n",
              "\n",
              "                          amenities_descrip  pileta_descrip  balcon_descrip  \n",
              "id                                                                           \n",
              "U3qdJMKXnOJm0Y1tWpnnfg==                  0               0               0  \n",
              "gsQB/JzLxaQdBLfNcm/DMw==                  0               0               1  \n",
              "SlPt6GJRjM+cO4rD3n3HFQ==                  0               0               1  \n",
              "ZaH+6DXJ4MLM6QqZXhgWiw==                  1               0               1  \n",
              "r7qrM5xaYo8QImSnqyKyYA==                  0               0               1  \n",
              "...                                     ...             ...             ...  \n",
              "iLCO/FJyUIS7qWUZumhJ3Q==                  0               0               0  \n",
              "uW8iDzRUJQWYWwk3MQQRyw==                  0               0               1  \n",
              "fnn4k7xCc/xMRH6N56OnNA==                  0               0               0  \n",
              "bBhDAJkRbJWukgHc0u//Zw==                  0               0               1  \n",
              "kW2uYacPEyIcBykz/8rShA==                  0               0               0  \n",
              "\n",
              "[144821 rows x 5 columns]"
            ],
            "text/html": [
              "\n",
              "  <div id=\"df-39ece229-b810-4092-82db-7168e6f2d704\">\n",
              "    <div class=\"colab-df-container\">\n",
              "      <div>\n",
              "<style scoped>\n",
              "    .dataframe tbody tr th:only-of-type {\n",
              "        vertical-align: middle;\n",
              "    }\n",
              "\n",
              "    .dataframe tbody tr th {\n",
              "        vertical-align: top;\n",
              "    }\n",
              "\n",
              "    .dataframe thead th {\n",
              "        text-align: right;\n",
              "    }\n",
              "</style>\n",
              "<table border=\"1\" class=\"dataframe\">\n",
              "  <thead>\n",
              "    <tr style=\"text-align: right;\">\n",
              "      <th></th>\n",
              "      <th>parrilla_descrip</th>\n",
              "      <th>cochera_descrip</th>\n",
              "      <th>amenities_descrip</th>\n",
              "      <th>pileta_descrip</th>\n",
              "      <th>balcon_descrip</th>\n",
              "    </tr>\n",
              "    <tr>\n",
              "      <th>id</th>\n",
              "      <th></th>\n",
              "      <th></th>\n",
              "      <th></th>\n",
              "      <th></th>\n",
              "      <th></th>\n",
              "    </tr>\n",
              "  </thead>\n",
              "  <tbody>\n",
              "    <tr>\n",
              "      <th>U3qdJMKXnOJm0Y1tWpnnfg==</th>\n",
              "      <td>0</td>\n",
              "      <td>0</td>\n",
              "      <td>0</td>\n",
              "      <td>0</td>\n",
              "      <td>0</td>\n",
              "    </tr>\n",
              "    <tr>\n",
              "      <th>gsQB/JzLxaQdBLfNcm/DMw==</th>\n",
              "      <td>1</td>\n",
              "      <td>1</td>\n",
              "      <td>0</td>\n",
              "      <td>0</td>\n",
              "      <td>1</td>\n",
              "    </tr>\n",
              "    <tr>\n",
              "      <th>SlPt6GJRjM+cO4rD3n3HFQ==</th>\n",
              "      <td>1</td>\n",
              "      <td>0</td>\n",
              "      <td>0</td>\n",
              "      <td>0</td>\n",
              "      <td>1</td>\n",
              "    </tr>\n",
              "    <tr>\n",
              "      <th>ZaH+6DXJ4MLM6QqZXhgWiw==</th>\n",
              "      <td>1</td>\n",
              "      <td>0</td>\n",
              "      <td>1</td>\n",
              "      <td>0</td>\n",
              "      <td>1</td>\n",
              "    </tr>\n",
              "    <tr>\n",
              "      <th>r7qrM5xaYo8QImSnqyKyYA==</th>\n",
              "      <td>0</td>\n",
              "      <td>0</td>\n",
              "      <td>0</td>\n",
              "      <td>0</td>\n",
              "      <td>1</td>\n",
              "    </tr>\n",
              "    <tr>\n",
              "      <th>...</th>\n",
              "      <td>...</td>\n",
              "      <td>...</td>\n",
              "      <td>...</td>\n",
              "      <td>...</td>\n",
              "      <td>...</td>\n",
              "    </tr>\n",
              "    <tr>\n",
              "      <th>iLCO/FJyUIS7qWUZumhJ3Q==</th>\n",
              "      <td>0</td>\n",
              "      <td>0</td>\n",
              "      <td>0</td>\n",
              "      <td>0</td>\n",
              "      <td>0</td>\n",
              "    </tr>\n",
              "    <tr>\n",
              "      <th>uW8iDzRUJQWYWwk3MQQRyw==</th>\n",
              "      <td>0</td>\n",
              "      <td>0</td>\n",
              "      <td>0</td>\n",
              "      <td>0</td>\n",
              "      <td>1</td>\n",
              "    </tr>\n",
              "    <tr>\n",
              "      <th>fnn4k7xCc/xMRH6N56OnNA==</th>\n",
              "      <td>0</td>\n",
              "      <td>0</td>\n",
              "      <td>0</td>\n",
              "      <td>0</td>\n",
              "      <td>0</td>\n",
              "    </tr>\n",
              "    <tr>\n",
              "      <th>bBhDAJkRbJWukgHc0u//Zw==</th>\n",
              "      <td>0</td>\n",
              "      <td>1</td>\n",
              "      <td>0</td>\n",
              "      <td>0</td>\n",
              "      <td>1</td>\n",
              "    </tr>\n",
              "    <tr>\n",
              "      <th>kW2uYacPEyIcBykz/8rShA==</th>\n",
              "      <td>1</td>\n",
              "      <td>1</td>\n",
              "      <td>0</td>\n",
              "      <td>0</td>\n",
              "      <td>0</td>\n",
              "    </tr>\n",
              "  </tbody>\n",
              "</table>\n",
              "<p>144821 rows × 5 columns</p>\n",
              "</div>\n",
              "      <button class=\"colab-df-convert\" onclick=\"convertToInteractive('df-39ece229-b810-4092-82db-7168e6f2d704')\"\n",
              "              title=\"Convert this dataframe to an interactive table.\"\n",
              "              style=\"display:none;\">\n",
              "        \n",
              "  <svg xmlns=\"http://www.w3.org/2000/svg\" height=\"24px\"viewBox=\"0 0 24 24\"\n",
              "       width=\"24px\">\n",
              "    <path d=\"M0 0h24v24H0V0z\" fill=\"none\"/>\n",
              "    <path d=\"M18.56 5.44l.94 2.06.94-2.06 2.06-.94-2.06-.94-.94-2.06-.94 2.06-2.06.94zm-11 1L8.5 8.5l.94-2.06 2.06-.94-2.06-.94L8.5 2.5l-.94 2.06-2.06.94zm10 10l.94 2.06.94-2.06 2.06-.94-2.06-.94-.94-2.06-.94 2.06-2.06.94z\"/><path d=\"M17.41 7.96l-1.37-1.37c-.4-.4-.92-.59-1.43-.59-.52 0-1.04.2-1.43.59L10.3 9.45l-7.72 7.72c-.78.78-.78 2.05 0 2.83L4 21.41c.39.39.9.59 1.41.59.51 0 1.02-.2 1.41-.59l7.78-7.78 2.81-2.81c.8-.78.8-2.07 0-2.86zM5.41 20L4 18.59l7.72-7.72 1.47 1.35L5.41 20z\"/>\n",
              "  </svg>\n",
              "      </button>\n",
              "      \n",
              "  <style>\n",
              "    .colab-df-container {\n",
              "      display:flex;\n",
              "      flex-wrap:wrap;\n",
              "      gap: 12px;\n",
              "    }\n",
              "\n",
              "    .colab-df-convert {\n",
              "      background-color: #E8F0FE;\n",
              "      border: none;\n",
              "      border-radius: 50%;\n",
              "      cursor: pointer;\n",
              "      display: none;\n",
              "      fill: #1967D2;\n",
              "      height: 32px;\n",
              "      padding: 0 0 0 0;\n",
              "      width: 32px;\n",
              "    }\n",
              "\n",
              "    .colab-df-convert:hover {\n",
              "      background-color: #E2EBFA;\n",
              "      box-shadow: 0px 1px 2px rgba(60, 64, 67, 0.3), 0px 1px 3px 1px rgba(60, 64, 67, 0.15);\n",
              "      fill: #174EA6;\n",
              "    }\n",
              "\n",
              "    [theme=dark] .colab-df-convert {\n",
              "      background-color: #3B4455;\n",
              "      fill: #D2E3FC;\n",
              "    }\n",
              "\n",
              "    [theme=dark] .colab-df-convert:hover {\n",
              "      background-color: #434B5C;\n",
              "      box-shadow: 0px 1px 3px 1px rgba(0, 0, 0, 0.15);\n",
              "      filter: drop-shadow(0px 1px 2px rgba(0, 0, 0, 0.3));\n",
              "      fill: #FFFFFF;\n",
              "    }\n",
              "  </style>\n",
              "\n",
              "      <script>\n",
              "        const buttonEl =\n",
              "          document.querySelector('#df-39ece229-b810-4092-82db-7168e6f2d704 button.colab-df-convert');\n",
              "        buttonEl.style.display =\n",
              "          google.colab.kernel.accessAllowed ? 'block' : 'none';\n",
              "\n",
              "        async function convertToInteractive(key) {\n",
              "          const element = document.querySelector('#df-39ece229-b810-4092-82db-7168e6f2d704');\n",
              "          const dataTable =\n",
              "            await google.colab.kernel.invokeFunction('convertToInteractive',\n",
              "                                                     [key], {});\n",
              "          if (!dataTable) return;\n",
              "\n",
              "          const docLinkHtml = 'Like what you see? Visit the ' +\n",
              "            '<a target=\"_blank\" href=https://colab.research.google.com/notebooks/data_table.ipynb>data table notebook</a>'\n",
              "            + ' to learn more about interactive tables.';\n",
              "          element.innerHTML = '';\n",
              "          dataTable['output_type'] = 'display_data';\n",
              "          await google.colab.output.renderOutput(dataTable, element);\n",
              "          const docLink = document.createElement('div');\n",
              "          docLink.innerHTML = docLinkHtml;\n",
              "          element.appendChild(docLink);\n",
              "        }\n",
              "      </script>\n",
              "    </div>\n",
              "  </div>\n",
              "  "
            ]
          },
          "metadata": {},
          "execution_count": 144
        }
      ]
    }
  ]
}